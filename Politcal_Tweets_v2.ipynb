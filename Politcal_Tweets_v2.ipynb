{
  "cells": [
    {
      "cell_type": "markdown",
      "metadata": {
        "id": "view-in-github",
        "colab_type": "text"
      },
      "source": [
        "<a href=\"https://colab.research.google.com/github/abdusalam7474/Contract_review_Nig/blob/main/Politcal_Tweets_v2.ipynb\" target=\"_parent\"><img src=\"https://colab.research.google.com/assets/colab-badge.svg\" alt=\"Open In Colab\"/></a>"
      ]
    },
    {
      "cell_type": "code",
      "execution_count": null,
      "metadata": {
        "colab": {
          "base_uri": "https://localhost:8080/"
        },
        "id": "poKxfVH4mC0k",
        "outputId": "92721ff2-58b3-4e8d-c9d3-7e873d016381"
      },
      "outputs": [
        {
          "name": "stdout",
          "output_type": "stream",
          "text": [
            "/content/drive/MyDrive/Political_Tweet\n"
          ]
        }
      ],
      "source": [
        "cd /content/drive/MyDrive/Political_Tweet"
      ]
    },
    {
      "cell_type": "markdown",
      "metadata": {
        "id": "ApjHCneW8jfw"
      },
      "source": [
        "#Preprocessing and Training"
      ]
    },
    {
      "cell_type": "code",
      "execution_count": null,
      "metadata": {
        "colab": {
          "base_uri": "https://localhost:8080/"
        },
        "id": "CEL-ylf9vPc5",
        "outputId": "8e616a11-83e9-432a-91e6-b02d65c37495"
      },
      "outputs": [
        {
          "name": "stdout",
          "output_type": "stream",
          "text": [
            "Requirement already satisfied: keras_preprocessing in /usr/local/lib/python3.10/dist-packages (1.1.2)\n",
            "Requirement already satisfied: numpy>=1.9.1 in /usr/local/lib/python3.10/dist-packages (from keras_preprocessing) (1.22.4)\n",
            "Requirement already satisfied: six>=1.9.0 in /usr/local/lib/python3.10/dist-packages (from keras_preprocessing) (1.16.0)\n"
          ]
        }
      ],
      "source": [
        "pip install keras_preprocessing"
      ]
    },
    {
      "cell_type": "code",
      "execution_count": null,
      "metadata": {
        "id": "ggkfY8fr7EgM"
      },
      "outputs": [],
      "source": [
        "import pandas as pd\n",
        "import numpy as np\n",
        "from wordcloud import WordCloud\n",
        "import matplotlib.pyplot as plt\n",
        "import re\n",
        "import pickle\n",
        "import missingno as msno\n",
        "from sklearn.model_selection import train_test_split\n",
        "from keras.preprocessing.text import Tokenizer\n",
        "from keras_preprocessing.sequence import pad_sequences"
      ]
    },
    {
      "cell_type": "code",
      "execution_count": null,
      "metadata": {
        "colab": {
          "base_uri": "https://localhost:8080/"
        },
        "id": "idAC1-6W7ih9",
        "outputId": "4ab4ba77-b3c7-4e44-9474-6c4a60e20541"
      },
      "outputs": [
        {
          "name": "stdout",
          "output_type": "stream",
          "text": [
            "/content/drive/MyDrive/Political_Tweet/data/tweet_data\n"
          ]
        }
      ],
      "source": [
        "cd /content/drive/MyDrive/Political_Tweet/data/tweet_data/"
      ]
    },
    {
      "cell_type": "markdown",
      "metadata": {
        "id": "BZVpcP_zY9WE"
      },
      "source": [
        "##Data preprocessing"
      ]
    },
    {
      "cell_type": "code",
      "execution_count": null,
      "metadata": {
        "colab": {
          "base_uri": "https://localhost:8080/"
        },
        "id": "jxHag_M1BnvZ",
        "outputId": "a0af3df5-2995-45db-911f-5896524e22fa"
      },
      "outputs": [
        {
          "name": "stdout",
          "output_type": "stream",
          "text": [
            "mlp_model.sav         RNN_model.h5           tinubu_train.xlsx\n",
            "peter_train_old.xlsx  svc_model.sav          tokenizer.pickle\n",
            "peter_train.xlsx      tinubu_train_old.xlsx  xgb_model.sav\n"
          ]
        }
      ],
      "source": [
        "ls"
      ]
    },
    {
      "cell_type": "code",
      "execution_count": null,
      "metadata": {
        "id": "X3EJVA6NEIDu"
      },
      "outputs": [],
      "source": [
        "#df = pd.read_excel(\"aisha_yesufu_labour-party.xlsx\", header=0)\n",
        "#df2 = pd.read_excel(\"Asiwaju_Oladimej_peter-2.xlsx\", header=0)"
      ]
    },
    {
      "cell_type": "code",
      "execution_count": null,
      "metadata": {
        "id": "2EkImThrEPzr"
      },
      "outputs": [],
      "source": [
        "df = pd.read_excel(\"peter_train.xlsx\", header=0)\n",
        "df2 = pd.read_excel(\"tinubu_train.xlsx\", header=0)"
      ]
    },
    {
      "cell_type": "code",
      "execution_count": null,
      "metadata": {
        "id": "ouhQf-uCEjrv"
      },
      "outputs": [],
      "source": [
        "#df2 = df2.drop(columns=['Unnamed: 2', 'Unnamed: 3', 'Unnamed: 4', 'Unnamed: 5', 'Unnamed: 6', 'Unnamed: 7'])"
      ]
    },
    {
      "cell_type": "code",
      "execution_count": null,
      "metadata": {
        "id": "4dQ-ipmsKPc7"
      },
      "outputs": [],
      "source": [
        "\n",
        "#Assign label columns\n",
        "\n",
        "df['label'] = 0\n",
        "df2['label'] = 1"
      ]
    },
    {
      "cell_type": "code",
      "execution_count": null,
      "metadata": {
        "id": "_Y2wcIxoScte"
      },
      "outputs": [],
      "source": [
        "\n",
        "#drop date column\n",
        "\n",
        "df = df.drop(columns=['date'])\n",
        "df2 = df2.drop(columns=['date'])"
      ]
    },
    {
      "cell_type": "code",
      "execution_count": null,
      "metadata": {
        "colab": {
          "base_uri": "https://localhost:8080/",
          "height": 267
        },
        "id": "QSOMGfUaMPPX",
        "outputId": "27292b81-acb7-4563-ea39-8047452c41d7"
      },
      "outputs": [
        {
          "data": {
            "text/html": [
              "\n",
              "\n",
              "  <div id=\"df-a86d9341-672d-4fc8-86bc-23d52addd00a\">\n",
              "    <div class=\"colab-df-container\">\n",
              "      <div>\n",
              "<style scoped>\n",
              "    .dataframe tbody tr th:only-of-type {\n",
              "        vertical-align: middle;\n",
              "    }\n",
              "\n",
              "    .dataframe tbody tr th {\n",
              "        vertical-align: top;\n",
              "    }\n",
              "\n",
              "    .dataframe thead th {\n",
              "        text-align: right;\n",
              "    }\n",
              "</style>\n",
              "<table border=\"1\" class=\"dataframe\">\n",
              "  <thead>\n",
              "    <tr style=\"text-align: right;\">\n",
              "      <th></th>\n",
              "      <th>tweet</th>\n",
              "      <th>label</th>\n",
              "    </tr>\n",
              "  </thead>\n",
              "  <tbody>\n",
              "    <tr>\n",
              "      <th>0</th>\n",
              "      <td>Obi</td>\n",
              "      <td>0</td>\n",
              "    </tr>\n",
              "    <tr>\n",
              "      <th>1</th>\n",
              "      <td>Peter Obi voted</td>\n",
              "      <td>0</td>\n",
              "    </tr>\n",
              "    <tr>\n",
              "      <th>2</th>\n",
              "      <td>Obi</td>\n",
              "      <td>0</td>\n",
              "    </tr>\n",
              "    <tr>\n",
              "      <th>3</th>\n",
              "      <td>I wish Obi the best</td>\n",
              "      <td>0</td>\n",
              "    </tr>\n",
              "    <tr>\n",
              "      <th>4</th>\n",
              "      <td>But the spokesman for the DSS, Dr. Peter Afuna...</td>\n",
              "      <td>0</td>\n",
              "    </tr>\n",
              "  </tbody>\n",
              "</table>\n",
              "</div>\n",
              "      <button class=\"colab-df-convert\" onclick=\"convertToInteractive('df-a86d9341-672d-4fc8-86bc-23d52addd00a')\"\n",
              "              title=\"Convert this dataframe to an interactive table.\"\n",
              "              style=\"display:none;\">\n",
              "\n",
              "  <svg xmlns=\"http://www.w3.org/2000/svg\" height=\"24px\"viewBox=\"0 0 24 24\"\n",
              "       width=\"24px\">\n",
              "    <path d=\"M0 0h24v24H0V0z\" fill=\"none\"/>\n",
              "    <path d=\"M18.56 5.44l.94 2.06.94-2.06 2.06-.94-2.06-.94-.94-2.06-.94 2.06-2.06.94zm-11 1L8.5 8.5l.94-2.06 2.06-.94-2.06-.94L8.5 2.5l-.94 2.06-2.06.94zm10 10l.94 2.06.94-2.06 2.06-.94-2.06-.94-.94-2.06-.94 2.06-2.06.94z\"/><path d=\"M17.41 7.96l-1.37-1.37c-.4-.4-.92-.59-1.43-.59-.52 0-1.04.2-1.43.59L10.3 9.45l-7.72 7.72c-.78.78-.78 2.05 0 2.83L4 21.41c.39.39.9.59 1.41.59.51 0 1.02-.2 1.41-.59l7.78-7.78 2.81-2.81c.8-.78.8-2.07 0-2.86zM5.41 20L4 18.59l7.72-7.72 1.47 1.35L5.41 20z\"/>\n",
              "  </svg>\n",
              "      </button>\n",
              "\n",
              "\n",
              "\n",
              "    <div id=\"df-c3902f85-afe0-43d5-9de1-e54841cff456\">\n",
              "      <button class=\"colab-df-quickchart\" onclick=\"quickchart('df-c3902f85-afe0-43d5-9de1-e54841cff456')\"\n",
              "              title=\"Suggest charts.\"\n",
              "              style=\"display:none;\">\n",
              "\n",
              "<svg xmlns=\"http://www.w3.org/2000/svg\" height=\"24px\"viewBox=\"0 0 24 24\"\n",
              "     width=\"24px\">\n",
              "    <g>\n",
              "        <path d=\"M19 3H5c-1.1 0-2 .9-2 2v14c0 1.1.9 2 2 2h14c1.1 0 2-.9 2-2V5c0-1.1-.9-2-2-2zM9 17H7v-7h2v7zm4 0h-2V7h2v10zm4 0h-2v-4h2v4z\"/>\n",
              "    </g>\n",
              "</svg>\n",
              "      </button>\n",
              "    </div>\n",
              "\n",
              "<style>\n",
              "  .colab-df-quickchart {\n",
              "    background-color: #E8F0FE;\n",
              "    border: none;\n",
              "    border-radius: 50%;\n",
              "    cursor: pointer;\n",
              "    display: none;\n",
              "    fill: #1967D2;\n",
              "    height: 32px;\n",
              "    padding: 0 0 0 0;\n",
              "    width: 32px;\n",
              "  }\n",
              "\n",
              "  .colab-df-quickchart:hover {\n",
              "    background-color: #E2EBFA;\n",
              "    box-shadow: 0px 1px 2px rgba(60, 64, 67, 0.3), 0px 1px 3px 1px rgba(60, 64, 67, 0.15);\n",
              "    fill: #174EA6;\n",
              "  }\n",
              "\n",
              "  [theme=dark] .colab-df-quickchart {\n",
              "    background-color: #3B4455;\n",
              "    fill: #D2E3FC;\n",
              "  }\n",
              "\n",
              "  [theme=dark] .colab-df-quickchart:hover {\n",
              "    background-color: #434B5C;\n",
              "    box-shadow: 0px 1px 3px 1px rgba(0, 0, 0, 0.15);\n",
              "    filter: drop-shadow(0px 1px 2px rgba(0, 0, 0, 0.3));\n",
              "    fill: #FFFFFF;\n",
              "  }\n",
              "</style>\n",
              "\n",
              "    <script>\n",
              "      async function quickchart(key) {\n",
              "        const containerElement = document.querySelector('#' + key);\n",
              "        const charts = await google.colab.kernel.invokeFunction(\n",
              "            'suggestCharts', [key], {});\n",
              "      }\n",
              "    </script>\n",
              "\n",
              "      <script>\n",
              "\n",
              "function displayQuickchartButton(domScope) {\n",
              "  let quickchartButtonEl =\n",
              "    domScope.querySelector('#df-c3902f85-afe0-43d5-9de1-e54841cff456 button.colab-df-quickchart');\n",
              "  quickchartButtonEl.style.display =\n",
              "    google.colab.kernel.accessAllowed ? 'block' : 'none';\n",
              "}\n",
              "\n",
              "        displayQuickchartButton(document);\n",
              "      </script>\n",
              "      <style>\n",
              "    .colab-df-container {\n",
              "      display:flex;\n",
              "      flex-wrap:wrap;\n",
              "      gap: 12px;\n",
              "    }\n",
              "\n",
              "    .colab-df-convert {\n",
              "      background-color: #E8F0FE;\n",
              "      border: none;\n",
              "      border-radius: 50%;\n",
              "      cursor: pointer;\n",
              "      display: none;\n",
              "      fill: #1967D2;\n",
              "      height: 32px;\n",
              "      padding: 0 0 0 0;\n",
              "      width: 32px;\n",
              "    }\n",
              "\n",
              "    .colab-df-convert:hover {\n",
              "      background-color: #E2EBFA;\n",
              "      box-shadow: 0px 1px 2px rgba(60, 64, 67, 0.3), 0px 1px 3px 1px rgba(60, 64, 67, 0.15);\n",
              "      fill: #174EA6;\n",
              "    }\n",
              "\n",
              "    [theme=dark] .colab-df-convert {\n",
              "      background-color: #3B4455;\n",
              "      fill: #D2E3FC;\n",
              "    }\n",
              "\n",
              "    [theme=dark] .colab-df-convert:hover {\n",
              "      background-color: #434B5C;\n",
              "      box-shadow: 0px 1px 3px 1px rgba(0, 0, 0, 0.15);\n",
              "      filter: drop-shadow(0px 1px 2px rgba(0, 0, 0, 0.3));\n",
              "      fill: #FFFFFF;\n",
              "    }\n",
              "  </style>\n",
              "\n",
              "      <script>\n",
              "        const buttonEl =\n",
              "          document.querySelector('#df-a86d9341-672d-4fc8-86bc-23d52addd00a button.colab-df-convert');\n",
              "        buttonEl.style.display =\n",
              "          google.colab.kernel.accessAllowed ? 'block' : 'none';\n",
              "\n",
              "        async function convertToInteractive(key) {\n",
              "          const element = document.querySelector('#df-a86d9341-672d-4fc8-86bc-23d52addd00a');\n",
              "          const dataTable =\n",
              "            await google.colab.kernel.invokeFunction('convertToInteractive',\n",
              "                                                     [key], {});\n",
              "          if (!dataTable) return;\n",
              "\n",
              "          const docLinkHtml = 'Like what you see? Visit the ' +\n",
              "            '<a target=\"_blank\" href=https://colab.research.google.com/notebooks/data_table.ipynb>data table notebook</a>'\n",
              "            + ' to learn more about interactive tables.';\n",
              "          element.innerHTML = '';\n",
              "          dataTable['output_type'] = 'display_data';\n",
              "          await google.colab.output.renderOutput(dataTable, element);\n",
              "          const docLink = document.createElement('div');\n",
              "          docLink.innerHTML = docLinkHtml;\n",
              "          element.appendChild(docLink);\n",
              "        }\n",
              "      </script>\n",
              "    </div>\n",
              "  </div>\n"
            ],
            "text/plain": [
              "                                               tweet  label\n",
              "0                                                Obi      0\n",
              "1                                    Peter Obi voted      0\n",
              "2                                                Obi      0\n",
              "3                                I wish Obi the best      0\n",
              "4  But the spokesman for the DSS, Dr. Peter Afuna...      0"
            ]
          },
          "execution_count": 8,
          "metadata": {},
          "output_type": "execute_result"
        }
      ],
      "source": [
        "df.head()"
      ]
    },
    {
      "cell_type": "code",
      "execution_count": null,
      "metadata": {
        "colab": {
          "base_uri": "https://localhost:8080/",
          "height": 337
        },
        "id": "yWGLzSvSKhY0",
        "outputId": "eac442b6-7418-41ee-ac2d-e76d83d9553c"
      },
      "outputs": [
        {
          "data": {
            "text/html": [
              "\n",
              "\n",
              "  <div id=\"df-f7a34dd7-ad86-4b47-b4db-819d7ef64cbe\">\n",
              "    <div class=\"colab-df-container\">\n",
              "      <div>\n",
              "<style scoped>\n",
              "    .dataframe tbody tr th:only-of-type {\n",
              "        vertical-align: middle;\n",
              "    }\n",
              "\n",
              "    .dataframe tbody tr th {\n",
              "        vertical-align: top;\n",
              "    }\n",
              "\n",
              "    .dataframe thead th {\n",
              "        text-align: right;\n",
              "    }\n",
              "</style>\n",
              "<table border=\"1\" class=\"dataframe\">\n",
              "  <thead>\n",
              "    <tr style=\"text-align: right;\">\n",
              "      <th></th>\n",
              "      <th>tweet</th>\n",
              "      <th>label</th>\n",
              "    </tr>\n",
              "  </thead>\n",
              "  <tbody>\n",
              "    <tr>\n",
              "      <th>0</th>\n",
              "      <td>\".......I left the UK in 2025......\"\\n\\nPeter Obi</td>\n",
              "      <td>1</td>\n",
              "    </tr>\n",
              "    <tr>\n",
              "      <th>1</th>\n",
              "      <td>Once Obi starts answering a question with \"THA...</td>\n",
              "      <td>1</td>\n",
              "    </tr>\n",
              "    <tr>\n",
              "      <th>2</th>\n",
              "      <td>LP submitted Party Membership Register to INEC...</td>\n",
              "      <td>1</td>\n",
              "    </tr>\n",
              "    <tr>\n",
              "      <th>3</th>\n",
              "      <td>AriseTv: Did you leak that conversation betwee...</td>\n",
              "      <td>1</td>\n",
              "    </tr>\n",
              "    <tr>\n",
              "      <th>4</th>\n",
              "      <td>Obi’s legacy......\\n\\nSAY NO TO IPOB TERRORIST...</td>\n",
              "      <td>1</td>\n",
              "    </tr>\n",
              "  </tbody>\n",
              "</table>\n",
              "</div>\n",
              "      <button class=\"colab-df-convert\" onclick=\"convertToInteractive('df-f7a34dd7-ad86-4b47-b4db-819d7ef64cbe')\"\n",
              "              title=\"Convert this dataframe to an interactive table.\"\n",
              "              style=\"display:none;\">\n",
              "\n",
              "  <svg xmlns=\"http://www.w3.org/2000/svg\" height=\"24px\"viewBox=\"0 0 24 24\"\n",
              "       width=\"24px\">\n",
              "    <path d=\"M0 0h24v24H0V0z\" fill=\"none\"/>\n",
              "    <path d=\"M18.56 5.44l.94 2.06.94-2.06 2.06-.94-2.06-.94-.94-2.06-.94 2.06-2.06.94zm-11 1L8.5 8.5l.94-2.06 2.06-.94-2.06-.94L8.5 2.5l-.94 2.06-2.06.94zm10 10l.94 2.06.94-2.06 2.06-.94-2.06-.94-.94-2.06-.94 2.06-2.06.94z\"/><path d=\"M17.41 7.96l-1.37-1.37c-.4-.4-.92-.59-1.43-.59-.52 0-1.04.2-1.43.59L10.3 9.45l-7.72 7.72c-.78.78-.78 2.05 0 2.83L4 21.41c.39.39.9.59 1.41.59.51 0 1.02-.2 1.41-.59l7.78-7.78 2.81-2.81c.8-.78.8-2.07 0-2.86zM5.41 20L4 18.59l7.72-7.72 1.47 1.35L5.41 20z\"/>\n",
              "  </svg>\n",
              "      </button>\n",
              "\n",
              "\n",
              "\n",
              "    <div id=\"df-4ca203e3-eedd-4efe-919e-69d14ee79af9\">\n",
              "      <button class=\"colab-df-quickchart\" onclick=\"quickchart('df-4ca203e3-eedd-4efe-919e-69d14ee79af9')\"\n",
              "              title=\"Suggest charts.\"\n",
              "              style=\"display:none;\">\n",
              "\n",
              "<svg xmlns=\"http://www.w3.org/2000/svg\" height=\"24px\"viewBox=\"0 0 24 24\"\n",
              "     width=\"24px\">\n",
              "    <g>\n",
              "        <path d=\"M19 3H5c-1.1 0-2 .9-2 2v14c0 1.1.9 2 2 2h14c1.1 0 2-.9 2-2V5c0-1.1-.9-2-2-2zM9 17H7v-7h2v7zm4 0h-2V7h2v10zm4 0h-2v-4h2v4z\"/>\n",
              "    </g>\n",
              "</svg>\n",
              "      </button>\n",
              "    </div>\n",
              "\n",
              "<style>\n",
              "  .colab-df-quickchart {\n",
              "    background-color: #E8F0FE;\n",
              "    border: none;\n",
              "    border-radius: 50%;\n",
              "    cursor: pointer;\n",
              "    display: none;\n",
              "    fill: #1967D2;\n",
              "    height: 32px;\n",
              "    padding: 0 0 0 0;\n",
              "    width: 32px;\n",
              "  }\n",
              "\n",
              "  .colab-df-quickchart:hover {\n",
              "    background-color: #E2EBFA;\n",
              "    box-shadow: 0px 1px 2px rgba(60, 64, 67, 0.3), 0px 1px 3px 1px rgba(60, 64, 67, 0.15);\n",
              "    fill: #174EA6;\n",
              "  }\n",
              "\n",
              "  [theme=dark] .colab-df-quickchart {\n",
              "    background-color: #3B4455;\n",
              "    fill: #D2E3FC;\n",
              "  }\n",
              "\n",
              "  [theme=dark] .colab-df-quickchart:hover {\n",
              "    background-color: #434B5C;\n",
              "    box-shadow: 0px 1px 3px 1px rgba(0, 0, 0, 0.15);\n",
              "    filter: drop-shadow(0px 1px 2px rgba(0, 0, 0, 0.3));\n",
              "    fill: #FFFFFF;\n",
              "  }\n",
              "</style>\n",
              "\n",
              "    <script>\n",
              "      async function quickchart(key) {\n",
              "        const containerElement = document.querySelector('#' + key);\n",
              "        const charts = await google.colab.kernel.invokeFunction(\n",
              "            'suggestCharts', [key], {});\n",
              "      }\n",
              "    </script>\n",
              "\n",
              "      <script>\n",
              "\n",
              "function displayQuickchartButton(domScope) {\n",
              "  let quickchartButtonEl =\n",
              "    domScope.querySelector('#df-4ca203e3-eedd-4efe-919e-69d14ee79af9 button.colab-df-quickchart');\n",
              "  quickchartButtonEl.style.display =\n",
              "    google.colab.kernel.accessAllowed ? 'block' : 'none';\n",
              "}\n",
              "\n",
              "        displayQuickchartButton(document);\n",
              "      </script>\n",
              "      <style>\n",
              "    .colab-df-container {\n",
              "      display:flex;\n",
              "      flex-wrap:wrap;\n",
              "      gap: 12px;\n",
              "    }\n",
              "\n",
              "    .colab-df-convert {\n",
              "      background-color: #E8F0FE;\n",
              "      border: none;\n",
              "      border-radius: 50%;\n",
              "      cursor: pointer;\n",
              "      display: none;\n",
              "      fill: #1967D2;\n",
              "      height: 32px;\n",
              "      padding: 0 0 0 0;\n",
              "      width: 32px;\n",
              "    }\n",
              "\n",
              "    .colab-df-convert:hover {\n",
              "      background-color: #E2EBFA;\n",
              "      box-shadow: 0px 1px 2px rgba(60, 64, 67, 0.3), 0px 1px 3px 1px rgba(60, 64, 67, 0.15);\n",
              "      fill: #174EA6;\n",
              "    }\n",
              "\n",
              "    [theme=dark] .colab-df-convert {\n",
              "      background-color: #3B4455;\n",
              "      fill: #D2E3FC;\n",
              "    }\n",
              "\n",
              "    [theme=dark] .colab-df-convert:hover {\n",
              "      background-color: #434B5C;\n",
              "      box-shadow: 0px 1px 3px 1px rgba(0, 0, 0, 0.15);\n",
              "      filter: drop-shadow(0px 1px 2px rgba(0, 0, 0, 0.3));\n",
              "      fill: #FFFFFF;\n",
              "    }\n",
              "  </style>\n",
              "\n",
              "      <script>\n",
              "        const buttonEl =\n",
              "          document.querySelector('#df-f7a34dd7-ad86-4b47-b4db-819d7ef64cbe button.colab-df-convert');\n",
              "        buttonEl.style.display =\n",
              "          google.colab.kernel.accessAllowed ? 'block' : 'none';\n",
              "\n",
              "        async function convertToInteractive(key) {\n",
              "          const element = document.querySelector('#df-f7a34dd7-ad86-4b47-b4db-819d7ef64cbe');\n",
              "          const dataTable =\n",
              "            await google.colab.kernel.invokeFunction('convertToInteractive',\n",
              "                                                     [key], {});\n",
              "          if (!dataTable) return;\n",
              "\n",
              "          const docLinkHtml = 'Like what you see? Visit the ' +\n",
              "            '<a target=\"_blank\" href=https://colab.research.google.com/notebooks/data_table.ipynb>data table notebook</a>'\n",
              "            + ' to learn more about interactive tables.';\n",
              "          element.innerHTML = '';\n",
              "          dataTable['output_type'] = 'display_data';\n",
              "          await google.colab.output.renderOutput(dataTable, element);\n",
              "          const docLink = document.createElement('div');\n",
              "          docLink.innerHTML = docLinkHtml;\n",
              "          element.appendChild(docLink);\n",
              "        }\n",
              "      </script>\n",
              "    </div>\n",
              "  </div>\n"
            ],
            "text/plain": [
              "                                               tweet  label\n",
              "0  \".......I left the UK in 2025......\"\\n\\nPeter Obi      1\n",
              "1  Once Obi starts answering a question with \"THA...      1\n",
              "2  LP submitted Party Membership Register to INEC...      1\n",
              "3  AriseTv: Did you leak that conversation betwee...      1\n",
              "4  Obi’s legacy......\\n\\nSAY NO TO IPOB TERRORIST...      1"
            ]
          },
          "execution_count": 9,
          "metadata": {},
          "output_type": "execute_result"
        }
      ],
      "source": [
        "df2.head()"
      ]
    },
    {
      "cell_type": "code",
      "execution_count": null,
      "metadata": {
        "colab": {
          "base_uri": "https://localhost:8080/"
        },
        "id": "ujoPYM63FV0h",
        "outputId": "eaaffce3-7618-4580-dd5a-20320e3b913b"
      },
      "outputs": [
        {
          "name": "stdout",
          "output_type": "stream",
          "text": [
            "1390\n",
            "1107\n"
          ]
        }
      ],
      "source": [
        "print(len(df))\n",
        "print(len(df2))"
      ]
    },
    {
      "cell_type": "code",
      "execution_count": null,
      "metadata": {
        "id": "TjN_w807po0p"
      },
      "outputs": [],
      "source": [
        "df_3 = df[:1107]"
      ]
    },
    {
      "cell_type": "code",
      "execution_count": null,
      "metadata": {
        "colab": {
          "base_uri": "https://localhost:8080/"
        },
        "id": "Yh17_R4zRfIe",
        "outputId": "f309651f-1089-4fd5-97a4-d5204079c8a1"
      },
      "outputs": [
        {
          "data": {
            "text/plain": [
              "2214"
            ]
          },
          "execution_count": 12,
          "metadata": {},
          "output_type": "execute_result"
        }
      ],
      "source": [
        "\n",
        "#join the two dataframe\n",
        "\n",
        "#train = pd.concat([df,df2],axis=0, ignore_index=True)\n",
        "train = pd.concat([df_3,df2],axis=0, ignore_index=True)\n",
        "len(train)"
      ]
    },
    {
      "cell_type": "code",
      "execution_count": null,
      "metadata": {
        "colab": {
          "base_uri": "https://localhost:8080/",
          "height": 173
        },
        "id": "V2Q1UkTfH-l7",
        "outputId": "1c26adf4-5d54-481a-b5b7-42cbdaa5eb0d"
      },
      "outputs": [
        {
          "data": {
            "text/plain": [
              "<Axes: >"
            ]
          },
          "execution_count": 55,
          "metadata": {},
          "output_type": "execute_result"
        },
        {
          "data": {
            "image/png": "[encoded data removed]",
            "text/plain": [
              "<Figure size 2500x1000 with 2 Axes>"
            ]
          },
          "metadata": {},
          "output_type": "display_data"
        }
      ],
      "source": [
        "#visualize missing values\n",
        "\n",
        "msno.matrix(train)"
      ]
    },
    {
      "cell_type": "code",
      "execution_count": null,
      "metadata": {
        "colab": {
          "base_uri": "https://localhost:8080/"
        },
        "id": "13XbZujQLmKD",
        "outputId": "286d7e99-d2c9-4f88-a592-b90e2e062d5f"
      },
      "outputs": [
        {
          "data": {
            "text/plain": [
              "10"
            ]
          },
          "execution_count": 56,
          "metadata": {},
          "output_type": "execute_result"
        }
      ],
      "source": [
        "missing_values = train.isna().sum()\n",
        "missing_values.sum()"
      ]
    },
    {
      "cell_type": "code",
      "execution_count": null,
      "metadata": {
        "colab": {
          "base_uri": "https://localhost:8080/"
        },
        "id": "ccvBeKteGhQl",
        "outputId": "7d190ba5-42ec-4284-a843-84e20895e42d"
      },
      "outputs": [
        {
          "data": {
            "text/plain": [
              "2204"
            ]
          },
          "execution_count": 13,
          "metadata": {},
          "output_type": "execute_result"
        }
      ],
      "source": [
        "\n",
        "#Drop empty values\n",
        "train.dropna(inplace=True)\n",
        "len(train)"
      ]
    },
    {
      "cell_type": "code",
      "execution_count": null,
      "metadata": {
        "colab": {
          "base_uri": "https://localhost:8080/"
        },
        "id": "MdsUI-P0h7jU",
        "outputId": "1b95f3f2-dee4-4989-b37f-a534566f0115"
      },
      "outputs": [
        {
          "name": "stdout",
          "output_type": "stream",
          "text": [
            "2204\n",
            "2204\n"
          ]
        }
      ],
      "source": [
        "features = train['tweet']\n",
        "labels = train['label']\n",
        "\n",
        "print(len(features))\n",
        "print(len(labels))"
      ]
    },
    {
      "cell_type": "markdown",
      "metadata": {
        "id": "QM0AisZM-HVQ"
      },
      "source": [
        "Data cleaning"
      ]
    },
    {
      "cell_type": "code",
      "execution_count": null,
      "metadata": {
        "id": "8IaXc3Yw-JsB"
      },
      "outputs": [],
      "source": [
        "\n",
        "#removing links using regular expression\n",
        "\n",
        "\n",
        "# regular expression pattern to match URLs\n",
        "url_pattern = re.compile(r'https?://\\S+')\n",
        "\n",
        "# remove URLs from 'text' column using regular expressions\n",
        "features = features.apply(lambda x: url_pattern.sub('', x))"
      ]
    },
    {
      "cell_type": "code",
      "execution_count": null,
      "metadata": {
        "colab": {
          "base_uri": "https://localhost:8080/"
        },
        "id": "9aj_escp-6hP",
        "outputId": "d608b62f-1511-4a1a-e976-92de93d75bc7"
      },
      "outputs": [
        {
          "name": "stdout",
          "output_type": "stream",
          "text": [
            "0                                                  Obi\n",
            "1                                      Peter Obi voted\n",
            "2                                                  Obi\n",
            "3                                        wish Obi best\n",
            "4    spokesman DSS, Dr. Peter Afunanya, could immed...\n",
            "5                                        Tell love Obi\n",
            "6    Fake news Rufai Dancing LP Lagos debunked.Chec...\n",
            "7           condemn attacks LP supporters Lagos today.\n",
            "8    people sharing pictures Peter Obi prove point,...\n",
            "9                           Obi overtakes Tinubu Lagos\n",
            "Name: tweet, dtype: object\n"
          ]
        },
        {
          "name": "stderr",
          "output_type": "stream",
          "text": [
            "[nltk_data] Downloading package stopwords to /root/nltk_data...\n",
            "[nltk_data]   Unzipping corpora/stopwords.zip.\n"
          ]
        }
      ],
      "source": [
        "#Removing stopwords\n",
        "\n",
        "import nltk\n",
        "nltk.download('stopwords') # download the stopwords list\n",
        "from nltk.corpus import stopwords\n",
        "\n",
        "# define a set of stopwords to remove\n",
        "stop_words = set(stopwords.words('english'))\n",
        "\n",
        "# tokenize the tweet text and remove stopwords\n",
        "features = features.apply(lambda x: ' '.join([word for word in x.split() if word.lower() not in stop_words]))\n",
        "\n",
        "print(features[:10])"
      ]
    },
    {
      "cell_type": "code",
      "execution_count": null,
      "metadata": {
        "colab": {
          "base_uri": "https://localhost:8080/"
        },
        "id": "uTR_S14ucv2q",
        "outputId": "b080af68-8842-4506-aec1-21522d4549dc"
      },
      "outputs": [
        {
          "name": "stdout",
          "output_type": "stream",
          "text": [
            "0                                                     Obi\n",
            "1                                         Peter Obi voted\n",
            "2                                                     Obi\n",
            "3                                           wish Obi best\n",
            "4       spokesman DSS Dr Peter Afunanya could immediat...\n",
            "                              ...                        \n",
            "2209                                      Tinubu good man\n",
            "2210                                             Obi liar\n",
            "2211                                              Obi lie\n",
            "2212                                          Obi bad man\n",
            "2213                             Tinubu president Nigeria\n",
            "Name: tweet, Length: 2204, dtype: object\n"
          ]
        }
      ],
      "source": [
        "#Removing puctuations and special characheters\n",
        "\n",
        "# Define regular expression pattern to match new line characters and other special characters\n",
        "pattern = r\"[\\n#.?,()!~$%./_-]\"\n",
        "\n",
        "# Remove new line characters and other special characters from tweet column\n",
        "features = features.apply(lambda x: re.sub(pattern, '', x))\n",
        "\n",
        "# Print resulting dataframe\n",
        "print(features)"
      ]
    },
    {
      "cell_type": "markdown",
      "metadata": {
        "id": "fQgx9K9yBZcd"
      },
      "source": [
        "word cloud"
      ]
    },
    {
      "cell_type": "code",
      "execution_count": null,
      "metadata": {
        "colab": {
          "base_uri": "https://localhost:8080/",
          "height": 182
        },
        "id": "JyPR-gn6BYxl",
        "outputId": "867af9da-5303-44ee-c313-fae89cb6fbf0"
      },
      "outputs": [
        {
          "data": {
            "image/png": "[encoded data removed]",
            "text/plain": [
              "<Figure size 1200x1000 with 1 Axes>"
            ]
          },
          "metadata": {},
          "output_type": "display_data"
        }
      ],
      "source": [
        "\n",
        "# combine all tweet text into a single string\n",
        "all_text = ' '.join(features)\n",
        "\n",
        "# create a word cloud\n",
        "wordcloud = WordCloud(width=800, height=400, background_color='white').generate(all_text)\n",
        "\n",
        "# plot the word cloud\n",
        "plt.figure(figsize=(12, 10))\n",
        "plt.imshow(wordcloud, interpolation='bilinear')\n",
        "plt.axis('off')\n",
        "plt.show()"
      ]
    },
    {
      "cell_type": "code",
      "execution_count": null,
      "metadata": {
        "colab": {
          "base_uri": "https://localhost:8080/",
          "height": 52
        },
        "id": "wIR5wUZtzY9I",
        "outputId": "b3883d01-c249-499d-e011-0af02a7f3d03"
      },
      "outputs": [
        {
          "data": {
            "application/vnd.google.colaboratory.intrinsic+json": {
              "type": "string"
            },
            "text/plain": [
              "'condemn attacks LP supporters Lagos today'"
            ]
          },
          "execution_count": 67,
          "metadata": {},
          "output_type": "execute_result"
        }
      ],
      "source": [
        "features[44]"
      ]
    },
    {
      "cell_type": "markdown",
      "metadata": {
        "id": "IGCZ2Ivn-acD"
      },
      "source": [
        "vocabularies"
      ]
    },
    {
      "cell_type": "code",
      "execution_count": null,
      "metadata": {
        "colab": {
          "base_uri": "https://localhost:8080/"
        },
        "id": "dBRHgYBm1G8i",
        "outputId": "7634c3aa-ccb7-4214-c5cd-71c12ac9f12f"
      },
      "outputs": [
        {
          "name": "stdout",
          "output_type": "stream",
          "text": [
            "9420\n"
          ]
        }
      ],
      "source": [
        "#-Extracting Vocabs\n",
        "words = []\n",
        "for feature in features:\n",
        "    text = feature.split(\" \")\n",
        "    for item in text:\n",
        "       if item not in words:\n",
        "          words.append(item)\n",
        "vocab_size = len(words)\n",
        "print(vocab_size)"
      ]
    },
    {
      "cell_type": "markdown",
      "metadata": {
        "id": "C5wuyo7cZh9_"
      },
      "source": [
        "Further preprocessing"
      ]
    },
    {
      "cell_type": "code",
      "execution_count": null,
      "metadata": {
        "colab": {
          "base_uri": "https://localhost:8080/"
        },
        "id": "TphnfhyI2IQ-",
        "outputId": "f1cf3d9b-3bab-47d0-ce93-434c413aa823"
      },
      "outputs": [
        {
          "name": "stdout",
          "output_type": "stream",
          "text": [
            "['Obi', 'Peter', 'voted', 'wish', 'best', 'spokesman', 'DSS', 'Dr', 'Afunanya', 'could']\n"
          ]
        }
      ],
      "source": [
        "print(words[:10])"
      ]
    },
    {
      "cell_type": "code",
      "execution_count": null,
      "metadata": {
        "id": "rKK3ZqtRlz_5"
      },
      "outputs": [],
      "source": [
        "\n",
        "# create a tokenizer object\n",
        "tokenizer = Tokenizer()\n",
        "\n",
        "# fit the tokenizer on the documents\n",
        "tokenizer.fit_on_texts(features)\n",
        "\n",
        "# convert the documents to integer sequences\n",
        "features_seq = tokenizer.texts_to_sequences(features)"
      ]
    },
    {
      "cell_type": "code",
      "execution_count": null,
      "metadata": {
        "id": "MAmalDg16P30"
      },
      "outputs": [],
      "source": [
        "\n",
        "\n",
        "# saving tokenizer\n",
        "with open('tokenizer.pickle', 'wb') as handle:\n",
        "    pickle.dump(tokenizer, handle, protocol=pickle.HIGHEST_PROTOCOL)"
      ]
    },
    {
      "cell_type": "code",
      "execution_count": null,
      "metadata": {
        "colab": {
          "base_uri": "https://localhost:8080/"
        },
        "id": "qtD8OXkerUED",
        "outputId": "27249fec-9e95-4c80-c0c8-bc84465da41a"
      },
      "outputs": [
        {
          "name": "stdout",
          "output_type": "stream",
          "text": [
            "46\n"
          ]
        }
      ],
      "source": [
        "\n",
        "max_length = 0\n",
        "for item in features_seq:\n",
        "   lent = len(item)\n",
        "   if lent > max_length:\n",
        "      max_length = lent\n",
        "\n",
        "print(max_length)"
      ]
    },
    {
      "cell_type": "code",
      "execution_count": null,
      "metadata": {
        "id": "4CeLEt4Yspvt"
      },
      "outputs": [],
      "source": [
        "\n",
        "# Pad the input data with zeros\n",
        "\n",
        "padded_features = pad_sequences(features_seq, maxlen=max_length, padding='post', value=0)"
      ]
    },
    {
      "cell_type": "code",
      "execution_count": null,
      "metadata": {
        "colab": {
          "base_uri": "https://localhost:8080/"
        },
        "id": "dfRaLqd3mCiC",
        "outputId": "b25e7261-2399-47bc-8e1e-4b5fea4f8896"
      },
      "outputs": [
        {
          "data": {
            "text/plain": [
              "array([  2,   1, 106,   0,   0,   0,   0,   0,   0,   0,   0,   0,   0,\n",
              "         0,   0,   0,   0,   0,   0,   0,   0,   0,   0,   0,   0,   0,\n",
              "         0,   0,   0,   0,   0,   0,   0,   0,   0,   0,   0,   0,   0,\n",
              "         0,   0,   0,   0,   0,   0,   0], dtype=int32)"
            ]
          },
          "execution_count": 171,
          "metadata": {},
          "output_type": "execute_result"
        }
      ],
      "source": [
        "padded_features[1]"
      ]
    },
    {
      "cell_type": "code",
      "execution_count": null,
      "metadata": {
        "id": "6kk1nQVpv51A"
      },
      "outputs": [],
      "source": [
        "#Train test split\n",
        "\n",
        "X_train, X_test, y_train, y_test = train_test_split(padded_features, labels, test_size=0.2, shuffle=True, random_state=42)"
      ]
    },
    {
      "cell_type": "code",
      "execution_count": null,
      "metadata": {
        "colab": {
          "base_uri": "https://localhost:8080/"
        },
        "id": "m-es057Bitf4",
        "outputId": "a59a2fe4-f62f-4e15-ab6d-80eeaebd5767"
      },
      "outputs": [
        {
          "name": "stdout",
          "output_type": "stream",
          "text": [
            "X_train data shape: (1763, 46)\n",
            "X_test data shape: (441, 46)\n",
            "y_train data shape: (1763,)\n",
            "y_test data shape: (441,)\n"
          ]
        }
      ],
      "source": [
        "\n",
        "# print the shapes of the resulting data sets\n",
        "print('X_train data shape:', X_train.shape)\n",
        "print('X_test data shape:', X_test.shape)\n",
        "print('y_train data shape:', y_train.shape)\n",
        "print('y_test data shape:', y_test.shape)"
      ]
    },
    {
      "cell_type": "markdown",
      "metadata": {
        "id": "U0tzXXDWzlgJ"
      },
      "source": [
        "##Model"
      ]
    },
    {
      "cell_type": "markdown",
      "metadata": {
        "id": "Dtf8n74EnS6G"
      },
      "source": [
        "LSTM model"
      ]
    },
    {
      "cell_type": "code",
      "execution_count": null,
      "metadata": {
        "id": "PZUJKnc9zpFq"
      },
      "outputs": [],
      "source": [
        "\n",
        "# Define the LSTM model\n",
        "model = Sequential()\n",
        "model.add(Embedding(input_dim=vocab_size, output_dim=128, input_length=max_length))\n",
        "model.add(LSTM(units=64, return_sequences=True))\n",
        "model.add(layers.Dropout(0.5))\n",
        "model.add(LSTM(units=32))\n",
        "model.add(layers.Dropout(0.5))\n",
        "model.add(Dense(units=1, activation='sigmoid'))\n",
        "\n",
        "# Compile the model\n",
        "model.compile(optimizer='Adam', loss='binary_crossentropy', metrics=['accuracy'])"
      ]
    },
    {
      "cell_type": "code",
      "execution_count": null,
      "metadata": {
        "colab": {
          "base_uri": "https://localhost:8080/"
        },
        "id": "sHbeeUB5QsVu",
        "outputId": "bf73b005-0794-4e4f-bdc6-bf552053582a"
      },
      "outputs": [
        {
          "name": "stdout",
          "output_type": "stream",
          "text": [
            "Model: \"sequential_12\"\n",
            "_________________________________________________________________\n",
            " Layer (type)                Output Shape              Param #   \n",
            "=================================================================\n",
            " embedding_12 (Embedding)    (None, 46, 128)           1205760   \n",
            "                                                                 \n",
            " lstm_24 (LSTM)              (None, 46, 64)            49408     \n",
            "                                                                 \n",
            " dropout_24 (Dropout)        (None, 46, 64)            0         \n",
            "                                                                 \n",
            " lstm_25 (LSTM)              (None, 32)                12416     \n",
            "                                                                 \n",
            " dropout_25 (Dropout)        (None, 32)                0         \n",
            "                                                                 \n",
            " dense_12 (Dense)            (None, 1)                 33        \n",
            "                                                                 \n",
            "=================================================================\n",
            "Total params: 1,267,617\n",
            "Trainable params: 1,267,617\n",
            "Non-trainable params: 0\n",
            "_________________________________________________________________\n"
          ]
        }
      ],
      "source": [
        "model.summary()"
      ]
    },
    {
      "cell_type": "code",
      "execution_count": null,
      "metadata": {
        "colab": {
          "base_uri": "https://localhost:8080/"
        },
        "id": "tfqrqz0eB3X4",
        "outputId": "014196e4-0a56-41bd-8916-311c5606418a"
      },
      "outputs": [
        {
          "name": "stdout",
          "output_type": "stream",
          "text": [
            "Epoch 1/50\n",
            "56/56 [==============================] - 11s 95ms/step - loss: 0.6956 - accuracy: 0.4861 - val_loss: 0.6914 - val_accuracy: 0.5669\n",
            "Epoch 2/50\n",
            "56/56 [==============================] - 5s 94ms/step - loss: 0.6275 - accuracy: 0.6557 - val_loss: 0.5839 - val_accuracy: 0.6712\n",
            "Epoch 3/50\n",
            "56/56 [==============================] - 5s 95ms/step - loss: 0.3872 - accuracy: 0.8622 - val_loss: 0.5940 - val_accuracy: 0.7778\n",
            "Epoch 4/50\n",
            "56/56 [==============================] - 4s 78ms/step - loss: 0.2662 - accuracy: 0.9121 - val_loss: 0.5722 - val_accuracy: 0.7959\n",
            "Epoch 5/50\n",
            "56/56 [==============================] - 6s 101ms/step - loss: 0.1455 - accuracy: 0.9575 - val_loss: 0.7130 - val_accuracy: 0.7778\n",
            "Epoch 6/50\n",
            "56/56 [==============================] - 5s 88ms/step - loss: 0.1312 - accuracy: 0.9699 - val_loss: 0.8500 - val_accuracy: 0.7755\n",
            "Epoch 7/50\n",
            "56/56 [==============================] - 4s 78ms/step - loss: 0.1172 - accuracy: 0.9756 - val_loss: 0.9068 - val_accuracy: 0.7642\n",
            "Epoch 8/50\n",
            "56/56 [==============================] - 6s 109ms/step - loss: 0.0829 - accuracy: 0.9813 - val_loss: 0.7959 - val_accuracy: 0.8050\n",
            "Epoch 9/50\n",
            "56/56 [==============================] - 4s 79ms/step - loss: 0.0727 - accuracy: 0.9824 - val_loss: 0.7354 - val_accuracy: 0.7959\n",
            "Epoch 10/50\n",
            "56/56 [==============================] - 4s 79ms/step - loss: 0.0505 - accuracy: 0.9909 - val_loss: 0.8362 - val_accuracy: 0.8095\n",
            "Epoch 11/50\n",
            "56/56 [==============================] - 6s 109ms/step - loss: 0.0403 - accuracy: 0.9932 - val_loss: 0.9497 - val_accuracy: 0.7800\n",
            "Epoch 12/50\n",
            "56/56 [==============================] - 4s 77ms/step - loss: 0.0383 - accuracy: 0.9932 - val_loss: 0.9192 - val_accuracy: 0.7823\n",
            "Epoch 13/50\n",
            "56/56 [==============================] - 4s 76ms/step - loss: 0.0317 - accuracy: 0.9932 - val_loss: 1.0386 - val_accuracy: 0.8050\n",
            "Epoch 14/50\n",
            "56/56 [==============================] - 6s 108ms/step - loss: 0.0306 - accuracy: 0.9955 - val_loss: 1.0663 - val_accuracy: 0.8005\n",
            "Epoch 15/50\n",
            "56/56 [==============================] - 4s 79ms/step - loss: 0.0296 - accuracy: 0.9955 - val_loss: 1.0992 - val_accuracy: 0.7937\n",
            "Epoch 16/50\n",
            "56/56 [==============================] - 4s 77ms/step - loss: 0.0287 - accuracy: 0.9955 - val_loss: 1.0890 - val_accuracy: 0.8027\n",
            "Epoch 17/50\n",
            "56/56 [==============================] - 6s 110ms/step - loss: 0.0307 - accuracy: 0.9949 - val_loss: 1.1428 - val_accuracy: 0.7982\n",
            "Epoch 18/50\n",
            "56/56 [==============================] - 4s 77ms/step - loss: 0.0261 - accuracy: 0.9955 - val_loss: 1.1418 - val_accuracy: 0.7937\n",
            "Epoch 19/50\n",
            "56/56 [==============================] - 5s 82ms/step - loss: 0.0331 - accuracy: 0.9938 - val_loss: 1.1472 - val_accuracy: 0.8027\n",
            "Epoch 20/50\n",
            "56/56 [==============================] - 6s 110ms/step - loss: 0.0427 - accuracy: 0.9943 - val_loss: 1.1688 - val_accuracy: 0.8073\n",
            "Epoch 21/50\n",
            "56/56 [==============================] - 5s 83ms/step - loss: 0.0932 - accuracy: 0.9796 - val_loss: 0.9561 - val_accuracy: 0.7982\n",
            "Epoch 22/50\n",
            "56/56 [==============================] - 6s 102ms/step - loss: 0.0755 - accuracy: 0.9818 - val_loss: 1.0094 - val_accuracy: 0.7891\n",
            "Epoch 23/50\n",
            "56/56 [==============================] - 5s 95ms/step - loss: 0.0713 - accuracy: 0.9870 - val_loss: 1.0088 - val_accuracy: 0.7687\n",
            "Epoch 24/50\n",
            "56/56 [==============================] - 5s 87ms/step - loss: 0.1144 - accuracy: 0.9728 - val_loss: 0.7630 - val_accuracy: 0.7778\n",
            "Epoch 25/50\n",
            "56/56 [==============================] - 7s 124ms/step - loss: 0.1533 - accuracy: 0.9626 - val_loss: 0.7149 - val_accuracy: 0.8073\n",
            "Epoch 26/50\n",
            "56/56 [==============================] - 5s 91ms/step - loss: 0.0862 - accuracy: 0.9836 - val_loss: 1.0241 - val_accuracy: 0.7732\n",
            "Epoch 27/50\n",
            "56/56 [==============================] - 6s 103ms/step - loss: 0.1156 - accuracy: 0.9784 - val_loss: 0.9146 - val_accuracy: 0.7778\n",
            "Epoch 28/50\n",
            "56/56 [==============================] - 6s 108ms/step - loss: 0.0867 - accuracy: 0.9836 - val_loss: 0.9311 - val_accuracy: 0.7868\n",
            "Epoch 29/50\n",
            "56/56 [==============================] - 5s 85ms/step - loss: 0.2199 - accuracy: 0.9308 - val_loss: 0.6955 - val_accuracy: 0.7800\n",
            "Epoch 30/50\n",
            "56/56 [==============================] - 6s 103ms/step - loss: 0.0799 - accuracy: 0.9824 - val_loss: 0.9990 - val_accuracy: 0.7800\n",
            "Epoch 31/50\n",
            "56/56 [==============================] - 5s 88ms/step - loss: 0.0802 - accuracy: 0.9864 - val_loss: 1.0047 - val_accuracy: 0.7846\n",
            "Epoch 32/50\n",
            "56/56 [==============================] - 4s 79ms/step - loss: 0.0796 - accuracy: 0.9858 - val_loss: 0.9125 - val_accuracy: 0.8005\n",
            "Epoch 33/50\n",
            "56/56 [==============================] - 6s 116ms/step - loss: 0.0804 - accuracy: 0.9853 - val_loss: 0.9186 - val_accuracy: 0.7982\n",
            "Epoch 34/50\n",
            "56/56 [==============================] - 4s 80ms/step - loss: 0.0806 - accuracy: 0.9853 - val_loss: 0.9205 - val_accuracy: 0.7982\n",
            "Epoch 35/50\n",
            "56/56 [==============================] - 5s 82ms/step - loss: 0.0856 - accuracy: 0.9864 - val_loss: 0.9113 - val_accuracy: 0.8027\n",
            "Epoch 36/50\n",
            "56/56 [==============================] - 6s 113ms/step - loss: 0.0805 - accuracy: 0.9864 - val_loss: 0.8946 - val_accuracy: 0.8027\n",
            "Epoch 37/50\n",
            "56/56 [==============================] - 5s 83ms/step - loss: 0.0794 - accuracy: 0.9864 - val_loss: 0.8780 - val_accuracy: 0.8027\n",
            "Epoch 38/50\n",
            "56/56 [==============================] - 5s 81ms/step - loss: 0.0825 - accuracy: 0.9864 - val_loss: 0.8929 - val_accuracy: 0.8027\n",
            "Epoch 39/50\n",
            "56/56 [==============================] - 6s 110ms/step - loss: 0.0794 - accuracy: 0.9864 - val_loss: 0.9057 - val_accuracy: 0.8027\n",
            "Epoch 40/50\n",
            "56/56 [==============================] - 4s 80ms/step - loss: 0.0787 - accuracy: 0.9864 - val_loss: 0.9109 - val_accuracy: 0.8027\n",
            "Epoch 41/50\n",
            "56/56 [==============================] - 5s 93ms/step - loss: 0.0764 - accuracy: 0.9864 - val_loss: 0.9139 - val_accuracy: 0.8005\n",
            "Epoch 42/50\n",
            "56/56 [==============================] - 5s 97ms/step - loss: 0.0783 - accuracy: 0.9864 - val_loss: 0.9090 - val_accuracy: 0.8005\n",
            "Epoch 43/50\n",
            "56/56 [==============================] - 5s 81ms/step - loss: 0.0811 - accuracy: 0.9864 - val_loss: 0.8806 - val_accuracy: 0.8027\n",
            "Epoch 44/50\n",
            "56/56 [==============================] - 5s 98ms/step - loss: 0.0835 - accuracy: 0.9864 - val_loss: 0.8919 - val_accuracy: 0.8027\n",
            "Epoch 45/50\n",
            "56/56 [==============================] - 5s 91ms/step - loss: 0.0767 - accuracy: 0.9870 - val_loss: 0.9017 - val_accuracy: 0.8005\n",
            "Epoch 46/50\n",
            "56/56 [==============================] - 5s 81ms/step - loss: 0.0737 - accuracy: 0.9870 - val_loss: 0.9328 - val_accuracy: 0.8005\n",
            "Epoch 47/50\n",
            "56/56 [==============================] - 6s 112ms/step - loss: 0.0764 - accuracy: 0.9870 - val_loss: 0.9322 - val_accuracy: 0.8005\n",
            "Epoch 48/50\n",
            "56/56 [==============================] - 4s 80ms/step - loss: 0.0647 - accuracy: 0.9892 - val_loss: 0.8614 - val_accuracy: 0.8186\n",
            "Epoch 49/50\n",
            "56/56 [==============================] - 5s 81ms/step - loss: 0.0619 - accuracy: 0.9898 - val_loss: 0.9505 - val_accuracy: 0.8050\n",
            "Epoch 50/50\n",
            "56/56 [==============================] - 6s 111ms/step - loss: 0.0587 - accuracy: 0.9904 - val_loss: 0.9567 - val_accuracy: 0.8073\n",
            "14/14 [==============================] - 0s 18ms/step - loss: 0.9567 - accuracy: 0.8073\n",
            "Test Loss: 0.9567104578018188\n",
            "Test Accuracy: 0.8072562217712402\n"
          ]
        }
      ],
      "source": [
        "# Train the model\n",
        "history = model.fit(X_train, y_train, validation_data=(X_test, y_test), epochs=50, batch_size=32)\n",
        "\n",
        "# Evaluate the model on test data\n",
        "loss, accuracy = model.evaluate(X_test, y_test)\n",
        "print(\"Test Loss:\", loss)\n",
        "print(\"Test Accuracy:\", accuracy)"
      ]
    },
    {
      "cell_type": "code",
      "execution_count": null,
      "metadata": {
        "colab": {
          "base_uri": "https://localhost:8080/"
        },
        "id": "HQpVvr--jDNi",
        "outputId": "9caa2890-d62f-4215-fef4-df55dbb36b7b"
      },
      "outputs": [
        {
          "name": "stdout",
          "output_type": "stream",
          "text": [
            "14/14 [==============================] - 1s 47ms/step - loss: 0.9567 - accuracy: 0.8073\n",
            "Test Loss: 0.9567104578018188\n",
            "Test Accuracy: 0.8072562217712402\n"
          ]
        }
      ],
      "source": [
        "\n",
        "# Evaluate the model on test data\n",
        "loss, accuracy = model.evaluate(X_test, y_test)\n",
        "print(\"Test Loss:\", loss)\n",
        "print(\"Test Accuracy:\", accuracy)"
      ]
    },
    {
      "cell_type": "code",
      "execution_count": null,
      "metadata": {
        "colab": {
          "base_uri": "https://localhost:8080/",
          "height": 385
        },
        "id": "_e6E3pFFk24F",
        "outputId": "a63a12d0-b3cd-41a5-d99b-d2daecb2983d"
      },
      "outputs": [
        {
          "data": {
            "image/png": "[encoded data removed]",
            "text/plain": [
              "<Figure size 800x400 with 1 Axes>"
            ]
          },
          "metadata": {},
          "output_type": "display_data"
        },
        {
          "data": {
            "image/png": "[encoded data removed]",
            "text/plain": [
              "<Figure size 800x400 with 1 Axes>"
            ]
          },
          "metadata": {},
          "output_type": "display_data"
        }
      ],
      "source": [
        "import matplotlib.pyplot as plt\n",
        "\n",
        "# Get the training history\n",
        "training_loss = history.history['loss']\n",
        "validation_loss = history.history['val_loss']\n",
        "training_accuracy = history.history['accuracy']\n",
        "validation_accuracy = history.history['val_accuracy']\n",
        "\n",
        "# Plot the training and validation loss\n",
        "plt.figure(figsize=(8, 4))\n",
        "plt.plot(training_loss, label='Training Loss')\n",
        "plt.plot(validation_loss, label='Validation Loss')\n",
        "plt.title('Loss')\n",
        "plt.xlabel('Epochs')\n",
        "plt.ylabel('Loss')\n",
        "plt.legend()\n",
        "plt.show()\n",
        "\n",
        "# Plot the training and validation accuracy\n",
        "plt.figure(figsize=(8, 4))\n",
        "plt.plot(training_accuracy, label='Training Accuracy')\n",
        "plt.plot(validation_accuracy, label='Validation Accuracy')\n",
        "plt.title('Accuracy')\n",
        "plt.xlabel('Epochs')\n",
        "plt.ylabel('Accuracy')\n",
        "plt.legend()\n",
        "plt.show()"
      ]
    },
    {
      "cell_type": "code",
      "execution_count": null,
      "metadata": {
        "colab": {
          "base_uri": "https://localhost:8080/"
        },
        "id": "iz4i0bT4UkkS",
        "outputId": "51ccb055-603e-4c4c-aeac-4c275ff56369"
      },
      "outputs": [
        {
          "name": "stdout",
          "output_type": "stream",
          "text": [
            "14/14 [==============================] - 1s 16ms/step\n"
          ]
        }
      ],
      "source": [
        "y_pred = model.predict(X_test)\n",
        "y_pred_classes = (y_pred > 0.5).astype(int)"
      ]
    },
    {
      "cell_type": "code",
      "execution_count": null,
      "metadata": {
        "colab": {
          "base_uri": "https://localhost:8080/"
        },
        "id": "jPgNrNxdUh_o",
        "outputId": "4ebe8b38-fcd3-4920-9fec-532c58b0dad4"
      },
      "outputs": [
        {
          "name": "stdout",
          "output_type": "stream",
          "text": [
            "              precision    recall  f1-score   support\n",
            "\n",
            "           0       0.78      0.86      0.82       221\n",
            "           1       0.84      0.75      0.80       220\n",
            "\n",
            "    accuracy                           0.81       441\n",
            "   macro avg       0.81      0.81      0.81       441\n",
            "weighted avg       0.81      0.81      0.81       441\n",
            "\n"
          ]
        }
      ],
      "source": [
        "from sklearn.metrics import classification_report\n",
        "print(classification_report(y_test,y_pred_classes))"
      ]
    },
    {
      "cell_type": "code",
      "execution_count": null,
      "metadata": {
        "colab": {
          "base_uri": "https://localhost:8080/",
          "height": 276
        },
        "id": "4zsWkEDTTq6M",
        "outputId": "b238ea63-d3bf-4e93-e681-de3c7b552d90"
      },
      "outputs": [
        {
          "data": {
            "image/png": "[encoded data removed]",
            "text/plain": [
              "<Figure size 640x480 with 2 Axes>"
            ]
          },
          "metadata": {},
          "output_type": "display_data"
        }
      ],
      "source": [
        "from sklearn.metrics import confusion_matrix\n",
        "cm = confusion_matrix(y_test, y_pred_classes)\n",
        "\n",
        "import seaborn as sns\n",
        "import matplotlib.pyplot as plt\n",
        "\n",
        "sns.heatmap(cm, annot=True, fmt=\"d\", cmap=\"Blues\")\n",
        "plt.xlabel('Predicted')\n",
        "plt.ylabel('True')\n",
        "plt.show()"
      ]
    },
    {
      "cell_type": "code",
      "execution_count": null,
      "metadata": {
        "id": "hgiykuCyqsUk"
      },
      "outputs": [],
      "source": [
        "model.save(\"RNN_model.h5\")"
      ]
    },
    {
      "cell_type": "markdown",
      "metadata": {
        "id": "o277MH9DiVxC"
      },
      "source": [
        "Machine learnin Model Evaluation"
      ]
    },
    {
      "cell_type": "markdown",
      "metadata": {
        "id": "chK5G-x_1iQY"
      },
      "source": [
        "SVC"
      ]
    },
    {
      "cell_type": "code",
      "execution_count": null,
      "metadata": {
        "colab": {
          "base_uri": "https://localhost:8080/"
        },
        "id": "lV8cUX3Z1Ek0",
        "outputId": "bc67ea22-8072-4604-ea1c-0055b4997fca"
      },
      "outputs": [
        {
          "name": "stdout",
          "output_type": "stream",
          "text": [
            "Best Accuracy: 0.7710843373493976\n",
            "Best Parameters: {'C': 1, 'kernel': 'rbf'}\n"
          ]
        }
      ],
      "source": [
        "from sklearn.svm import SVC\n",
        "from sklearn.metrics import accuracy_score\n",
        "from sklearn.model_selection import GridSearchCV\n",
        "parameters={'C':[1,2000],'kernel':['rbf','sigmoid']}\n",
        "svc = SVC()\n",
        "clf=GridSearchCV(svc,parameters)\n",
        "clf.fit(X_train, y_train)\n",
        "y_pred = clf.predict(X_test)\n",
        "print(\"Best Accuracy:\",accuracy_score(y_test, y_pred))\n",
        "print(\"Best Parameters:\",clf.best_params_)"
      ]
    },
    {
      "cell_type": "code",
      "execution_count": null,
      "metadata": {
        "colab": {
          "base_uri": "https://localhost:8080/"
        },
        "id": "Bc7bAYhk1IUg",
        "outputId": "08b686bb-6911-49db-8094-3086907db911"
      },
      "outputs": [
        {
          "name": "stdout",
          "output_type": "stream",
          "text": [
            "              precision    recall  f1-score   support\n",
            "\n",
            "           0       0.74      0.91      0.82       280\n",
            "           1       0.83      0.60      0.70       218\n",
            "\n",
            "    accuracy                           0.77       498\n",
            "   macro avg       0.79      0.75      0.76       498\n",
            "weighted avg       0.78      0.77      0.76       498\n",
            "\n"
          ]
        }
      ],
      "source": [
        "from sklearn.metrics import classification_report\n",
        "print(classification_report(y_test,y_pred))"
      ]
    },
    {
      "cell_type": "code",
      "execution_count": null,
      "metadata": {
        "id": "fNhv-u8bm69c"
      },
      "outputs": [],
      "source": [
        "# save the model to disk\n",
        "filename = 'svc_model.sav'\n",
        "pickle.dump(clf, open(filename, 'wb'))"
      ]
    },
    {
      "cell_type": "markdown",
      "metadata": {
        "id": "NsdFdDPT1o18"
      },
      "source": [
        "MLP"
      ]
    },
    {
      "cell_type": "code",
      "execution_count": null,
      "metadata": {
        "colab": {
          "background_save": true,
          "base_uri": "https://localhost:8080/"
        },
        "id": "lAyldpQM1pqp",
        "outputId": "f13d9fc6-254a-4a01-dd86-81e34b7a24ae"
      },
      "outputs": [
        {
          "name": "stderr",
          "output_type": "stream",
          "text": [
            "/usr/local/lib/python3.10/dist-packages/sklearn/neural_network/_multilayer_perceptron.py:686: ConvergenceWarning: Stochastic Optimizer: Maximum iterations (200) reached and the optimization hasn't converged yet.\n",
            "  warnings.warn(\n",
            "/usr/local/lib/python3.10/dist-packages/sklearn/neural_network/_multilayer_perceptron.py:686: ConvergenceWarning: Stochastic Optimizer: Maximum iterations (200) reached and the optimization hasn't converged yet.\n",
            "  warnings.warn(\n",
            "/usr/local/lib/python3.10/dist-packages/sklearn/neural_network/_multilayer_perceptron.py:686: ConvergenceWarning: Stochastic Optimizer: Maximum iterations (200) reached and the optimization hasn't converged yet.\n",
            "  warnings.warn(\n",
            "/usr/local/lib/python3.10/dist-packages/sklearn/neural_network/_multilayer_perceptron.py:686: ConvergenceWarning: Stochastic Optimizer: Maximum iterations (200) reached and the optimization hasn't converged yet.\n",
            "  warnings.warn(\n",
            "/usr/local/lib/python3.10/dist-packages/sklearn/neural_network/_multilayer_perceptron.py:686: ConvergenceWarning: Stochastic Optimizer: Maximum iterations (200) reached and the optimization hasn't converged yet.\n",
            "  warnings.warn(\n"
          ]
        },
        {
          "name": "stdout",
          "output_type": "stream",
          "text": [
            "Best Accuracy: 0.6077097505668935\n",
            "Best Parameters: {'activation': 'logistic', 'hidden_layer_sizes': (320, 160)}\n"
          ]
        }
      ],
      "source": [
        "from sklearn.neural_network import MLPClassifier\n",
        "from sklearn.metrics import accuracy_score\n",
        "from sklearn.model_selection import GridSearchCV\n",
        "parameters={\n",
        "    'hidden_layer_sizes':[(320),(320,160),(320,160,80,40)],\n",
        "    'activation':['logistic','tanh','relu']\n",
        "}\n",
        "mlp = MLPClassifier()\n",
        "clf=GridSearchCV(mlp,parameters)\n",
        "clf.fit(X_train, y_train)\n",
        "y_pred = clf.predict(X_test)\n",
        "print(\"Best Accuracy:\",accuracy_score(y_test, y_pred))\n",
        "print(\"Best Parameters:\",clf.best_params_)"
      ]
    },
    {
      "cell_type": "code",
      "execution_count": null,
      "metadata": {
        "colab": {
          "background_save": true,
          "base_uri": "https://localhost:8080/"
        },
        "id": "T1bCprmb6N8Y",
        "outputId": "a3a17de9-e6eb-44f4-f009-3af9e24b5406"
      },
      "outputs": [
        {
          "name": "stdout",
          "output_type": "stream",
          "text": [
            "              precision    recall  f1-score   support\n",
            "\n",
            "           0       0.62      0.58      0.60       221\n",
            "           1       0.60      0.64      0.62       220\n",
            "\n",
            "    accuracy                           0.61       441\n",
            "   macro avg       0.61      0.61      0.61       441\n",
            "weighted avg       0.61      0.61      0.61       441\n",
            "\n"
          ]
        }
      ],
      "source": [
        "from sklearn.metrics import classification_report\n",
        "print(classification_report(y_test,y_pred))"
      ]
    },
    {
      "cell_type": "code",
      "execution_count": null,
      "metadata": {
        "colab": {
          "background_save": true
        },
        "id": "SEjbcIw9mtjD"
      },
      "outputs": [],
      "source": [
        "\n",
        "# save the model to disk\n",
        "filename = 'mlp_model.sav'\n",
        "pickle.dump(clf, open(filename, 'wb'))"
      ]
    },
    {
      "cell_type": "markdown",
      "metadata": {
        "id": "3nu6AS9p3aQA"
      },
      "source": [
        "XG Boost"
      ]
    },
    {
      "cell_type": "code",
      "execution_count": null,
      "metadata": {
        "colab": {
          "base_uri": "https://localhost:8080/"
        },
        "id": "g5QQAzgv3mLV",
        "outputId": "108f8784-721d-478f-aef6-9e8b95df461c"
      },
      "outputs": [
        {
          "name": "stdout",
          "output_type": "stream",
          "text": [
            "Best Accuracy: 0.9056224899598394\n",
            "Best Parameters: {'learning_rate': 0.1, 'max_depth': 3, 'n_estimators': 500}\n"
          ]
        }
      ],
      "source": [
        "from xgboost import XGBClassifier\n",
        "from sklearn.metrics import accuracy_score\n",
        "from sklearn.model_selection import GridSearchCV\n",
        "parameters={\n",
        "    'max_depth':[3,5,7],\n",
        "    'learning_rate':[0.1,0.5,0.9],\n",
        "    'n_estimators':[100,500,1000]\n",
        "}\n",
        "xgb = XGBClassifier()\n",
        "clf=GridSearchCV(xgb,parameters)\n",
        "clf.fit(X_train, y_train)\n",
        "y_pred = clf.predict(X_test)\n",
        "print(\"Best Accuracy:\",accuracy_score(y_test, y_pred))\n",
        "print(\"Best Parameters:\",clf.best_params_)"
      ]
    },
    {
      "cell_type": "code",
      "execution_count": null,
      "metadata": {
        "colab": {
          "background_save": true,
          "base_uri": "https://localhost:8080/"
        },
        "id": "C_903GO53xsX",
        "outputId": "81f3c6af-0927-46b1-dfe1-0167b9d1c131"
      },
      "outputs": [
        {
          "name": "stdout",
          "output_type": "stream",
          "text": [
            "              precision    recall  f1-score   support\n",
            "\n",
            "           0       0.84      0.98      0.91       221\n",
            "           1       0.98      0.81      0.89       220\n",
            "\n",
            "    accuracy                           0.90       441\n",
            "   macro avg       0.91      0.90      0.90       441\n",
            "weighted avg       0.91      0.90      0.90       441\n",
            "\n"
          ]
        }
      ],
      "source": [
        "from sklearn.metrics import classification_report\n",
        "print(classification_report(y_test,y_pred))"
      ]
    },
    {
      "cell_type": "code",
      "execution_count": null,
      "metadata": {
        "colab": {
          "background_save": true
        },
        "id": "VZMVmfBmoKc4"
      },
      "outputs": [],
      "source": [
        "# save the model to disk\n",
        "filename = 'xgb_model.sav'\n",
        "pickle.dump(clf, open(filename, 'wb'))"
      ]
    },
    {
      "cell_type": "code",
      "execution_count": null,
      "metadata": {
        "id": "-e_dcjN29bRd"
      },
      "outputs": [],
      "source": []
    },
    {
      "cell_type": "markdown",
      "metadata": {
        "id": "Me32b2zv9eYb"
      },
      "source": [
        "##Bert model"
      ]
    },
    {
      "cell_type": "code",
      "execution_count": null,
      "metadata": {
        "colab": {
          "base_uri": "https://localhost:8080/"
        },
        "id": "V6i7P92O-tQr",
        "outputId": "10418af6-98f3-40eb-d4c0-3c8701e91123"
      },
      "outputs": [
        {
          "name": "stdout",
          "output_type": "stream",
          "text": [
            "Requirement already satisfied: transformers in /usr/local/lib/python3.10/dist-packages (4.31.0)\n",
            "Requirement already satisfied: filelock in /usr/local/lib/python3.10/dist-packages (from transformers) (3.12.2)\n",
            "Requirement already satisfied: huggingface-hub<1.0,>=0.14.1 in /usr/local/lib/python3.10/dist-packages (from transformers) (0.16.4)\n",
            "Requirement already satisfied: numpy>=1.17 in /usr/local/lib/python3.10/dist-packages (from transformers) (1.22.4)\n",
            "Requirement already satisfied: packaging>=20.0 in /usr/local/lib/python3.10/dist-packages (from transformers) (23.1)\n",
            "Requirement already satisfied: pyyaml>=5.1 in /usr/local/lib/python3.10/dist-packages (from transformers) (6.0.1)\n",
            "Requirement already satisfied: regex!=2019.12.17 in /usr/local/lib/python3.10/dist-packages (from transformers) (2022.10.31)\n",
            "Requirement already satisfied: requests in /usr/local/lib/python3.10/dist-packages (from transformers) (2.27.1)\n",
            "Requirement already satisfied: tokenizers!=0.11.3,<0.14,>=0.11.1 in /usr/local/lib/python3.10/dist-packages (from transformers) (0.13.3)\n",
            "Requirement already satisfied: safetensors>=0.3.1 in /usr/local/lib/python3.10/dist-packages (from transformers) (0.3.1)\n",
            "Requirement already satisfied: tqdm>=4.27 in /usr/local/lib/python3.10/dist-packages (from transformers) (4.65.0)\n",
            "Requirement already satisfied: fsspec in /usr/local/lib/python3.10/dist-packages (from huggingface-hub<1.0,>=0.14.1->transformers) (2023.6.0)\n",
            "Requirement already satisfied: typing-extensions>=3.7.4.3 in /usr/local/lib/python3.10/dist-packages (from huggingface-hub<1.0,>=0.14.1->transformers) (4.7.1)\n",
            "Requirement already satisfied: urllib3<1.27,>=1.21.1 in /usr/local/lib/python3.10/dist-packages (from requests->transformers) (1.26.16)\n",
            "Requirement already satisfied: certifi>=2017.4.17 in /usr/local/lib/python3.10/dist-packages (from requests->transformers) (2023.7.22)\n",
            "Requirement already satisfied: charset-normalizer~=2.0.0 in /usr/local/lib/python3.10/dist-packages (from requests->transformers) (2.0.12)\n",
            "Requirement already satisfied: idna<4,>=2.5 in /usr/local/lib/python3.10/dist-packages (from requests->transformers) (3.4)\n"
          ]
        }
      ],
      "source": [
        "pip install transformers"
      ]
    },
    {
      "cell_type": "code",
      "execution_count": null,
      "metadata": {
        "id": "dUsCZZU826L4"
      },
      "outputs": [],
      "source": [
        "dfb = train"
      ]
    },
    {
      "cell_type": "code",
      "execution_count": null,
      "metadata": {
        "colab": {
          "base_uri": "https://localhost:8080/",
          "height": 267
        },
        "id": "M9OjA_VF3B7u",
        "outputId": "a6c1aef5-099d-4971-9a98-b03020d47bbf"
      },
      "outputs": [
        {
          "data": {
            "text/html": [
              "\n",
              "\n",
              "  <div id=\"df-7e577799-6102-406f-bb79-9e851e363b98\">\n",
              "    <div class=\"colab-df-container\">\n",
              "      <div>\n",
              "<style scoped>\n",
              "    .dataframe tbody tr th:only-of-type {\n",
              "        vertical-align: middle;\n",
              "    }\n",
              "\n",
              "    .dataframe tbody tr th {\n",
              "        vertical-align: top;\n",
              "    }\n",
              "\n",
              "    .dataframe thead th {\n",
              "        text-align: right;\n",
              "    }\n",
              "</style>\n",
              "<table border=\"1\" class=\"dataframe\">\n",
              "  <thead>\n",
              "    <tr style=\"text-align: right;\">\n",
              "      <th></th>\n",
              "      <th>tweet</th>\n",
              "      <th>label</th>\n",
              "    </tr>\n",
              "  </thead>\n",
              "  <tbody>\n",
              "    <tr>\n",
              "      <th>0</th>\n",
              "      <td>Obi</td>\n",
              "      <td>0</td>\n",
              "    </tr>\n",
              "    <tr>\n",
              "      <th>1</th>\n",
              "      <td>Peter Obi voted</td>\n",
              "      <td>0</td>\n",
              "    </tr>\n",
              "    <tr>\n",
              "      <th>2</th>\n",
              "      <td>Obi</td>\n",
              "      <td>0</td>\n",
              "    </tr>\n",
              "    <tr>\n",
              "      <th>3</th>\n",
              "      <td>I wish Obi the best</td>\n",
              "      <td>0</td>\n",
              "    </tr>\n",
              "    <tr>\n",
              "      <th>4</th>\n",
              "      <td>But the spokesman for the DSS, Dr. Peter Afuna...</td>\n",
              "      <td>0</td>\n",
              "    </tr>\n",
              "  </tbody>\n",
              "</table>\n",
              "</div>\n",
              "      <button class=\"colab-df-convert\" onclick=\"convertToInteractive('df-7e577799-6102-406f-bb79-9e851e363b98')\"\n",
              "              title=\"Convert this dataframe to an interactive table.\"\n",
              "              style=\"display:none;\">\n",
              "\n",
              "  <svg xmlns=\"http://www.w3.org/2000/svg\" height=\"24px\"viewBox=\"0 0 24 24\"\n",
              "       width=\"24px\">\n",
              "    <path d=\"M0 0h24v24H0V0z\" fill=\"none\"/>\n",
              "    <path d=\"M18.56 5.44l.94 2.06.94-2.06 2.06-.94-2.06-.94-.94-2.06-.94 2.06-2.06.94zm-11 1L8.5 8.5l.94-2.06 2.06-.94-2.06-.94L8.5 2.5l-.94 2.06-2.06.94zm10 10l.94 2.06.94-2.06 2.06-.94-2.06-.94-.94-2.06-.94 2.06-2.06.94z\"/><path d=\"M17.41 7.96l-1.37-1.37c-.4-.4-.92-.59-1.43-.59-.52 0-1.04.2-1.43.59L10.3 9.45l-7.72 7.72c-.78.78-.78 2.05 0 2.83L4 21.41c.39.39.9.59 1.41.59.51 0 1.02-.2 1.41-.59l7.78-7.78 2.81-2.81c.8-.78.8-2.07 0-2.86zM5.41 20L4 18.59l7.72-7.72 1.47 1.35L5.41 20z\"/>\n",
              "  </svg>\n",
              "      </button>\n",
              "\n",
              "\n",
              "\n",
              "    <div id=\"df-356d42fc-dac6-4d78-b023-e388ca5de248\">\n",
              "      <button class=\"colab-df-quickchart\" onclick=\"quickchart('df-356d42fc-dac6-4d78-b023-e388ca5de248')\"\n",
              "              title=\"Suggest charts.\"\n",
              "              style=\"display:none;\">\n",
              "\n",
              "<svg xmlns=\"http://www.w3.org/2000/svg\" height=\"24px\"viewBox=\"0 0 24 24\"\n",
              "     width=\"24px\">\n",
              "    <g>\n",
              "        <path d=\"M19 3H5c-1.1 0-2 .9-2 2v14c0 1.1.9 2 2 2h14c1.1 0 2-.9 2-2V5c0-1.1-.9-2-2-2zM9 17H7v-7h2v7zm4 0h-2V7h2v10zm4 0h-2v-4h2v4z\"/>\n",
              "    </g>\n",
              "</svg>\n",
              "      </button>\n",
              "    </div>\n",
              "\n",
              "<style>\n",
              "  .colab-df-quickchart {\n",
              "    background-color: #E8F0FE;\n",
              "    border: none;\n",
              "    border-radius: 50%;\n",
              "    cursor: pointer;\n",
              "    display: none;\n",
              "    fill: #1967D2;\n",
              "    height: 32px;\n",
              "    padding: 0 0 0 0;\n",
              "    width: 32px;\n",
              "  }\n",
              "\n",
              "  .colab-df-quickchart:hover {\n",
              "    background-color: #E2EBFA;\n",
              "    box-shadow: 0px 1px 2px rgba(60, 64, 67, 0.3), 0px 1px 3px 1px rgba(60, 64, 67, 0.15);\n",
              "    fill: #174EA6;\n",
              "  }\n",
              "\n",
              "  [theme=dark] .colab-df-quickchart {\n",
              "    background-color: #3B4455;\n",
              "    fill: #D2E3FC;\n",
              "  }\n",
              "\n",
              "  [theme=dark] .colab-df-quickchart:hover {\n",
              "    background-color: #434B5C;\n",
              "    box-shadow: 0px 1px 3px 1px rgba(0, 0, 0, 0.15);\n",
              "    filter: drop-shadow(0px 1px 2px rgba(0, 0, 0, 0.3));\n",
              "    fill: #FFFFFF;\n",
              "  }\n",
              "</style>\n",
              "\n",
              "    <script>\n",
              "      async function quickchart(key) {\n",
              "        const containerElement = document.querySelector('#' + key);\n",
              "        const charts = await google.colab.kernel.invokeFunction(\n",
              "            'suggestCharts', [key], {});\n",
              "      }\n",
              "    </script>\n",
              "\n",
              "      <script>\n",
              "\n",
              "function displayQuickchartButton(domScope) {\n",
              "  let quickchartButtonEl =\n",
              "    domScope.querySelector('#df-356d42fc-dac6-4d78-b023-e388ca5de248 button.colab-df-quickchart');\n",
              "  quickchartButtonEl.style.display =\n",
              "    google.colab.kernel.accessAllowed ? 'block' : 'none';\n",
              "}\n",
              "\n",
              "        displayQuickchartButton(document);\n",
              "      </script>\n",
              "      <style>\n",
              "    .colab-df-container {\n",
              "      display:flex;\n",
              "      flex-wrap:wrap;\n",
              "      gap: 12px;\n",
              "    }\n",
              "\n",
              "    .colab-df-convert {\n",
              "      background-color: #E8F0FE;\n",
              "      border: none;\n",
              "      border-radius: 50%;\n",
              "      cursor: pointer;\n",
              "      display: none;\n",
              "      fill: #1967D2;\n",
              "      height: 32px;\n",
              "      padding: 0 0 0 0;\n",
              "      width: 32px;\n",
              "    }\n",
              "\n",
              "    .colab-df-convert:hover {\n",
              "      background-color: #E2EBFA;\n",
              "      box-shadow: 0px 1px 2px rgba(60, 64, 67, 0.3), 0px 1px 3px 1px rgba(60, 64, 67, 0.15);\n",
              "      fill: #174EA6;\n",
              "    }\n",
              "\n",
              "    [theme=dark] .colab-df-convert {\n",
              "      background-color: #3B4455;\n",
              "      fill: #D2E3FC;\n",
              "    }\n",
              "\n",
              "    [theme=dark] .colab-df-convert:hover {\n",
              "      background-color: #434B5C;\n",
              "      box-shadow: 0px 1px 3px 1px rgba(0, 0, 0, 0.15);\n",
              "      filter: drop-shadow(0px 1px 2px rgba(0, 0, 0, 0.3));\n",
              "      fill: #FFFFFF;\n",
              "    }\n",
              "  </style>\n",
              "\n",
              "      <script>\n",
              "        const buttonEl =\n",
              "          document.querySelector('#df-7e577799-6102-406f-bb79-9e851e363b98 button.colab-df-convert');\n",
              "        buttonEl.style.display =\n",
              "          google.colab.kernel.accessAllowed ? 'block' : 'none';\n",
              "\n",
              "        async function convertToInteractive(key) {\n",
              "          const element = document.querySelector('#df-7e577799-6102-406f-bb79-9e851e363b98');\n",
              "          const dataTable =\n",
              "            await google.colab.kernel.invokeFunction('convertToInteractive',\n",
              "                                                     [key], {});\n",
              "          if (!dataTable) return;\n",
              "\n",
              "          const docLinkHtml = 'Like what you see? Visit the ' +\n",
              "            '<a target=\"_blank\" href=https://colab.research.google.com/notebooks/data_table.ipynb>data table notebook</a>'\n",
              "            + ' to learn more about interactive tables.';\n",
              "          element.innerHTML = '';\n",
              "          dataTable['output_type'] = 'display_data';\n",
              "          await google.colab.output.renderOutput(dataTable, element);\n",
              "          const docLink = document.createElement('div');\n",
              "          docLink.innerHTML = docLinkHtml;\n",
              "          element.appendChild(docLink);\n",
              "        }\n",
              "      </script>\n",
              "    </div>\n",
              "  </div>\n"
            ],
            "text/plain": [
              "                                               tweet  label\n",
              "0                                                Obi      0\n",
              "1                                    Peter Obi voted      0\n",
              "2                                                Obi      0\n",
              "3                                I wish Obi the best      0\n",
              "4  But the spokesman for the DSS, Dr. Peter Afuna...      0"
            ]
          },
          "execution_count": 17,
          "metadata": {},
          "output_type": "execute_result"
        }
      ],
      "source": [
        "dfb.head()"
      ]
    },
    {
      "cell_type": "code",
      "execution_count": null,
      "metadata": {
        "id": "aX2Z2qiKDxds"
      },
      "outputs": [],
      "source": [
        "import torch\n",
        "from tqdm import tqdm"
      ]
    },
    {
      "cell_type": "code",
      "execution_count": null,
      "metadata": {
        "id": "7p6qd2FE8HZ5"
      },
      "outputs": [],
      "source": [
        "dfb['data_type'] = ['not_set'] * dfb.shape[0]"
      ]
    },
    {
      "cell_type": "code",
      "execution_count": null,
      "metadata": {
        "id": "C_FaO_M9BFuM"
      },
      "outputs": [],
      "source": [
        "from sklearn.model_selection import train_test_split\n",
        "\n",
        "#train test split\n",
        "X_train, X_val, y_train, y_val = train_test_split(dfb.index.values,\n",
        "                                                   dfb.label.values,\n",
        "                                                   test_size = 0.2,\n",
        "                                                   random_state = 17,\n",
        "                                                   stratify = dfb.label.values\n",
        "                                                  )"
      ]
    },
    {
      "cell_type": "code",
      "execution_count": null,
      "metadata": {
        "colab": {
          "base_uri": "https://localhost:8080/",
          "height": 206
        },
        "id": "MUBRCkA-4Wdf",
        "outputId": "f7af61a9-7ecb-4108-eca9-e0853c7e2509"
      },
      "outputs": [
        {
          "data": {
            "text/html": [
              "\n",
              "\n",
              "  <div id=\"df-5622d59e-5fe0-43c7-bd3c-5472dd5945e7\">\n",
              "    <div class=\"colab-df-container\">\n",
              "      <div>\n",
              "<style scoped>\n",
              "    .dataframe tbody tr th:only-of-type {\n",
              "        vertical-align: middle;\n",
              "    }\n",
              "\n",
              "    .dataframe tbody tr th {\n",
              "        vertical-align: top;\n",
              "    }\n",
              "\n",
              "    .dataframe thead th {\n",
              "        text-align: right;\n",
              "    }\n",
              "</style>\n",
              "<table border=\"1\" class=\"dataframe\">\n",
              "  <thead>\n",
              "    <tr style=\"text-align: right;\">\n",
              "      <th></th>\n",
              "      <th></th>\n",
              "      <th>tweet</th>\n",
              "    </tr>\n",
              "    <tr>\n",
              "      <th>label</th>\n",
              "      <th>data_type</th>\n",
              "      <th></th>\n",
              "    </tr>\n",
              "  </thead>\n",
              "  <tbody>\n",
              "    <tr>\n",
              "      <th rowspan=\"2\" valign=\"top\">0</th>\n",
              "      <th>train</th>\n",
              "      <td>879</td>\n",
              "    </tr>\n",
              "    <tr>\n",
              "      <th>val</th>\n",
              "      <td>220</td>\n",
              "    </tr>\n",
              "    <tr>\n",
              "      <th rowspan=\"2\" valign=\"top\">1</th>\n",
              "      <th>train</th>\n",
              "      <td>884</td>\n",
              "    </tr>\n",
              "    <tr>\n",
              "      <th>val</th>\n",
              "      <td>221</td>\n",
              "    </tr>\n",
              "  </tbody>\n",
              "</table>\n",
              "</div>\n",
              "      <button class=\"colab-df-convert\" onclick=\"convertToInteractive('df-5622d59e-5fe0-43c7-bd3c-5472dd5945e7')\"\n",
              "              title=\"Convert this dataframe to an interactive table.\"\n",
              "              style=\"display:none;\">\n",
              "\n",
              "  <svg xmlns=\"http://www.w3.org/2000/svg\" height=\"24px\"viewBox=\"0 0 24 24\"\n",
              "       width=\"24px\">\n",
              "    <path d=\"M0 0h24v24H0V0z\" fill=\"none\"/>\n",
              "    <path d=\"M18.56 5.44l.94 2.06.94-2.06 2.06-.94-2.06-.94-.94-2.06-.94 2.06-2.06.94zm-11 1L8.5 8.5l.94-2.06 2.06-.94-2.06-.94L8.5 2.5l-.94 2.06-2.06.94zm10 10l.94 2.06.94-2.06 2.06-.94-2.06-.94-.94-2.06-.94 2.06-2.06.94z\"/><path d=\"M17.41 7.96l-1.37-1.37c-.4-.4-.92-.59-1.43-.59-.52 0-1.04.2-1.43.59L10.3 9.45l-7.72 7.72c-.78.78-.78 2.05 0 2.83L4 21.41c.39.39.9.59 1.41.59.51 0 1.02-.2 1.41-.59l7.78-7.78 2.81-2.81c.8-.78.8-2.07 0-2.86zM5.41 20L4 18.59l7.72-7.72 1.47 1.35L5.41 20z\"/>\n",
              "  </svg>\n",
              "      </button>\n",
              "\n",
              "\n",
              "\n",
              "    <div id=\"df-23d4e7bd-70c3-4ae4-aaa3-e8cb9ad16403\">\n",
              "      <button class=\"colab-df-quickchart\" onclick=\"quickchart('df-23d4e7bd-70c3-4ae4-aaa3-e8cb9ad16403')\"\n",
              "              title=\"Suggest charts.\"\n",
              "              style=\"display:none;\">\n",
              "\n",
              "<svg xmlns=\"http://www.w3.org/2000/svg\" height=\"24px\"viewBox=\"0 0 24 24\"\n",
              "     width=\"24px\">\n",
              "    <g>\n",
              "        <path d=\"M19 3H5c-1.1 0-2 .9-2 2v14c0 1.1.9 2 2 2h14c1.1 0 2-.9 2-2V5c0-1.1-.9-2-2-2zM9 17H7v-7h2v7zm4 0h-2V7h2v10zm4 0h-2v-4h2v4z\"/>\n",
              "    </g>\n",
              "</svg>\n",
              "      </button>\n",
              "    </div>\n",
              "\n",
              "<style>\n",
              "  .colab-df-quickchart {\n",
              "    background-color: #E8F0FE;\n",
              "    border: none;\n",
              "    border-radius: 50%;\n",
              "    cursor: pointer;\n",
              "    display: none;\n",
              "    fill: #1967D2;\n",
              "    height: 32px;\n",
              "    padding: 0 0 0 0;\n",
              "    width: 32px;\n",
              "  }\n",
              "\n",
              "  .colab-df-quickchart:hover {\n",
              "    background-color: #E2EBFA;\n",
              "    box-shadow: 0px 1px 2px rgba(60, 64, 67, 0.3), 0px 1px 3px 1px rgba(60, 64, 67, 0.15);\n",
              "    fill: #174EA6;\n",
              "  }\n",
              "\n",
              "  [theme=dark] .colab-df-quickchart {\n",
              "    background-color: #3B4455;\n",
              "    fill: #D2E3FC;\n",
              "  }\n",
              "\n",
              "  [theme=dark] .colab-df-quickchart:hover {\n",
              "    background-color: #434B5C;\n",
              "    box-shadow: 0px 1px 3px 1px rgba(0, 0, 0, 0.15);\n",
              "    filter: drop-shadow(0px 1px 2px rgba(0, 0, 0, 0.3));\n",
              "    fill: #FFFFFF;\n",
              "  }\n",
              "</style>\n",
              "\n",
              "    <script>\n",
              "      async function quickchart(key) {\n",
              "        const containerElement = document.querySelector('#' + key);\n",
              "        const charts = await google.colab.kernel.invokeFunction(\n",
              "            'suggestCharts', [key], {});\n",
              "      }\n",
              "    </script>\n",
              "\n",
              "      <script>\n",
              "\n",
              "function displayQuickchartButton(domScope) {\n",
              "  let quickchartButtonEl =\n",
              "    domScope.querySelector('#df-23d4e7bd-70c3-4ae4-aaa3-e8cb9ad16403 button.colab-df-quickchart');\n",
              "  quickchartButtonEl.style.display =\n",
              "    google.colab.kernel.accessAllowed ? 'block' : 'none';\n",
              "}\n",
              "\n",
              "        displayQuickchartButton(document);\n",
              "      </script>\n",
              "      <style>\n",
              "    .colab-df-container {\n",
              "      display:flex;\n",
              "      flex-wrap:wrap;\n",
              "      gap: 12px;\n",
              "    }\n",
              "\n",
              "    .colab-df-convert {\n",
              "      background-color: #E8F0FE;\n",
              "      border: none;\n",
              "      border-radius: 50%;\n",
              "      cursor: pointer;\n",
              "      display: none;\n",
              "      fill: #1967D2;\n",
              "      height: 32px;\n",
              "      padding: 0 0 0 0;\n",
              "      width: 32px;\n",
              "    }\n",
              "\n",
              "    .colab-df-convert:hover {\n",
              "      background-color: #E2EBFA;\n",
              "      box-shadow: 0px 1px 2px rgba(60, 64, 67, 0.3), 0px 1px 3px 1px rgba(60, 64, 67, 0.15);\n",
              "      fill: #174EA6;\n",
              "    }\n",
              "\n",
              "    [theme=dark] .colab-df-convert {\n",
              "      background-color: #3B4455;\n",
              "      fill: #D2E3FC;\n",
              "    }\n",
              "\n",
              "    [theme=dark] .colab-df-convert:hover {\n",
              "      background-color: #434B5C;\n",
              "      box-shadow: 0px 1px 3px 1px rgba(0, 0, 0, 0.15);\n",
              "      filter: drop-shadow(0px 1px 2px rgba(0, 0, 0, 0.3));\n",
              "      fill: #FFFFFF;\n",
              "    }\n",
              "  </style>\n",
              "\n",
              "      <script>\n",
              "        const buttonEl =\n",
              "          document.querySelector('#df-5622d59e-5fe0-43c7-bd3c-5472dd5945e7 button.colab-df-convert');\n",
              "        buttonEl.style.display =\n",
              "          google.colab.kernel.accessAllowed ? 'block' : 'none';\n",
              "\n",
              "        async function convertToInteractive(key) {\n",
              "          const element = document.querySelector('#df-5622d59e-5fe0-43c7-bd3c-5472dd5945e7');\n",
              "          const dataTable =\n",
              "            await google.colab.kernel.invokeFunction('convertToInteractive',\n",
              "                                                     [key], {});\n",
              "          if (!dataTable) return;\n",
              "\n",
              "          const docLinkHtml = 'Like what you see? Visit the ' +\n",
              "            '<a target=\"_blank\" href=https://colab.research.google.com/notebooks/data_table.ipynb>data table notebook</a>'\n",
              "            + ' to learn more about interactive tables.';\n",
              "          element.innerHTML = '';\n",
              "          dataTable['output_type'] = 'display_data';\n",
              "          await google.colab.output.renderOutput(dataTable, element);\n",
              "          const docLink = document.createElement('div');\n",
              "          docLink.innerHTML = docLinkHtml;\n",
              "          element.appendChild(docLink);\n",
              "        }\n",
              "      </script>\n",
              "    </div>\n",
              "  </div>\n"
            ],
            "text/plain": [
              "                 tweet\n",
              "label data_type       \n",
              "0     train        879\n",
              "      val          220\n",
              "1     train        884\n",
              "      val          221"
            ]
          },
          "execution_count": 21,
          "metadata": {},
          "output_type": "execute_result"
        }
      ],
      "source": [
        "dfb.loc[X_train, 'data_type'] = 'train'\n",
        "dfb.loc[X_val, 'data_type'] = 'val'\n",
        "\n",
        "#groupby count\n",
        "dfb.groupby(['label', 'data_type']).count()"
      ]
    },
    {
      "cell_type": "code",
      "execution_count": null,
      "metadata": {
        "id": "Y75AZz0F9_3C"
      },
      "outputs": [],
      "source": [
        "from transformers import BertTokenizer\n",
        "\n",
        "tokenizer = BertTokenizer.from_pretrained('bert-base-uncased',\n",
        "                                         do_lower_case = True)"
      ]
    },
    {
      "cell_type": "code",
      "execution_count": null,
      "metadata": {
        "colab": {
          "base_uri": "https://localhost:8080/"
        },
        "id": "kmsa_YCH-5ai",
        "outputId": "23232982-6ab3-4f67-b80a-000c983ccba7"
      },
      "outputs": [
        {
          "name": "stderr",
          "output_type": "stream",
          "text": [
            "Keyword arguments {'add_special_tokes': True} not recognized.\n",
            "Keyword arguments {'add_special_tokes': True} not recognized.\n",
            "Keyword arguments {'add_special_tokes': True} not recognized.\n",
            "Keyword arguments {'add_special_tokes': True} not recognized.\n",
            "Keyword arguments {'add_special_tokes': True} not recognized.\n",
            "Keyword arguments {'add_special_tokes': True} not recognized.\n",
            "Keyword arguments {'add_special_tokes': True} not recognized.\n",
            "Keyword arguments {'add_special_tokes': True} not recognized.\n",
            "Keyword arguments {'add_special_tokes': True} not recognized.\n",
            "Keyword arguments {'add_special_tokes': True} not recognized.\n",
            "Keyword arguments {'add_special_tokes': True} not recognized.\n",
            "Keyword arguments {'add_special_tokes': True} not recognized.\n",
            "Keyword arguments {'add_special_tokes': True} not recognized.\n",
            "Keyword arguments {'add_special_tokes': True} not recognized.\n",
            "Keyword arguments {'add_special_tokes': True} not recognized.\n",
            "Keyword arguments {'add_special_tokes': True} not recognized.\n",
            "Keyword arguments {'add_special_tokes': True} not recognized.\n",
            "Keyword arguments {'add_special_tokes': True} not recognized.\n",
            "Keyword arguments {'add_special_tokes': True} not recognized.\n",
            "Keyword arguments {'add_special_tokes': True} not recognized.\n",
            "Keyword arguments {'add_special_tokes': True} not recognized.\n",
            "Keyword arguments {'add_special_tokes': True} not recognized.\n",
            "Keyword arguments {'add_special_tokes': True} not recognized.\n",
            "Keyword arguments {'add_special_tokes': True} not recognized.\n",
            "Keyword arguments {'add_special_tokes': True} not recognized.\n",
            "Keyword arguments {'add_special_tokes': True} not recognized.\n",
            "Keyword arguments {'add_special_tokes': True} not recognized.\n",
            "Keyword arguments {'add_special_tokes': True} not recognized.\n",
            "Keyword arguments {'add_special_tokes': True} not recognized.\n",
            "Keyword arguments {'add_special_tokes': True} not recognized.\n",
            "Keyword arguments {'add_special_tokes': True} not recognized.\n",
            "Keyword arguments {'add_special_tokes': True} not recognized.\n",
            "Keyword arguments {'add_special_tokes': True} not recognized.\n",
            "Keyword arguments {'add_special_tokes': True} not recognized.\n",
            "Keyword arguments {'add_special_tokes': True} not recognized.\n",
            "Keyword arguments {'add_special_tokes': True} not recognized.\n",
            "Keyword arguments {'add_special_tokes': True} not recognized.\n",
            "Keyword arguments {'add_special_tokes': True} not recognized.\n",
            "Keyword arguments {'add_special_tokes': True} not recognized.\n",
            "Keyword arguments {'add_special_tokes': True} not recognized.\n",
            "Keyword arguments {'add_special_tokes': True} not recognized.\n",
            "Keyword arguments {'add_special_tokes': True} not recognized.\n",
            "Keyword arguments {'add_special_tokes': True} not recognized.\n",
            "Keyword arguments {'add_special_tokes': True} not recognized.\n",
            "Keyword arguments {'add_special_tokes': True} not recognized.\n",
            "Keyword arguments {'add_special_tokes': True} not recognized.\n",
            "Keyword arguments {'add_special_tokes': True} not recognized.\n",
            "Keyword arguments {'add_special_tokes': True} not recognized.\n",
            "Keyword arguments {'add_special_tokes': True} not recognized.\n",
            "Keyword arguments {'add_special_tokes': True} not recognized.\n",
            "Keyword arguments {'add_special_tokes': True} not recognized.\n",
            "Keyword arguments {'add_special_tokes': True} not recognized.\n",
            "Keyword arguments {'add_special_tokes': True} not recognized.\n",
            "Keyword arguments {'add_special_tokes': True} not recognized.\n",
            "Keyword arguments {'add_special_tokes': True} not recognized.\n",
            "Keyword arguments {'add_special_tokes': True} not recognized.\n",
            "Keyword arguments {'add_special_tokes': True} not recognized.\n",
            "Keyword arguments {'add_special_tokes': True} not recognized.\n",
            "Keyword arguments {'add_special_tokes': True} not recognized.\n",
            "Keyword arguments {'add_special_tokes': True} not recognized.\n",
            "Keyword arguments {'add_special_tokes': True} not recognized.\n",
            "Keyword arguments {'add_special_tokes': True} not recognized.\n",
            "Keyword arguments {'add_special_tokes': True} not recognized.\n",
            "Keyword arguments {'add_special_tokes': True} not recognized.\n",
            "Keyword arguments {'add_special_tokes': True} not recognized.\n",
            "Keyword arguments {'add_special_tokes': True} not recognized.\n",
            "Keyword arguments {'add_special_tokes': True} not recognized.\n",
            "Keyword arguments {'add_special_tokes': True} not recognized.\n",
            "Keyword arguments {'add_special_tokes': True} not recognized.\n",
            "Keyword arguments {'add_special_tokes': True} not recognized.\n",
            "Keyword arguments {'add_special_tokes': True} not recognized.\n",
            "Keyword arguments {'add_special_tokes': True} not recognized.\n",
            "Keyword arguments {'add_special_tokes': True} not recognized.\n",
            "Keyword arguments {'add_special_tokes': True} not recognized.\n",
            "Keyword arguments {'add_special_tokes': True} not recognized.\n",
            "Keyword arguments {'add_special_tokes': True} not recognized.\n",
            "Keyword arguments {'add_special_tokes': True} not recognized.\n",
            "Keyword arguments {'add_special_tokes': True} not recognized.\n",
            "Keyword arguments {'add_special_tokes': True} not recognized.\n",
            "Keyword arguments {'add_special_tokes': True} not recognized.\n",
            "Keyword arguments {'add_special_tokes': True} not recognized.\n",
            "Keyword arguments {'add_special_tokes': True} not recognized.\n",
            "Keyword arguments {'add_special_tokes': True} not recognized.\n",
            "Keyword arguments {'add_special_tokes': True} not recognized.\n",
            "Keyword arguments {'add_special_tokes': True} not recognized.\n",
            "Keyword arguments {'add_special_tokes': True} not recognized.\n",
            "Keyword arguments {'add_special_tokes': True} not recognized.\n",
            "Keyword arguments {'add_special_tokes': True} not recognized.\n",
            "Keyword arguments {'add_special_tokes': True} not recognized.\n",
            "Keyword arguments {'add_special_tokes': True} not recognized.\n",
            "Keyword arguments {'add_special_tokes': True} not recognized.\n",
            "Keyword arguments {'add_special_tokes': True} not recognized.\n",
            "Keyword arguments {'add_special_tokes': True} not recognized.\n",
            "Keyword arguments {'add_special_tokes': True} not recognized.\n",
            "Keyword arguments {'add_special_tokes': True} not recognized.\n",
            "Keyword arguments {'add_special_tokes': True} not recognized.\n",
            "Keyword arguments {'add_special_tokes': True} not recognized.\n",
            "Keyword arguments {'add_special_tokes': True} not recognized.\n",
            "Keyword arguments {'add_special_tokes': True} not recognized.\n",
            "Keyword arguments {'add_special_tokes': True} not recognized.\n",
            "Keyword arguments {'add_special_tokes': True} not recognized.\n",
            "Keyword arguments {'add_special_tokes': True} not recognized.\n",
            "Keyword arguments {'add_special_tokes': True} not recognized.\n",
            "Keyword arguments {'add_special_tokes': True} not recognized.\n",
            "Keyword arguments {'add_special_tokes': True} not recognized.\n",
            "Keyword arguments {'add_special_tokes': True} not recognized.\n",
            "Keyword arguments {'add_special_tokes': True} not recognized.\n",
            "Keyword arguments {'add_special_tokes': True} not recognized.\n",
            "Keyword arguments {'add_special_tokes': True} not recognized.\n",
            "Keyword arguments {'add_special_tokes': True} not recognized.\n",
            "Keyword arguments {'add_special_tokes': True} not recognized.\n",
            "Keyword arguments {'add_special_tokes': True} not recognized.\n",
            "Keyword arguments {'add_special_tokes': True} not recognized.\n",
            "Keyword arguments {'add_special_tokes': True} not recognized.\n",
            "Keyword arguments {'add_special_tokes': True} not recognized.\n",
            "Keyword arguments {'add_special_tokes': True} not recognized.\n",
            "Keyword arguments {'add_special_tokes': True} not recognized.\n",
            "Keyword arguments {'add_special_tokes': True} not recognized.\n",
            "Keyword arguments {'add_special_tokes': True} not recognized.\n",
            "Keyword arguments {'add_special_tokes': True} not recognized.\n",
            "Keyword arguments {'add_special_tokes': True} not recognized.\n",
            "Keyword arguments {'add_special_tokes': True} not recognized.\n",
            "Keyword arguments {'add_special_tokes': True} not recognized.\n",
            "Keyword arguments {'add_special_tokes': True} not recognized.\n",
            "Keyword arguments {'add_special_tokes': True} not recognized.\n",
            "Keyword arguments {'add_special_tokes': True} not recognized.\n",
            "Keyword arguments {'add_special_tokes': True} not recognized.\n",
            "Keyword arguments {'add_special_tokes': True} not recognized.\n",
            "Keyword arguments {'add_special_tokes': True} not recognized.\n",
            "Keyword arguments {'add_special_tokes': True} not recognized.\n",
            "Keyword arguments {'add_special_tokes': True} not recognized.\n",
            "Keyword arguments {'add_special_tokes': True} not recognized.\n",
            "Keyword arguments {'add_special_tokes': True} not recognized.\n",
            "Keyword arguments {'add_special_tokes': True} not recognized.\n",
            "Keyword arguments {'add_special_tokes': True} not recognized.\n",
            "Keyword arguments {'add_special_tokes': True} not recognized.\n",
            "Keyword arguments {'add_special_tokes': True} not recognized.\n",
            "Keyword arguments {'add_special_tokes': True} not recognized.\n",
            "Keyword arguments {'add_special_tokes': True} not recognized.\n",
            "Keyword arguments {'add_special_tokes': True} not recognized.\n",
            "Keyword arguments {'add_special_tokes': True} not recognized.\n",
            "Keyword arguments {'add_special_tokes': True} not recognized.\n",
            "Keyword arguments {'add_special_tokes': True} not recognized.\n",
            "Keyword arguments {'add_special_tokes': True} not recognized.\n",
            "Keyword arguments {'add_special_tokes': True} not recognized.\n",
            "Keyword arguments {'add_special_tokes': True} not recognized.\n",
            "Keyword arguments {'add_special_tokes': True} not recognized.\n",
            "Keyword arguments {'add_special_tokes': True} not recognized.\n",
            "Keyword arguments {'add_special_tokes': True} not recognized.\n",
            "Keyword arguments {'add_special_tokes': True} not recognized.\n",
            "Keyword arguments {'add_special_tokes': True} not recognized.\n",
            "Keyword arguments {'add_special_tokes': True} not recognized.\n",
            "Keyword arguments {'add_special_tokes': True} not recognized.\n",
            "Keyword arguments {'add_special_tokes': True} not recognized.\n",
            "Keyword arguments {'add_special_tokes': True} not recognized.\n",
            "Keyword arguments {'add_special_tokes': True} not recognized.\n",
            "Keyword arguments {'add_special_tokes': True} not recognized.\n",
            "Keyword arguments {'add_special_tokes': True} not recognized.\n",
            "Keyword arguments {'add_special_tokes': True} not recognized.\n",
            "Keyword arguments {'add_special_tokes': True} not recognized.\n",
            "Keyword arguments {'add_special_tokes': True} not recognized.\n",
            "Keyword arguments {'add_special_tokes': True} not recognized.\n",
            "Keyword arguments {'add_special_tokes': True} not recognized.\n",
            "Keyword arguments {'add_special_tokes': True} not recognized.\n",
            "Keyword arguments {'add_special_tokes': True} not recognized.\n",
            "Keyword arguments {'add_special_tokes': True} not recognized.\n",
            "Keyword arguments {'add_special_tokes': True} not recognized.\n",
            "Keyword arguments {'add_special_tokes': True} not recognized.\n",
            "Keyword arguments {'add_special_tokes': True} not recognized.\n",
            "Keyword arguments {'add_special_tokes': True} not recognized.\n",
            "Keyword arguments {'add_special_tokes': True} not recognized.\n",
            "Keyword arguments {'add_special_tokes': True} not recognized.\n",
            "Keyword arguments {'add_special_tokes': True} not recognized.\n",
            "Keyword arguments {'add_special_tokes': True} not recognized.\n",
            "Keyword arguments {'add_special_tokes': True} not recognized.\n",
            "Keyword arguments {'add_special_tokes': True} not recognized.\n",
            "Keyword arguments {'add_special_tokes': True} not recognized.\n",
            "Keyword arguments {'add_special_tokes': True} not recognized.\n",
            "Keyword arguments {'add_special_tokes': True} not recognized.\n",
            "Keyword arguments {'add_special_tokes': True} not recognized.\n",
            "Keyword arguments {'add_special_tokes': True} not recognized.\n",
            "Keyword arguments {'add_special_tokes': True} not recognized.\n",
            "Keyword arguments {'add_special_tokes': True} not recognized.\n",
            "Keyword arguments {'add_special_tokes': True} not recognized.\n",
            "Keyword arguments {'add_special_tokes': True} not recognized.\n",
            "Keyword arguments {'add_special_tokes': True} not recognized.\n",
            "Keyword arguments {'add_special_tokes': True} not recognized.\n",
            "Keyword arguments {'add_special_tokes': True} not recognized.\n",
            "Keyword arguments {'add_special_tokes': True} not recognized.\n",
            "Keyword arguments {'add_special_tokes': True} not recognized.\n",
            "Keyword arguments {'add_special_tokes': True} not recognized.\n",
            "Keyword arguments {'add_special_tokes': True} not recognized.\n",
            "Keyword arguments {'add_special_tokes': True} not recognized.\n",
            "Keyword arguments {'add_special_tokes': True} not recognized.\n",
            "Keyword arguments {'add_special_tokes': True} not recognized.\n",
            "Keyword arguments {'add_special_tokes': True} not recognized.\n",
            "Keyword arguments {'add_special_tokes': True} not recognized.\n",
            "Keyword arguments {'add_special_tokes': True} not recognized.\n",
            "Keyword arguments {'add_special_tokes': True} not recognized.\n",
            "Keyword arguments {'add_special_tokes': True} not recognized.\n",
            "Keyword arguments {'add_special_tokes': True} not recognized.\n",
            "Keyword arguments {'add_special_tokes': True} not recognized.\n",
            "Keyword arguments {'add_special_tokes': True} not recognized.\n",
            "Keyword arguments {'add_special_tokes': True} not recognized.\n",
            "Keyword arguments {'add_special_tokes': True} not recognized.\n",
            "Keyword arguments {'add_special_tokes': True} not recognized.\n",
            "Keyword arguments {'add_special_tokes': True} not recognized.\n",
            "Keyword arguments {'add_special_tokes': True} not recognized.\n",
            "Keyword arguments {'add_special_tokes': True} not recognized.\n",
            "Keyword arguments {'add_special_tokes': True} not recognized.\n",
            "Keyword arguments {'add_special_tokes': True} not recognized.\n",
            "Keyword arguments {'add_special_tokes': True} not recognized.\n",
            "Keyword arguments {'add_special_tokes': True} not recognized.\n",
            "Keyword arguments {'add_special_tokes': True} not recognized.\n",
            "Keyword arguments {'add_special_tokes': True} not recognized.\n",
            "Keyword arguments {'add_special_tokes': True} not recognized.\n",
            "Keyword arguments {'add_special_tokes': True} not recognized.\n",
            "Keyword arguments {'add_special_tokes': True} not recognized.\n",
            "Keyword arguments {'add_special_tokes': True} not recognized.\n",
            "Keyword arguments {'add_special_tokes': True} not recognized.\n",
            "Keyword arguments {'add_special_tokes': True} not recognized.\n",
            "Keyword arguments {'add_special_tokes': True} not recognized.\n",
            "Keyword arguments {'add_special_tokes': True} not recognized.\n",
            "Keyword arguments {'add_special_tokes': True} not recognized.\n",
            "Keyword arguments {'add_special_tokes': True} not recognized.\n",
            "Keyword arguments {'add_special_tokes': True} not recognized.\n",
            "Keyword arguments {'add_special_tokes': True} not recognized.\n",
            "Keyword arguments {'add_special_tokes': True} not recognized.\n",
            "Keyword arguments {'add_special_tokes': True} not recognized.\n",
            "Keyword arguments {'add_special_tokes': True} not recognized.\n",
            "Keyword arguments {'add_special_tokes': True} not recognized.\n",
            "Keyword arguments {'add_special_tokes': True} not recognized.\n",
            "Keyword arguments {'add_special_tokes': True} not recognized.\n",
            "Keyword arguments {'add_special_tokes': True} not recognized.\n",
            "Keyword arguments {'add_special_tokes': True} not recognized.\n",
            "Keyword arguments {'add_special_tokes': True} not recognized.\n",
            "Keyword arguments {'add_special_tokes': True} not recognized.\n",
            "Keyword arguments {'add_special_tokes': True} not recognized.\n",
            "Keyword arguments {'add_special_tokes': True} not recognized.\n",
            "Keyword arguments {'add_special_tokes': True} not recognized.\n",
            "Keyword arguments {'add_special_tokes': True} not recognized.\n",
            "Keyword arguments {'add_special_tokes': True} not recognized.\n",
            "Keyword arguments {'add_special_tokes': True} not recognized.\n",
            "Keyword arguments {'add_special_tokes': True} not recognized.\n",
            "Keyword arguments {'add_special_tokes': True} not recognized.\n",
            "Keyword arguments {'add_special_tokes': True} not recognized.\n",
            "Keyword arguments {'add_special_tokes': True} not recognized.\n",
            "Keyword arguments {'add_special_tokes': True} not recognized.\n",
            "Keyword arguments {'add_special_tokes': True} not recognized.\n",
            "Keyword arguments {'add_special_tokes': True} not recognized.\n",
            "Keyword arguments {'add_special_tokes': True} not recognized.\n",
            "Keyword arguments {'add_special_tokes': True} not recognized.\n",
            "Keyword arguments {'add_special_tokes': True} not recognized.\n",
            "Keyword arguments {'add_special_tokes': True} not recognized.\n",
            "Keyword arguments {'add_special_tokes': True} not recognized.\n",
            "Keyword arguments {'add_special_tokes': True} not recognized.\n",
            "Keyword arguments {'add_special_tokes': True} not recognized.\n",
            "Keyword arguments {'add_special_tokes': True} not recognized.\n",
            "Keyword arguments {'add_special_tokes': True} not recognized.\n",
            "Keyword arguments {'add_special_tokes': True} not recognized.\n",
            "Keyword arguments {'add_special_tokes': True} not recognized.\n",
            "Keyword arguments {'add_special_tokes': True} not recognized.\n",
            "Keyword arguments {'add_special_tokes': True} not recognized.\n",
            "Keyword arguments {'add_special_tokes': True} not recognized.\n",
            "Keyword arguments {'add_special_tokes': True} not recognized.\n",
            "Keyword arguments {'add_special_tokes': True} not recognized.\n",
            "Keyword arguments {'add_special_tokes': True} not recognized.\n",
            "Keyword arguments {'add_special_tokes': True} not recognized.\n",
            "Keyword arguments {'add_special_tokes': True} not recognized.\n",
            "Keyword arguments {'add_special_tokes': True} not recognized.\n",
            "Keyword arguments {'add_special_tokes': True} not recognized.\n",
            "Keyword arguments {'add_special_tokes': True} not recognized.\n",
            "Keyword arguments {'add_special_tokes': True} not recognized.\n",
            "Keyword arguments {'add_special_tokes': True} not recognized.\n",
            "Keyword arguments {'add_special_tokes': True} not recognized.\n",
            "Keyword arguments {'add_special_tokes': True} not recognized.\n",
            "Keyword arguments {'add_special_tokes': True} not recognized.\n",
            "Keyword arguments {'add_special_tokes': True} not recognized.\n",
            "Keyword arguments {'add_special_tokes': True} not recognized.\n",
            "Keyword arguments {'add_special_tokes': True} not recognized.\n",
            "Keyword arguments {'add_special_tokes': True} not recognized.\n",
            "Keyword arguments {'add_special_tokes': True} not recognized.\n",
            "Keyword arguments {'add_special_tokes': True} not recognized.\n",
            "Keyword arguments {'add_special_tokes': True} not recognized.\n",
            "Keyword arguments {'add_special_tokes': True} not recognized.\n",
            "Keyword arguments {'add_special_tokes': True} not recognized.\n",
            "Keyword arguments {'add_special_tokes': True} not recognized.\n",
            "Keyword arguments {'add_special_tokes': True} not recognized.\n",
            "Keyword arguments {'add_special_tokes': True} not recognized.\n",
            "Keyword arguments {'add_special_tokes': True} not recognized.\n",
            "Keyword arguments {'add_special_tokes': True} not recognized.\n",
            "Keyword arguments {'add_special_tokes': True} not recognized.\n",
            "Keyword arguments {'add_special_tokes': True} not recognized.\n",
            "Keyword arguments {'add_special_tokes': True} not recognized.\n",
            "Keyword arguments {'add_special_tokes': True} not recognized.\n",
            "Keyword arguments {'add_special_tokes': True} not recognized.\n",
            "Keyword arguments {'add_special_tokes': True} not recognized.\n",
            "Keyword arguments {'add_special_tokes': True} not recognized.\n",
            "Keyword arguments {'add_special_tokes': True} not recognized.\n",
            "Keyword arguments {'add_special_tokes': True} not recognized.\n",
            "Keyword arguments {'add_special_tokes': True} not recognized.\n",
            "Keyword arguments {'add_special_tokes': True} not recognized.\n",
            "Keyword arguments {'add_special_tokes': True} not recognized.\n",
            "Keyword arguments {'add_special_tokes': True} not recognized.\n",
            "Keyword arguments {'add_special_tokes': True} not recognized.\n",
            "Keyword arguments {'add_special_tokes': True} not recognized.\n",
            "Keyword arguments {'add_special_tokes': True} not recognized.\n",
            "Keyword arguments {'add_special_tokes': True} not recognized.\n",
            "Keyword arguments {'add_special_tokes': True} not recognized.\n",
            "Keyword arguments {'add_special_tokes': True} not recognized.\n",
            "Keyword arguments {'add_special_tokes': True} not recognized.\n",
            "Keyword arguments {'add_special_tokes': True} not recognized.\n",
            "Keyword arguments {'add_special_tokes': True} not recognized.\n",
            "Keyword arguments {'add_special_tokes': True} not recognized.\n",
            "Keyword arguments {'add_special_tokes': True} not recognized.\n",
            "Keyword arguments {'add_special_tokes': True} not recognized.\n",
            "Keyword arguments {'add_special_tokes': True} not recognized.\n",
            "Keyword arguments {'add_special_tokes': True} not recognized.\n",
            "Keyword arguments {'add_special_tokes': True} not recognized.\n",
            "Keyword arguments {'add_special_tokes': True} not recognized.\n",
            "Keyword arguments {'add_special_tokes': True} not recognized.\n",
            "Keyword arguments {'add_special_tokes': True} not recognized.\n",
            "Keyword arguments {'add_special_tokes': True} not recognized.\n",
            "Keyword arguments {'add_special_tokes': True} not recognized.\n",
            "Keyword arguments {'add_special_tokes': True} not recognized.\n",
            "Keyword arguments {'add_special_tokes': True} not recognized.\n",
            "Keyword arguments {'add_special_tokes': True} not recognized.\n",
            "Keyword arguments {'add_special_tokes': True} not recognized.\n",
            "Keyword arguments {'add_special_tokes': True} not recognized.\n",
            "Keyword arguments {'add_special_tokes': True} not recognized.\n",
            "Keyword arguments {'add_special_tokes': True} not recognized.\n",
            "Keyword arguments {'add_special_tokes': True} not recognized.\n",
            "Keyword arguments {'add_special_tokes': True} not recognized.\n",
            "Keyword arguments {'add_special_tokes': True} not recognized.\n",
            "Keyword arguments {'add_special_tokes': True} not recognized.\n",
            "Keyword arguments {'add_special_tokes': True} not recognized.\n",
            "Keyword arguments {'add_special_tokes': True} not recognized.\n",
            "Keyword arguments {'add_special_tokes': True} not recognized.\n",
            "Keyword arguments {'add_special_tokes': True} not recognized.\n",
            "Keyword arguments {'add_special_tokes': True} not recognized.\n",
            "Keyword arguments {'add_special_tokes': True} not recognized.\n",
            "Keyword arguments {'add_special_tokes': True} not recognized.\n",
            "Keyword arguments {'add_special_tokes': True} not recognized.\n",
            "Keyword arguments {'add_special_tokes': True} not recognized.\n",
            "Keyword arguments {'add_special_tokes': True} not recognized.\n",
            "Keyword arguments {'add_special_tokes': True} not recognized.\n",
            "Keyword arguments {'add_special_tokes': True} not recognized.\n",
            "Keyword arguments {'add_special_tokes': True} not recognized.\n",
            "Keyword arguments {'add_special_tokes': True} not recognized.\n",
            "Keyword arguments {'add_special_tokes': True} not recognized.\n",
            "Keyword arguments {'add_special_tokes': True} not recognized.\n",
            "Keyword arguments {'add_special_tokes': True} not recognized.\n",
            "Keyword arguments {'add_special_tokes': True} not recognized.\n",
            "Keyword arguments {'add_special_tokes': True} not recognized.\n",
            "Keyword arguments {'add_special_tokes': True} not recognized.\n",
            "Keyword arguments {'add_special_tokes': True} not recognized.\n",
            "Keyword arguments {'add_special_tokes': True} not recognized.\n",
            "Keyword arguments {'add_special_tokes': True} not recognized.\n",
            "Keyword arguments {'add_special_tokes': True} not recognized.\n",
            "Keyword arguments {'add_special_tokes': True} not recognized.\n",
            "Keyword arguments {'add_special_tokes': True} not recognized.\n",
            "Keyword arguments {'add_special_tokes': True} not recognized.\n",
            "Keyword arguments {'add_special_tokes': True} not recognized.\n",
            "Keyword arguments {'add_special_tokes': True} not recognized.\n",
            "Keyword arguments {'add_special_tokes': True} not recognized.\n",
            "Keyword arguments {'add_special_tokes': True} not recognized.\n",
            "Keyword arguments {'add_special_tokes': True} not recognized.\n",
            "Keyword arguments {'add_special_tokes': True} not recognized.\n",
            "Keyword arguments {'add_special_tokes': True} not recognized.\n",
            "Keyword arguments {'add_special_tokes': True} not recognized.\n",
            "Keyword arguments {'add_special_tokes': True} not recognized.\n",
            "Keyword arguments {'add_special_tokes': True} not recognized.\n",
            "Keyword arguments {'add_special_tokes': True} not recognized.\n",
            "Keyword arguments {'add_special_tokes': True} not recognized.\n",
            "Keyword arguments {'add_special_tokes': True} not recognized.\n",
            "Keyword arguments {'add_special_tokes': True} not recognized.\n",
            "Keyword arguments {'add_special_tokes': True} not recognized.\n",
            "Keyword arguments {'add_special_tokes': True} not recognized.\n",
            "Keyword arguments {'add_special_tokes': True} not recognized.\n",
            "Keyword arguments {'add_special_tokes': True} not recognized.\n",
            "Keyword arguments {'add_special_tokes': True} not recognized.\n",
            "Keyword arguments {'add_special_tokes': True} not recognized.\n",
            "Keyword arguments {'add_special_tokes': True} not recognized.\n",
            "Keyword arguments {'add_special_tokes': True} not recognized.\n",
            "Keyword arguments {'add_special_tokes': True} not recognized.\n",
            "Keyword arguments {'add_special_tokes': True} not recognized.\n",
            "Keyword arguments {'add_special_tokes': True} not recognized.\n",
            "Keyword arguments {'add_special_tokes': True} not recognized.\n",
            "Keyword arguments {'add_special_tokes': True} not recognized.\n",
            "Keyword arguments {'add_special_tokes': True} not recognized.\n",
            "Keyword arguments {'add_special_tokes': True} not recognized.\n",
            "Keyword arguments {'add_special_tokes': True} not recognized.\n",
            "Keyword arguments {'add_special_tokes': True} not recognized.\n",
            "Keyword arguments {'add_special_tokes': True} not recognized.\n",
            "Keyword arguments {'add_special_tokes': True} not recognized.\n",
            "Keyword arguments {'add_special_tokes': True} not recognized.\n",
            "Keyword arguments {'add_special_tokes': True} not recognized.\n",
            "Keyword arguments {'add_special_tokes': True} not recognized.\n",
            "Keyword arguments {'add_special_tokes': True} not recognized.\n",
            "Keyword arguments {'add_special_tokes': True} not recognized.\n",
            "Keyword arguments {'add_special_tokes': True} not recognized.\n",
            "Keyword arguments {'add_special_tokes': True} not recognized.\n",
            "Keyword arguments {'add_special_tokes': True} not recognized.\n",
            "Keyword arguments {'add_special_tokes': True} not recognized.\n",
            "Keyword arguments {'add_special_tokes': True} not recognized.\n",
            "Keyword arguments {'add_special_tokes': True} not recognized.\n",
            "Keyword arguments {'add_special_tokes': True} not recognized.\n",
            "Keyword arguments {'add_special_tokes': True} not recognized.\n",
            "Keyword arguments {'add_special_tokes': True} not recognized.\n",
            "Keyword arguments {'add_special_tokes': True} not recognized.\n",
            "Keyword arguments {'add_special_tokes': True} not recognized.\n",
            "Keyword arguments {'add_special_tokes': True} not recognized.\n",
            "Keyword arguments {'add_special_tokes': True} not recognized.\n",
            "Keyword arguments {'add_special_tokes': True} not recognized.\n",
            "Keyword arguments {'add_special_tokes': True} not recognized.\n",
            "Keyword arguments {'add_special_tokes': True} not recognized.\n",
            "Keyword arguments {'add_special_tokes': True} not recognized.\n",
            "Keyword arguments {'add_special_tokes': True} not recognized.\n",
            "Keyword arguments {'add_special_tokes': True} not recognized.\n",
            "Keyword arguments {'add_special_tokes': True} not recognized.\n",
            "Keyword arguments {'add_special_tokes': True} not recognized.\n",
            "Keyword arguments {'add_special_tokes': True} not recognized.\n",
            "Keyword arguments {'add_special_tokes': True} not recognized.\n",
            "Keyword arguments {'add_special_tokes': True} not recognized.\n",
            "Keyword arguments {'add_special_tokes': True} not recognized.\n",
            "Keyword arguments {'add_special_tokes': True} not recognized.\n",
            "Keyword arguments {'add_special_tokes': True} not recognized.\n",
            "Keyword arguments {'add_special_tokes': True} not recognized.\n",
            "Keyword arguments {'add_special_tokes': True} not recognized.\n",
            "Keyword arguments {'add_special_tokes': True} not recognized.\n",
            "Keyword arguments {'add_special_tokes': True} not recognized.\n",
            "Keyword arguments {'add_special_tokes': True} not recognized.\n",
            "Keyword arguments {'add_special_tokes': True} not recognized.\n",
            "Keyword arguments {'add_special_tokes': True} not recognized.\n",
            "Keyword arguments {'add_special_tokes': True} not recognized.\n",
            "Keyword arguments {'add_special_tokes': True} not recognized.\n",
            "Keyword arguments {'add_special_tokes': True} not recognized.\n",
            "Keyword arguments {'add_special_tokes': True} not recognized.\n",
            "Keyword arguments {'add_special_tokes': True} not recognized.\n",
            "Keyword arguments {'add_special_tokes': True} not recognized.\n",
            "Keyword arguments {'add_special_tokes': True} not recognized.\n",
            "Keyword arguments {'add_special_tokes': True} not recognized.\n",
            "Keyword arguments {'add_special_tokes': True} not recognized.\n",
            "Keyword arguments {'add_special_tokes': True} not recognized.\n",
            "Keyword arguments {'add_special_tokes': True} not recognized.\n",
            "Keyword arguments {'add_special_tokes': True} not recognized.\n",
            "Keyword arguments {'add_special_tokes': True} not recognized.\n",
            "Keyword arguments {'add_special_tokes': True} not recognized.\n",
            "Keyword arguments {'add_special_tokes': True} not recognized.\n",
            "Keyword arguments {'add_special_tokes': True} not recognized.\n",
            "Keyword arguments {'add_special_tokes': True} not recognized.\n",
            "Keyword arguments {'add_special_tokes': True} not recognized.\n",
            "Keyword arguments {'add_special_tokes': True} not recognized.\n",
            "Keyword arguments {'add_special_tokes': True} not recognized.\n",
            "Keyword arguments {'add_special_tokes': True} not recognized.\n",
            "Keyword arguments {'add_special_tokes': True} not recognized.\n",
            "Keyword arguments {'add_special_tokes': True} not recognized.\n",
            "Keyword arguments {'add_special_tokes': True} not recognized.\n",
            "Keyword arguments {'add_special_tokes': True} not recognized.\n",
            "Keyword arguments {'add_special_tokes': True} not recognized.\n",
            "Keyword arguments {'add_special_tokes': True} not recognized.\n",
            "Keyword arguments {'add_special_tokes': True} not recognized.\n",
            "Keyword arguments {'add_special_tokes': True} not recognized.\n",
            "Keyword arguments {'add_special_tokes': True} not recognized.\n",
            "Keyword arguments {'add_special_tokes': True} not recognized.\n",
            "Keyword arguments {'add_special_tokes': True} not recognized.\n",
            "Keyword arguments {'add_special_tokes': True} not recognized.\n",
            "Keyword arguments {'add_special_tokes': True} not recognized.\n",
            "Keyword arguments {'add_special_tokes': True} not recognized.\n",
            "Keyword arguments {'add_special_tokes': True} not recognized.\n",
            "Keyword arguments {'add_special_tokes': True} not recognized.\n",
            "Keyword arguments {'add_special_tokes': True} not recognized.\n",
            "Keyword arguments {'add_special_tokes': True} not recognized.\n",
            "Keyword arguments {'add_special_tokes': True} not recognized.\n",
            "Keyword arguments {'add_special_tokes': True} not recognized.\n",
            "Keyword arguments {'add_special_tokes': True} not recognized.\n",
            "Keyword arguments {'add_special_tokes': True} not recognized.\n",
            "Keyword arguments {'add_special_tokes': True} not recognized.\n",
            "Keyword arguments {'add_special_tokes': True} not recognized.\n",
            "Keyword arguments {'add_special_tokes': True} not recognized.\n",
            "Keyword arguments {'add_special_tokes': True} not recognized.\n",
            "Keyword arguments {'add_special_tokes': True} not recognized.\n",
            "Keyword arguments {'add_special_tokes': True} not recognized.\n",
            "Keyword arguments {'add_special_tokes': True} not recognized.\n",
            "Keyword arguments {'add_special_tokes': True} not recognized.\n",
            "Keyword arguments {'add_special_tokes': True} not recognized.\n",
            "Keyword arguments {'add_special_tokes': True} not recognized.\n",
            "Keyword arguments {'add_special_tokes': True} not recognized.\n",
            "Keyword arguments {'add_special_tokes': True} not recognized.\n",
            "Keyword arguments {'add_special_tokes': True} not recognized.\n",
            "Keyword arguments {'add_special_tokes': True} not recognized.\n",
            "Keyword arguments {'add_special_tokes': True} not recognized.\n",
            "Keyword arguments {'add_special_tokes': True} not recognized.\n",
            "Keyword arguments {'add_special_tokes': True} not recognized.\n",
            "Keyword arguments {'add_special_tokes': True} not recognized.\n",
            "Keyword arguments {'add_special_tokes': True} not recognized.\n",
            "Keyword arguments {'add_special_tokes': True} not recognized.\n",
            "Keyword arguments {'add_special_tokes': True} not recognized.\n",
            "Keyword arguments {'add_special_tokes': True} not recognized.\n",
            "Keyword arguments {'add_special_tokes': True} not recognized.\n",
            "Keyword arguments {'add_special_tokes': True} not recognized.\n",
            "Keyword arguments {'add_special_tokes': True} not recognized.\n",
            "Keyword arguments {'add_special_tokes': True} not recognized.\n",
            "Keyword arguments {'add_special_tokes': True} not recognized.\n",
            "Keyword arguments {'add_special_tokes': True} not recognized.\n",
            "Keyword arguments {'add_special_tokes': True} not recognized.\n",
            "Keyword arguments {'add_special_tokes': True} not recognized.\n",
            "Keyword arguments {'add_special_tokes': True} not recognized.\n",
            "Keyword arguments {'add_special_tokes': True} not recognized.\n",
            "Keyword arguments {'add_special_tokes': True} not recognized.\n",
            "Keyword arguments {'add_special_tokes': True} not recognized.\n",
            "Keyword arguments {'add_special_tokes': True} not recognized.\n",
            "Keyword arguments {'add_special_tokes': True} not recognized.\n",
            "Keyword arguments {'add_special_tokes': True} not recognized.\n",
            "Keyword arguments {'add_special_tokes': True} not recognized.\n",
            "Keyword arguments {'add_special_tokes': True} not recognized.\n",
            "Keyword arguments {'add_special_tokes': True} not recognized.\n",
            "Keyword arguments {'add_special_tokes': True} not recognized.\n",
            "Keyword arguments {'add_special_tokes': True} not recognized.\n",
            "Keyword arguments {'add_special_tokes': True} not recognized.\n",
            "Keyword arguments {'add_special_tokes': True} not recognized.\n",
            "Keyword arguments {'add_special_tokes': True} not recognized.\n",
            "Keyword arguments {'add_special_tokes': True} not recognized.\n",
            "Keyword arguments {'add_special_tokes': True} not recognized.\n",
            "Keyword arguments {'add_special_tokes': True} not recognized.\n",
            "Keyword arguments {'add_special_tokes': True} not recognized.\n",
            "Keyword arguments {'add_special_tokes': True} not recognized.\n",
            "Keyword arguments {'add_special_tokes': True} not recognized.\n",
            "Keyword arguments {'add_special_tokes': True} not recognized.\n",
            "Keyword arguments {'add_special_tokes': True} not recognized.\n",
            "Keyword arguments {'add_special_tokes': True} not recognized.\n",
            "Keyword arguments {'add_special_tokes': True} not recognized.\n",
            "Keyword arguments {'add_special_tokes': True} not recognized.\n",
            "Keyword arguments {'add_special_tokes': True} not recognized.\n",
            "Keyword arguments {'add_special_tokes': True} not recognized.\n",
            "Keyword arguments {'add_special_tokes': True} not recognized.\n",
            "Keyword arguments {'add_special_tokes': True} not recognized.\n",
            "Keyword arguments {'add_special_tokes': True} not recognized.\n",
            "Keyword arguments {'add_special_tokes': True} not recognized.\n",
            "Keyword arguments {'add_special_tokes': True} not recognized.\n",
            "Keyword arguments {'add_special_tokes': True} not recognized.\n",
            "Keyword arguments {'add_special_tokes': True} not recognized.\n",
            "Keyword arguments {'add_special_tokes': True} not recognized.\n",
            "Keyword arguments {'add_special_tokes': True} not recognized.\n",
            "Keyword arguments {'add_special_tokes': True} not recognized.\n",
            "Keyword arguments {'add_special_tokes': True} not recognized.\n",
            "Keyword arguments {'add_special_tokes': True} not recognized.\n",
            "Keyword arguments {'add_special_tokes': True} not recognized.\n",
            "Keyword arguments {'add_special_tokes': True} not recognized.\n",
            "Keyword arguments {'add_special_tokes': True} not recognized.\n",
            "Keyword arguments {'add_special_tokes': True} not recognized.\n",
            "Keyword arguments {'add_special_tokes': True} not recognized.\n",
            "Keyword arguments {'add_special_tokes': True} not recognized.\n",
            "Keyword arguments {'add_special_tokes': True} not recognized.\n",
            "Keyword arguments {'add_special_tokes': True} not recognized.\n",
            "Keyword arguments {'add_special_tokes': True} not recognized.\n",
            "Keyword arguments {'add_special_tokes': True} not recognized.\n",
            "Keyword arguments {'add_special_tokes': True} not recognized.\n",
            "Keyword arguments {'add_special_tokes': True} not recognized.\n",
            "Keyword arguments {'add_special_tokes': True} not recognized.\n",
            "Keyword arguments {'add_special_tokes': True} not recognized.\n",
            "Keyword arguments {'add_special_tokes': True} not recognized.\n",
            "Keyword arguments {'add_special_tokes': True} not recognized.\n",
            "Keyword arguments {'add_special_tokes': True} not recognized.\n",
            "Keyword arguments {'add_special_tokes': True} not recognized.\n",
            "Keyword arguments {'add_special_tokes': True} not recognized.\n",
            "Keyword arguments {'add_special_tokes': True} not recognized.\n",
            "Keyword arguments {'add_special_tokes': True} not recognized.\n",
            "Keyword arguments {'add_special_tokes': True} not recognized.\n",
            "Keyword arguments {'add_special_tokes': True} not recognized.\n",
            "Keyword arguments {'add_special_tokes': True} not recognized.\n",
            "Keyword arguments {'add_special_tokes': True} not recognized.\n",
            "Keyword arguments {'add_special_tokes': True} not recognized.\n",
            "Keyword arguments {'add_special_tokes': True} not recognized.\n",
            "Keyword arguments {'add_special_tokes': True} not recognized.\n",
            "Keyword arguments {'add_special_tokes': True} not recognized.\n",
            "Keyword arguments {'add_special_tokes': True} not recognized.\n",
            "Keyword arguments {'add_special_tokes': True} not recognized.\n",
            "Keyword arguments {'add_special_tokes': True} not recognized.\n",
            "Keyword arguments {'add_special_tokes': True} not recognized.\n",
            "Keyword arguments {'add_special_tokes': True} not recognized.\n",
            "Keyword arguments {'add_special_tokes': True} not recognized.\n",
            "Keyword arguments {'add_special_tokes': True} not recognized.\n",
            "Keyword arguments {'add_special_tokes': True} not recognized.\n",
            "Keyword arguments {'add_special_tokes': True} not recognized.\n",
            "Keyword arguments {'add_special_tokes': True} not recognized.\n",
            "Keyword arguments {'add_special_tokes': True} not recognized.\n",
            "Keyword arguments {'add_special_tokes': True} not recognized.\n",
            "Keyword arguments {'add_special_tokes': True} not recognized.\n",
            "Keyword arguments {'add_special_tokes': True} not recognized.\n",
            "Keyword arguments {'add_special_tokes': True} not recognized.\n",
            "Keyword arguments {'add_special_tokes': True} not recognized.\n",
            "Keyword arguments {'add_special_tokes': True} not recognized.\n",
            "Keyword arguments {'add_special_tokes': True} not recognized.\n",
            "Keyword arguments {'add_special_tokes': True} not recognized.\n",
            "Keyword arguments {'add_special_tokes': True} not recognized.\n",
            "Keyword arguments {'add_special_tokes': True} not recognized.\n",
            "Keyword arguments {'add_special_tokes': True} not recognized.\n",
            "Keyword arguments {'add_special_tokes': True} not recognized.\n",
            "Keyword arguments {'add_special_tokes': True} not recognized.\n",
            "Keyword arguments {'add_special_tokes': True} not recognized.\n",
            "Keyword arguments {'add_special_tokes': True} not recognized.\n",
            "Keyword arguments {'add_special_tokes': True} not recognized.\n",
            "Keyword arguments {'add_special_tokes': True} not recognized.\n",
            "Keyword arguments {'add_special_tokes': True} not recognized.\n",
            "Keyword arguments {'add_special_tokes': True} not recognized.\n",
            "Keyword arguments {'add_special_tokes': True} not recognized.\n",
            "Keyword arguments {'add_special_tokes': True} not recognized.\n",
            "Keyword arguments {'add_special_tokes': True} not recognized.\n",
            "Keyword arguments {'add_special_tokes': True} not recognized.\n",
            "Keyword arguments {'add_special_tokes': True} not recognized.\n",
            "Keyword arguments {'add_special_tokes': True} not recognized.\n",
            "Keyword arguments {'add_special_tokes': True} not recognized.\n",
            "Keyword arguments {'add_special_tokes': True} not recognized.\n",
            "Keyword arguments {'add_special_tokes': True} not recognized.\n",
            "Keyword arguments {'add_special_tokes': True} not recognized.\n",
            "Keyword arguments {'add_special_tokes': True} not recognized.\n",
            "Keyword arguments {'add_special_tokes': True} not recognized.\n",
            "Keyword arguments {'add_special_tokes': True} not recognized.\n",
            "Keyword arguments {'add_special_tokes': True} not recognized.\n",
            "Keyword arguments {'add_special_tokes': True} not recognized.\n",
            "Keyword arguments {'add_special_tokes': True} not recognized.\n",
            "Keyword arguments {'add_special_tokes': True} not recognized.\n",
            "Keyword arguments {'add_special_tokes': True} not recognized.\n",
            "Keyword arguments {'add_special_tokes': True} not recognized.\n",
            "Keyword arguments {'add_special_tokes': True} not recognized.\n",
            "Keyword arguments {'add_special_tokes': True} not recognized.\n",
            "Keyword arguments {'add_special_tokes': True} not recognized.\n",
            "Keyword arguments {'add_special_tokes': True} not recognized.\n",
            "Keyword arguments {'add_special_tokes': True} not recognized.\n",
            "Keyword arguments {'add_special_tokes': True} not recognized.\n",
            "Keyword arguments {'add_special_tokes': True} not recognized.\n",
            "Keyword arguments {'add_special_tokes': True} not recognized.\n",
            "Keyword arguments {'add_special_tokes': True} not recognized.\n",
            "Keyword arguments {'add_special_tokes': True} not recognized.\n",
            "Keyword arguments {'add_special_tokes': True} not recognized.\n",
            "Keyword arguments {'add_special_tokes': True} not recognized.\n",
            "Keyword arguments {'add_special_tokes': True} not recognized.\n",
            "Keyword arguments {'add_special_tokes': True} not recognized.\n",
            "Keyword arguments {'add_special_tokes': True} not recognized.\n",
            "Keyword arguments {'add_special_tokes': True} not recognized.\n",
            "Keyword arguments {'add_special_tokes': True} not recognized.\n",
            "Keyword arguments {'add_special_tokes': True} not recognized.\n",
            "Keyword arguments {'add_special_tokes': True} not recognized.\n",
            "Keyword arguments {'add_special_tokes': True} not recognized.\n",
            "Keyword arguments {'add_special_tokes': True} not recognized.\n",
            "Keyword arguments {'add_special_tokes': True} not recognized.\n",
            "Keyword arguments {'add_special_tokes': True} not recognized.\n",
            "Keyword arguments {'add_special_tokes': True} not recognized.\n",
            "Keyword arguments {'add_special_tokes': True} not recognized.\n",
            "Keyword arguments {'add_special_tokes': True} not recognized.\n",
            "Keyword arguments {'add_special_tokes': True} not recognized.\n",
            "Keyword arguments {'add_special_tokes': True} not recognized.\n",
            "Keyword arguments {'add_special_tokes': True} not recognized.\n",
            "Keyword arguments {'add_special_tokes': True} not recognized.\n",
            "Keyword arguments {'add_special_tokes': True} not recognized.\n",
            "Keyword arguments {'add_special_tokes': True} not recognized.\n",
            "Keyword arguments {'add_special_tokes': True} not recognized.\n",
            "Keyword arguments {'add_special_tokes': True} not recognized.\n",
            "Keyword arguments {'add_special_tokes': True} not recognized.\n",
            "Keyword arguments {'add_special_tokes': True} not recognized.\n",
            "Keyword arguments {'add_special_tokes': True} not recognized.\n",
            "Keyword arguments {'add_special_tokes': True} not recognized.\n",
            "Keyword arguments {'add_special_tokes': True} not recognized.\n",
            "Keyword arguments {'add_special_tokes': True} not recognized.\n",
            "Keyword arguments {'add_special_tokes': True} not recognized.\n",
            "Keyword arguments {'add_special_tokes': True} not recognized.\n",
            "Keyword arguments {'add_special_tokes': True} not recognized.\n",
            "Keyword arguments {'add_special_tokes': True} not recognized.\n",
            "Keyword arguments {'add_special_tokes': True} not recognized.\n",
            "Keyword arguments {'add_special_tokes': True} not recognized.\n",
            "Keyword arguments {'add_special_tokes': True} not recognized.\n",
            "Keyword arguments {'add_special_tokes': True} not recognized.\n",
            "Keyword arguments {'add_special_tokes': True} not recognized.\n",
            "Keyword arguments {'add_special_tokes': True} not recognized.\n",
            "Keyword arguments {'add_special_tokes': True} not recognized.\n",
            "Keyword arguments {'add_special_tokes': True} not recognized.\n",
            "Keyword arguments {'add_special_tokes': True} not recognized.\n",
            "Keyword arguments {'add_special_tokes': True} not recognized.\n",
            "Keyword arguments {'add_special_tokes': True} not recognized.\n",
            "Keyword arguments {'add_special_tokes': True} not recognized.\n",
            "Keyword arguments {'add_special_tokes': True} not recognized.\n",
            "Keyword arguments {'add_special_tokes': True} not recognized.\n",
            "Keyword arguments {'add_special_tokes': True} not recognized.\n",
            "Keyword arguments {'add_special_tokes': True} not recognized.\n",
            "Keyword arguments {'add_special_tokes': True} not recognized.\n",
            "Keyword arguments {'add_special_tokes': True} not recognized.\n",
            "Keyword arguments {'add_special_tokes': True} not recognized.\n",
            "Keyword arguments {'add_special_tokes': True} not recognized.\n",
            "Keyword arguments {'add_special_tokes': True} not recognized.\n",
            "Keyword arguments {'add_special_tokes': True} not recognized.\n",
            "Keyword arguments {'add_special_tokes': True} not recognized.\n",
            "Keyword arguments {'add_special_tokes': True} not recognized.\n",
            "Keyword arguments {'add_special_tokes': True} not recognized.\n",
            "Keyword arguments {'add_special_tokes': True} not recognized.\n",
            "Keyword arguments {'add_special_tokes': True} not recognized.\n",
            "Keyword arguments {'add_special_tokes': True} not recognized.\n",
            "Keyword arguments {'add_special_tokes': True} not recognized.\n",
            "Keyword arguments {'add_special_tokes': True} not recognized.\n",
            "Keyword arguments {'add_special_tokes': True} not recognized.\n",
            "Keyword arguments {'add_special_tokes': True} not recognized.\n",
            "Keyword arguments {'add_special_tokes': True} not recognized.\n",
            "Keyword arguments {'add_special_tokes': True} not recognized.\n",
            "Keyword arguments {'add_special_tokes': True} not recognized.\n",
            "Keyword arguments {'add_special_tokes': True} not recognized.\n",
            "Keyword arguments {'add_special_tokes': True} not recognized.\n",
            "Keyword arguments {'add_special_tokes': True} not recognized.\n",
            "Keyword arguments {'add_special_tokes': True} not recognized.\n",
            "Keyword arguments {'add_special_tokes': True} not recognized.\n",
            "Keyword arguments {'add_special_tokes': True} not recognized.\n",
            "Keyword arguments {'add_special_tokes': True} not recognized.\n",
            "Keyword arguments {'add_special_tokes': True} not recognized.\n",
            "Keyword arguments {'add_special_tokes': True} not recognized.\n",
            "Keyword arguments {'add_special_tokes': True} not recognized.\n",
            "Keyword arguments {'add_special_tokes': True} not recognized.\n",
            "Keyword arguments {'add_special_tokes': True} not recognized.\n",
            "Keyword arguments {'add_special_tokes': True} not recognized.\n",
            "Keyword arguments {'add_special_tokes': True} not recognized.\n",
            "Keyword arguments {'add_special_tokes': True} not recognized.\n",
            "Keyword arguments {'add_special_tokes': True} not recognized.\n",
            "Keyword arguments {'add_special_tokes': True} not recognized.\n",
            "Keyword arguments {'add_special_tokes': True} not recognized.\n",
            "Keyword arguments {'add_special_tokes': True} not recognized.\n",
            "Keyword arguments {'add_special_tokes': True} not recognized.\n",
            "Keyword arguments {'add_special_tokes': True} not recognized.\n",
            "Keyword arguments {'add_special_tokes': True} not recognized.\n",
            "Keyword arguments {'add_special_tokes': True} not recognized.\n",
            "Keyword arguments {'add_special_tokes': True} not recognized.\n",
            "Keyword arguments {'add_special_tokes': True} not recognized.\n",
            "Keyword arguments {'add_special_tokes': True} not recognized.\n",
            "Keyword arguments {'add_special_tokes': True} not recognized.\n",
            "Keyword arguments {'add_special_tokes': True} not recognized.\n",
            "Keyword arguments {'add_special_tokes': True} not recognized.\n",
            "Keyword arguments {'add_special_tokes': True} not recognized.\n",
            "Keyword arguments {'add_special_tokes': True} not recognized.\n",
            "Keyword arguments {'add_special_tokes': True} not recognized.\n",
            "Keyword arguments {'add_special_tokes': True} not recognized.\n",
            "Keyword arguments {'add_special_tokes': True} not recognized.\n",
            "Keyword arguments {'add_special_tokes': True} not recognized.\n",
            "Keyword arguments {'add_special_tokes': True} not recognized.\n",
            "Keyword arguments {'add_special_tokes': True} not recognized.\n",
            "Keyword arguments {'add_special_tokes': True} not recognized.\n",
            "Keyword arguments {'add_special_tokes': True} not recognized.\n",
            "Keyword arguments {'add_special_tokes': True} not recognized.\n",
            "Keyword arguments {'add_special_tokes': True} not recognized.\n",
            "Keyword arguments {'add_special_tokes': True} not recognized.\n",
            "Keyword arguments {'add_special_tokes': True} not recognized.\n",
            "Keyword arguments {'add_special_tokes': True} not recognized.\n",
            "Keyword arguments {'add_special_tokes': True} not recognized.\n",
            "Keyword arguments {'add_special_tokes': True} not recognized.\n",
            "Keyword arguments {'add_special_tokes': True} not recognized.\n",
            "Keyword arguments {'add_special_tokes': True} not recognized.\n",
            "Keyword arguments {'add_special_tokes': True} not recognized.\n",
            "Keyword arguments {'add_special_tokes': True} not recognized.\n",
            "Keyword arguments {'add_special_tokes': True} not recognized.\n",
            "Keyword arguments {'add_special_tokes': True} not recognized.\n",
            "Keyword arguments {'add_special_tokes': True} not recognized.\n",
            "Keyword arguments {'add_special_tokes': True} not recognized.\n",
            "Keyword arguments {'add_special_tokes': True} not recognized.\n",
            "Keyword arguments {'add_special_tokes': True} not recognized.\n",
            "Keyword arguments {'add_special_tokes': True} not recognized.\n",
            "Keyword arguments {'add_special_tokes': True} not recognized.\n",
            "Keyword arguments {'add_special_tokes': True} not recognized.\n",
            "Keyword arguments {'add_special_tokes': True} not recognized.\n",
            "Keyword arguments {'add_special_tokes': True} not recognized.\n",
            "Keyword arguments {'add_special_tokes': True} not recognized.\n",
            "Keyword arguments {'add_special_tokes': True} not recognized.\n",
            "Keyword arguments {'add_special_tokes': True} not recognized.\n",
            "Keyword arguments {'add_special_tokes': True} not recognized.\n",
            "Keyword arguments {'add_special_tokes': True} not recognized.\n",
            "Keyword arguments {'add_special_tokes': True} not recognized.\n",
            "Keyword arguments {'add_special_tokes': True} not recognized.\n",
            "Keyword arguments {'add_special_tokes': True} not recognized.\n",
            "Keyword arguments {'add_special_tokes': True} not recognized.\n",
            "Keyword arguments {'add_special_tokes': True} not recognized.\n",
            "Keyword arguments {'add_special_tokes': True} not recognized.\n",
            "Keyword arguments {'add_special_tokes': True} not recognized.\n",
            "Keyword arguments {'add_special_tokes': True} not recognized.\n",
            "Keyword arguments {'add_special_tokes': True} not recognized.\n",
            "Keyword arguments {'add_special_tokes': True} not recognized.\n",
            "Keyword arguments {'add_special_tokes': True} not recognized.\n",
            "Keyword arguments {'add_special_tokes': True} not recognized.\n",
            "Keyword arguments {'add_special_tokes': True} not recognized.\n",
            "Keyword arguments {'add_special_tokes': True} not recognized.\n",
            "Keyword arguments {'add_special_tokes': True} not recognized.\n",
            "Keyword arguments {'add_special_tokes': True} not recognized.\n",
            "Keyword arguments {'add_special_tokes': True} not recognized.\n",
            "Keyword arguments {'add_special_tokes': True} not recognized.\n",
            "Keyword arguments {'add_special_tokes': True} not recognized.\n",
            "Keyword arguments {'add_special_tokes': True} not recognized.\n",
            "Keyword arguments {'add_special_tokes': True} not recognized.\n",
            "Keyword arguments {'add_special_tokes': True} not recognized.\n",
            "Keyword arguments {'add_special_tokes': True} not recognized.\n",
            "Keyword arguments {'add_special_tokes': True} not recognized.\n",
            "Keyword arguments {'add_special_tokes': True} not recognized.\n",
            "Keyword arguments {'add_special_tokes': True} not recognized.\n",
            "Keyword arguments {'add_special_tokes': True} not recognized.\n",
            "Keyword arguments {'add_special_tokes': True} not recognized.\n",
            "Keyword arguments {'add_special_tokes': True} not recognized.\n",
            "Keyword arguments {'add_special_tokes': True} not recognized.\n",
            "Keyword arguments {'add_special_tokes': True} not recognized.\n",
            "Keyword arguments {'add_special_tokes': True} not recognized.\n",
            "Keyword arguments {'add_special_tokes': True} not recognized.\n",
            "Keyword arguments {'add_special_tokes': True} not recognized.\n",
            "Keyword arguments {'add_special_tokes': True} not recognized.\n",
            "Keyword arguments {'add_special_tokes': True} not recognized.\n",
            "Keyword arguments {'add_special_tokes': True} not recognized.\n",
            "Keyword arguments {'add_special_tokes': True} not recognized.\n",
            "Keyword arguments {'add_special_tokes': True} not recognized.\n",
            "Keyword arguments {'add_special_tokes': True} not recognized.\n",
            "Keyword arguments {'add_special_tokes': True} not recognized.\n",
            "Keyword arguments {'add_special_tokes': True} not recognized.\n",
            "Keyword arguments {'add_special_tokes': True} not recognized.\n",
            "Keyword arguments {'add_special_tokes': True} not recognized.\n",
            "Keyword arguments {'add_special_tokes': True} not recognized.\n",
            "Keyword arguments {'add_special_tokes': True} not recognized.\n",
            "Keyword arguments {'add_special_tokes': True} not recognized.\n",
            "Keyword arguments {'add_special_tokes': True} not recognized.\n",
            "Keyword arguments {'add_special_tokes': True} not recognized.\n",
            "Keyword arguments {'add_special_tokes': True} not recognized.\n",
            "Keyword arguments {'add_special_tokes': True} not recognized.\n",
            "Keyword arguments {'add_special_tokes': True} not recognized.\n",
            "Keyword arguments {'add_special_tokes': True} not recognized.\n",
            "Keyword arguments {'add_special_tokes': True} not recognized.\n",
            "Keyword arguments {'add_special_tokes': True} not recognized.\n",
            "Keyword arguments {'add_special_tokes': True} not recognized.\n",
            "Keyword arguments {'add_special_tokes': True} not recognized.\n",
            "Keyword arguments {'add_special_tokes': True} not recognized.\n",
            "Keyword arguments {'add_special_tokes': True} not recognized.\n",
            "Keyword arguments {'add_special_tokes': True} not recognized.\n",
            "Keyword arguments {'add_special_tokes': True} not recognized.\n",
            "Keyword arguments {'add_special_tokes': True} not recognized.\n",
            "Keyword arguments {'add_special_tokes': True} not recognized.\n",
            "Keyword arguments {'add_special_tokes': True} not recognized.\n",
            "Keyword arguments {'add_special_tokes': True} not recognized.\n",
            "Keyword arguments {'add_special_tokes': True} not recognized.\n",
            "Keyword arguments {'add_special_tokes': True} not recognized.\n",
            "Keyword arguments {'add_special_tokes': True} not recognized.\n",
            "Keyword arguments {'add_special_tokes': True} not recognized.\n",
            "Keyword arguments {'add_special_tokes': True} not recognized.\n",
            "Keyword arguments {'add_special_tokes': True} not recognized.\n",
            "Keyword arguments {'add_special_tokes': True} not recognized.\n",
            "Keyword arguments {'add_special_tokes': True} not recognized.\n",
            "Keyword arguments {'add_special_tokes': True} not recognized.\n",
            "Keyword arguments {'add_special_tokes': True} not recognized.\n",
            "Keyword arguments {'add_special_tokes': True} not recognized.\n",
            "Keyword arguments {'add_special_tokes': True} not recognized.\n",
            "Keyword arguments {'add_special_tokes': True} not recognized.\n",
            "Keyword arguments {'add_special_tokes': True} not recognized.\n",
            "Keyword arguments {'add_special_tokes': True} not recognized.\n",
            "Keyword arguments {'add_special_tokes': True} not recognized.\n",
            "Keyword arguments {'add_special_tokes': True} not recognized.\n",
            "Keyword arguments {'add_special_tokes': True} not recognized.\n",
            "Keyword arguments {'add_special_tokes': True} not recognized.\n",
            "Keyword arguments {'add_special_tokes': True} not recognized.\n",
            "Keyword arguments {'add_special_tokes': True} not recognized.\n",
            "Keyword arguments {'add_special_tokes': True} not recognized.\n",
            "Keyword arguments {'add_special_tokes': True} not recognized.\n",
            "Keyword arguments {'add_special_tokes': True} not recognized.\n",
            "Keyword arguments {'add_special_tokes': True} not recognized.\n",
            "Keyword arguments {'add_special_tokes': True} not recognized.\n",
            "Keyword arguments {'add_special_tokes': True} not recognized.\n",
            "Keyword arguments {'add_special_tokes': True} not recognized.\n",
            "Keyword arguments {'add_special_tokes': True} not recognized.\n",
            "Keyword arguments {'add_special_tokes': True} not recognized.\n",
            "Keyword arguments {'add_special_tokes': True} not recognized.\n",
            "Keyword arguments {'add_special_tokes': True} not recognized.\n",
            "Keyword arguments {'add_special_tokes': True} not recognized.\n",
            "Keyword arguments {'add_special_tokes': True} not recognized.\n",
            "Keyword arguments {'add_special_tokes': True} not recognized.\n",
            "Keyword arguments {'add_special_tokes': True} not recognized.\n",
            "Keyword arguments {'add_special_tokes': True} not recognized.\n",
            "Keyword arguments {'add_special_tokes': True} not recognized.\n",
            "Keyword arguments {'add_special_tokes': True} not recognized.\n",
            "Keyword arguments {'add_special_tokes': True} not recognized.\n",
            "Keyword arguments {'add_special_tokes': True} not recognized.\n",
            "Keyword arguments {'add_special_tokes': True} not recognized.\n",
            "Keyword arguments {'add_special_tokes': True} not recognized.\n",
            "Keyword arguments {'add_special_tokes': True} not recognized.\n",
            "Keyword arguments {'add_special_tokes': True} not recognized.\n",
            "Keyword arguments {'add_special_tokes': True} not recognized.\n",
            "Keyword arguments {'add_special_tokes': True} not recognized.\n",
            "Keyword arguments {'add_special_tokes': True} not recognized.\n",
            "Keyword arguments {'add_special_tokes': True} not recognized.\n",
            "Keyword arguments {'add_special_tokes': True} not recognized.\n",
            "Keyword arguments {'add_special_tokes': True} not recognized.\n",
            "Keyword arguments {'add_special_tokes': True} not recognized.\n",
            "Keyword arguments {'add_special_tokes': True} not recognized.\n",
            "Keyword arguments {'add_special_tokes': True} not recognized.\n",
            "Keyword arguments {'add_special_tokes': True} not recognized.\n",
            "Keyword arguments {'add_special_tokes': True} not recognized.\n",
            "Keyword arguments {'add_special_tokes': True} not recognized.\n",
            "Keyword arguments {'add_special_tokes': True} not recognized.\n",
            "Keyword arguments {'add_special_tokes': True} not recognized.\n",
            "Keyword arguments {'add_special_tokes': True} not recognized.\n",
            "Keyword arguments {'add_special_tokes': True} not recognized.\n",
            "Keyword arguments {'add_special_tokes': True} not recognized.\n",
            "Keyword arguments {'add_special_tokes': True} not recognized.\n",
            "Keyword arguments {'add_special_tokes': True} not recognized.\n",
            "Keyword arguments {'add_special_tokes': True} not recognized.\n",
            "Keyword arguments {'add_special_tokes': True} not recognized.\n",
            "Keyword arguments {'add_special_tokes': True} not recognized.\n",
            "Keyword arguments {'add_special_tokes': True} not recognized.\n",
            "Keyword arguments {'add_special_tokes': True} not recognized.\n",
            "Keyword arguments {'add_special_tokes': True} not recognized.\n",
            "Keyword arguments {'add_special_tokes': True} not recognized.\n",
            "Keyword arguments {'add_special_tokes': True} not recognized.\n"
          ]
        }
      ],
      "source": [
        "#encode train set\n",
        "encoded_data_train = tokenizer.batch_encode_plus(dfb[dfb.data_type == 'train'].tweet.values,\n",
        "                                                add_special_tokes = True,\n",
        "                                                return_attention_mask = True,\n",
        "                                                pad_to_max_length = True,\n",
        "                                                max_length = 256,\n",
        "                                                return_tensors = 'pt')\n",
        "\n",
        "#encode validation set\n",
        "encoded_data_val = tokenizer.batch_encode_plus(dfb[dfb.data_type == 'val'].tweet.values,\n",
        "                                                add_special_tokes = True,\n",
        "                                                return_attention_mask = True,\n",
        "                                                pad_to_max_length = True,\n",
        "                                                max_length = 256,\n",
        "                                                return_tensors = 'pt')"
      ]
    },
    {
      "cell_type": "code",
      "execution_count": null,
      "metadata": {
        "colab": {
          "background_save": true
        },
        "id": "yS3-XeU4-dBn"
      },
      "outputs": [],
      "source": [
        "#train set\n",
        "input_ids_train = encoded_data_train['input_ids']\n",
        "attention_masks_train = encoded_data_train['attention_mask']\n",
        "labels_train = torch.tensor(dfb[dfb.data_type == 'train'].label.values)\n",
        "\n",
        "#validation set\n",
        "input_ids_val = encoded_data_val['input_ids']\n",
        "attention_masks_val = encoded_data_val['attention_mask']\n",
        "labels_val = torch.tensor(dfb[dfb.data_type == 'val'].label.values)"
      ]
    },
    {
      "cell_type": "code",
      "execution_count": null,
      "metadata": {
        "colab": {
          "base_uri": "https://localhost:8080/"
        },
        "id": "jMIwqbuK9iDB",
        "outputId": "5ccbe547-8742-4869-f60b-766eb2235814"
      },
      "outputs": [
        {
          "name": "stderr",
          "output_type": "stream",
          "text": [
            "Some weights of BertForSequenceClassification were not initialized from the model checkpoint at bert-base-uncased and are newly initialized: ['classifier.bias', 'classifier.weight']\n",
            "You should probably TRAIN this model on a down-stream task to be able to use it for predictions and inference.\n"
          ]
        }
      ],
      "source": [
        "from transformers import BertForSequenceClassification\n",
        "\n",
        "model = BertForSequenceClassification.from_pretrained('bert-base-uncased',\n",
        "                                                      num_labels = 2,\n",
        "                                                      output_attentions = False,\n",
        "                                                      output_hidden_states = False)"
      ]
    },
    {
      "cell_type": "code",
      "execution_count": null,
      "metadata": {
        "colab": {
          "base_uri": "https://localhost:8080/"
        },
        "id": "vCDkH583-0hM",
        "outputId": "a2d564a0-86e2-4475-d564-58df610b2743"
      },
      "outputs": [
        {
          "data": {
            "text/plain": [
              "BertConfig {\n",
              "  \"_name_or_path\": \"bert-base-uncased\",\n",
              "  \"architectures\": [\n",
              "    \"BertForMaskedLM\"\n",
              "  ],\n",
              "  \"attention_probs_dropout_prob\": 0.1,\n",
              "  \"classifier_dropout\": null,\n",
              "  \"gradient_checkpointing\": false,\n",
              "  \"hidden_act\": \"gelu\",\n",
              "  \"hidden_dropout_prob\": 0.1,\n",
              "  \"hidden_size\": 768,\n",
              "  \"initializer_range\": 0.02,\n",
              "  \"intermediate_size\": 3072,\n",
              "  \"layer_norm_eps\": 1e-12,\n",
              "  \"max_position_embeddings\": 512,\n",
              "  \"model_type\": \"bert\",\n",
              "  \"num_attention_heads\": 12,\n",
              "  \"num_hidden_layers\": 12,\n",
              "  \"pad_token_id\": 0,\n",
              "  \"position_embedding_type\": \"absolute\",\n",
              "  \"transformers_version\": \"4.31.0\",\n",
              "  \"type_vocab_size\": 2,\n",
              "  \"use_cache\": true,\n",
              "  \"vocab_size\": 30522\n",
              "}"
            ]
          },
          "execution_count": 26,
          "metadata": {},
          "output_type": "execute_result"
        }
      ],
      "source": [
        "model.config"
      ]
    },
    {
      "cell_type": "code",
      "execution_count": null,
      "metadata": {
        "id": "coJa1u3XgZja"
      },
      "outputs": [],
      "source": [
        "model.cuda()"
      ]
    },
    {
      "cell_type": "code",
      "execution_count": null,
      "metadata": {
        "id": "t32-z9B4E2KB"
      },
      "outputs": [],
      "source": [
        "from torch.utils.data import TensorDataset\n",
        "\n",
        "#train set\n",
        "dataset_train = TensorDataset(input_ids_train,\n",
        "                              attention_masks_train,\n",
        "                              labels_train)\n",
        "\n",
        "#validation set\n",
        "dataset_val = TensorDataset(input_ids_val,\n",
        "                             attention_masks_val,\n",
        "                             labels_val)"
      ]
    },
    {
      "cell_type": "code",
      "execution_count": null,
      "metadata": {
        "id": "fx3P_v8ZGu7H"
      },
      "outputs": [],
      "source": [
        "from torch.utils.data import DataLoader, RandomSampler, SequentialSampler\n",
        "\n",
        "batch_size = 32\n",
        "\n",
        "#train set\n",
        "dataloader_train = DataLoader(dataset_train,\n",
        "                              sampler = RandomSampler(dataset_train),\n",
        "                              batch_size = batch_size)\n",
        "\n",
        "#validation set\n",
        "dataloader_val = DataLoader(dataset_val,\n",
        "                              sampler = RandomSampler(dataset_val),\n",
        "                              batch_size = 32) #since we don't have to do backpropagation for this step"
      ]
    },
    {
      "cell_type": "code",
      "execution_count": null,
      "metadata": {
        "colab": {
          "base_uri": "https://localhost:8080/"
        },
        "id": "jN9hMRyrGzNq",
        "outputId": "f809e48c-c3e7-49b4-f79a-52271b7aa638"
      },
      "outputs": [
        {
          "name": "stderr",
          "output_type": "stream",
          "text": [
            "/usr/local/lib/python3.10/dist-packages/transformers/optimization.py:411: FutureWarning: This implementation of AdamW is deprecated and will be removed in a future version. Use the PyTorch implementation torch.optim.AdamW instead, or set `no_deprecation_warning=True` to disable this warning\n",
            "  warnings.warn(\n"
          ]
        }
      ],
      "source": [
        "from transformers import AdamW, get_linear_schedule_with_warmup\n",
        "\n",
        "optimizer = AdamW(model.parameters(),\n",
        "                 lr = 1e-5,\n",
        "                 eps = 1e-8) #2e-5 > 5e-5\n",
        "\n",
        "epochs = 10\n",
        "\n",
        "scheduler = get_linear_schedule_with_warmup(optimizer,\n",
        "                                           num_warmup_steps = 0,\n",
        "                                           num_training_steps = len(dataloader_train)*epochs)"
      ]
    },
    {
      "cell_type": "code",
      "execution_count": null,
      "metadata": {
        "id": "T1vz0zZ1HNZ8"
      },
      "outputs": [],
      "source": [
        "def evaluate(dataloader_val):\n",
        "\n",
        "    #evaluation mode\n",
        "    model.eval()\n",
        "\n",
        "    #tracking variables\n",
        "    loss_val_total = 0\n",
        "    predictions, true_vals = [], []\n",
        "\n",
        "    for batch in tqdm(dataloader_val):\n",
        "\n",
        "        #load into GPU\n",
        "        batch = tuple(b.to(device) for b in batch)\n",
        "\n",
        "        #define inputs\n",
        "        inputs = {'input_ids':      batch[0],\n",
        "                  'attention_mask': batch[1],\n",
        "                  'labels':         batch[2]}\n",
        "\n",
        "        #compute logits\n",
        "        with torch.no_grad():\n",
        "            outputs = model(**inputs)\n",
        "\n",
        "        #compute loss\n",
        "        loss = outputs[0]\n",
        "        logits = outputs[1]\n",
        "        loss_val_total += loss.item()\n",
        "\n",
        "        #compute accuracy\n",
        "        logits = logits.detach().cpu().numpy()\n",
        "        label_ids = inputs['labels'].cpu().numpy()\n",
        "        predictions.append(logits)\n",
        "        true_vals.append(label_ids)\n",
        "\n",
        "    #compute average loss\n",
        "    loss_val_avg = loss_val_total/len(dataloader_val)\n",
        "\n",
        "    predictions = np.concatenate(predictions, axis=0)\n",
        "    true_vals = np.concatenate(true_vals, axis=0)\n",
        "\n",
        "    return loss_val_avg, predictions, true_vals"
      ]
    },
    {
      "cell_type": "code",
      "execution_count": null,
      "metadata": {
        "id": "hMVZNRJMHRRX"
      },
      "outputs": [],
      "source": [
        "import numpy as np\n",
        "from sklearn.metrics import f1_score\n",
        "\n",
        "def f1_score_func(preds, labels):\n",
        "    preds_flat = np.argmax(preds, axis = 1).flatten()\n",
        "    labels_flat = labels.flatten()\n",
        "    return f1_score(labels_flat, preds, average = 'weighted')"
      ]
    },
    {
      "cell_type": "code",
      "execution_count": null,
      "metadata": {
        "id": "6D48cC-6zPiO"
      },
      "outputs": [],
      "source": [
        "import numpy as np\n",
        "from sklearn.metrics import f1_score\n",
        "\n",
        "def f1_score_func_x(preds, labels):\n",
        "    preds_flat = np.argmax(preds, axis = 1).flatten()\n",
        "    labels_flat = labels.flatten()\n",
        "    print(labels_flat)\n",
        "    print(preds_flat)\n",
        "    return f1_score(labels_flat, preds) #average = 'weighted')"
      ]
    },
    {
      "cell_type": "code",
      "execution_count": null,
      "metadata": {
        "id": "G2TFUOwlHWng"
      },
      "outputs": [],
      "source": [
        "#accuracy score\n",
        "def accuracy_per_class(preds, labels):\n",
        "    label_dict_inverse = {v: k for k, v in label_dict.items()}\n",
        "\n",
        "    #make prediction\n",
        "    preds_flat = np.argmax(preds, axis=1).flatten()\n",
        "    labels_flat = labels.flatten()\n",
        "\n",
        "    for label in np.unique(labels_flat):\n",
        "        y_preds = preds_flat[labels_flat==label]\n",
        "        y_true = labels_flat[labels_flat==label]\n",
        "        print(f'Class: {label_dict_inverse[label]}')\n",
        "        print(f'Accuracy:{len(y_preds[y_preds==label])}/{len(y_true)}\\n')"
      ]
    },
    {
      "cell_type": "code",
      "execution_count": null,
      "metadata": {
        "id": "GyVuikB8Hmja"
      },
      "outputs": [],
      "source": [
        "import random\n",
        "\n",
        "seed_val = 17\n",
        "random.seed(seed_val)\n",
        "np.random.seed(seed_val)\n",
        "torch.manual_seed(seed_val)\n",
        "torch.cuda.manual_seed_all(seed_val)"
      ]
    },
    {
      "cell_type": "code",
      "execution_count": null,
      "metadata": {
        "colab": {
          "base_uri": "https://localhost:8080/"
        },
        "id": "0EoNzRuaTT8z",
        "outputId": "dd9473b1-d30b-48e7-e7c8-e3919d8f7634"
      },
      "outputs": [
        {
          "data": {
            "text/plain": [
              "True"
            ]
          },
          "execution_count": 36,
          "metadata": {},
          "output_type": "execute_result"
        }
      ],
      "source": [
        "\n",
        "torch.cuda.is_available()"
      ]
    },
    {
      "cell_type": "code",
      "execution_count": null,
      "metadata": {
        "colab": {
          "background_save": true,
          "base_uri": "https://localhost:8080/"
        },
        "id": "O1rhNBGIHppa",
        "outputId": "3c51b6e0-75bb-4cff-96c9-1968da019484"
      },
      "outputs": [
        {
          "name": "stderr",
          "output_type": "stream",
          "text": [
            "  0%|          | 0/10 [00:00<?, ?it/s]\n",
            "Epoch 1:   0%|          | 0/56 [00:00<?, ?it/s]\u001b[A\n",
            "Epoch 1:   0%|          | 0/56 [00:01<?, ?it/s, training_loss=0.236]\u001b[A\n",
            "Epoch 1:   2%|▏         | 1/56 [00:01<01:45,  1.92s/it, training_loss=0.236]\u001b[A\n",
            "Epoch 1:   2%|▏         | 1/56 [00:03<01:45,  1.92s/it, training_loss=0.250]\u001b[A\n",
            "Epoch 1:   4%|▎         | 2/56 [00:03<01:22,  1.52s/it, training_loss=0.250]\u001b[A\n",
            "Epoch 1:   4%|▎         | 2/56 [00:04<01:22,  1.52s/it, training_loss=0.223]\u001b[A\n",
            "Epoch 1:   5%|▌         | 3/56 [00:04<01:14,  1.40s/it, training_loss=0.223]\u001b[A\n",
            "Epoch 1:   5%|▌         | 3/56 [00:05<01:14,  1.40s/it, training_loss=0.229]\u001b[A\n",
            "Epoch 1:   7%|▋         | 4/56 [00:05<01:09,  1.34s/it, training_loss=0.229]\u001b[A\n",
            "Epoch 1:   7%|▋         | 4/56 [00:06<01:09,  1.34s/it, training_loss=0.248]\u001b[A\n",
            "Epoch 1:   9%|▉         | 5/56 [00:06<01:07,  1.32s/it, training_loss=0.248]\u001b[A\n",
            "Epoch 1:   9%|▉         | 5/56 [00:08<01:07,  1.32s/it, training_loss=0.225]\u001b[A\n",
            "Epoch 1:  11%|█         | 6/56 [00:08<01:05,  1.31s/it, training_loss=0.225]\u001b[A\n",
            "Epoch 1:  11%|█         | 6/56 [00:09<01:05,  1.31s/it, training_loss=0.206]\u001b[A\n",
            "Epoch 1:  12%|█▎        | 7/56 [00:09<01:03,  1.30s/it, training_loss=0.206]\u001b[A\n",
            "Epoch 1:  12%|█▎        | 7/56 [00:10<01:03,  1.30s/it, training_loss=0.229]\u001b[A\n",
            "Epoch 1:  14%|█▍        | 8/56 [00:10<01:02,  1.30s/it, training_loss=0.229]\u001b[A\n",
            "Epoch 1:  14%|█▍        | 8/56 [00:12<01:02,  1.30s/it, training_loss=0.234]\u001b[A\n",
            "Epoch 1:  16%|█▌        | 9/56 [00:12<01:00,  1.30s/it, training_loss=0.234]\u001b[A\n",
            "Epoch 1:  16%|█▌        | 9/56 [00:13<01:00,  1.30s/it, training_loss=0.257]\u001b[A\n",
            "Epoch 1:  18%|█▊        | 10/56 [00:13<00:59,  1.30s/it, training_loss=0.257]\u001b[A\n",
            "Epoch 1:  18%|█▊        | 10/56 [00:14<00:59,  1.30s/it, training_loss=0.235]\u001b[A\n",
            "Epoch 1:  20%|█▉        | 11/56 [00:14<00:58,  1.30s/it, training_loss=0.235]\u001b[A\n",
            "Epoch 1:  20%|█▉        | 11/56 [00:15<00:58,  1.30s/it, training_loss=0.221]\u001b[A\n",
            "Epoch 1:  21%|██▏       | 12/56 [00:15<00:57,  1.30s/it, training_loss=0.221]\u001b[A\n",
            "Epoch 1:  21%|██▏       | 12/56 [00:17<00:57,  1.30s/it, training_loss=0.238]\u001b[A\n",
            "Epoch 1:  23%|██▎       | 13/56 [00:17<00:55,  1.30s/it, training_loss=0.238]\u001b[A\n",
            "Epoch 1:  23%|██▎       | 13/56 [00:18<00:55,  1.30s/it, training_loss=0.218]\u001b[A\n",
            "Epoch 1:  25%|██▌       | 14/56 [00:18<00:55,  1.31s/it, training_loss=0.218]\u001b[A\n",
            "Epoch 1:  25%|██▌       | 14/56 [00:19<00:55,  1.31s/it, training_loss=0.225]\u001b[A\n",
            "Epoch 1:  27%|██▋       | 15/56 [00:19<00:53,  1.31s/it, training_loss=0.225]\u001b[A\n",
            "Epoch 1:  27%|██▋       | 15/56 [00:21<00:53,  1.31s/it, training_loss=0.215]\u001b[A\n",
            "Epoch 1:  29%|██▊       | 16/56 [00:21<00:52,  1.30s/it, training_loss=0.215]\u001b[A\n",
            "Epoch 1:  29%|██▊       | 16/56 [00:22<00:52,  1.30s/it, training_loss=0.214]\u001b[A\n",
            "Epoch 1:  30%|███       | 17/56 [00:22<00:51,  1.31s/it, training_loss=0.214]\u001b[A\n",
            "Epoch 1:  30%|███       | 17/56 [00:23<00:51,  1.31s/it, training_loss=0.228]\u001b[A\n",
            "Epoch 1:  32%|███▏      | 18/56 [00:23<00:49,  1.31s/it, training_loss=0.228]\u001b[A\n",
            "Epoch 1:  32%|███▏      | 18/56 [00:25<00:49,  1.31s/it, training_loss=0.222]\u001b[A\n",
            "Epoch 1:  34%|███▍      | 19/56 [00:25<00:48,  1.32s/it, training_loss=0.222]\u001b[A\n",
            "Epoch 1:  34%|███▍      | 19/56 [00:26<00:48,  1.32s/it, training_loss=0.213]\u001b[A\n",
            "Epoch 1:  36%|███▌      | 20/56 [00:26<00:47,  1.32s/it, training_loss=0.213]\u001b[A\n",
            "Epoch 1:  36%|███▌      | 20/56 [00:27<00:47,  1.32s/it, training_loss=0.228]\u001b[A\n",
            "Epoch 1:  38%|███▊      | 21/56 [00:27<00:46,  1.33s/it, training_loss=0.228]\u001b[A\n",
            "Epoch 1:  38%|███▊      | 21/56 [00:29<00:46,  1.33s/it, training_loss=0.245]\u001b[A\n",
            "Epoch 1:  39%|███▉      | 22/56 [00:29<00:45,  1.34s/it, training_loss=0.245]\u001b[A\n",
            "Epoch 1:  39%|███▉      | 22/56 [00:30<00:45,  1.34s/it, training_loss=0.240]\u001b[A\n",
            "Epoch 1:  41%|████      | 23/56 [00:30<00:44,  1.34s/it, training_loss=0.240]\u001b[A\n",
            "Epoch 1:  41%|████      | 23/56 [00:31<00:44,  1.34s/it, training_loss=0.211]\u001b[A\n",
            "Epoch 1:  43%|████▎     | 24/56 [00:31<00:42,  1.34s/it, training_loss=0.211]\u001b[A\n",
            "Epoch 1:  43%|████▎     | 24/56 [00:33<00:42,  1.34s/it, training_loss=0.250]\u001b[A\n",
            "Epoch 1:  45%|████▍     | 25/56 [00:33<00:41,  1.34s/it, training_loss=0.250]\u001b[A\n",
            "Epoch 1:  45%|████▍     | 25/56 [00:34<00:41,  1.34s/it, training_loss=0.247]\u001b[A\n",
            "Epoch 1:  46%|████▋     | 26/56 [00:34<00:40,  1.34s/it, training_loss=0.247]\u001b[A\n",
            "Epoch 1:  46%|████▋     | 26/56 [00:35<00:40,  1.34s/it, training_loss=0.220]\u001b[A\n",
            "Epoch 1:  48%|████▊     | 27/56 [00:35<00:39,  1.35s/it, training_loss=0.220]\u001b[A\n",
            "Epoch 1:  48%|████▊     | 27/56 [00:37<00:39,  1.35s/it, training_loss=0.203]\u001b[A\n",
            "Epoch 1:  50%|█████     | 28/56 [00:37<00:37,  1.35s/it, training_loss=0.203]\u001b[A\n",
            "Epoch 1:  50%|█████     | 28/56 [00:38<00:37,  1.35s/it, training_loss=0.227]\u001b[A\n",
            "Epoch 1:  52%|█████▏    | 29/56 [00:38<00:36,  1.36s/it, training_loss=0.227]\u001b[A\n",
            "Epoch 1:  52%|█████▏    | 29/56 [00:40<00:36,  1.36s/it, training_loss=0.229]\u001b[A\n",
            "Epoch 1:  54%|█████▎    | 30/56 [00:40<00:35,  1.36s/it, training_loss=0.229]\u001b[A\n",
            "Epoch 1:  54%|█████▎    | 30/56 [00:41<00:35,  1.36s/it, training_loss=0.197]\u001b[A\n",
            "Epoch 1:  55%|█████▌    | 31/56 [00:41<00:34,  1.37s/it, training_loss=0.197]\u001b[A\n",
            "Epoch 1:  55%|█████▌    | 31/56 [00:42<00:34,  1.37s/it, training_loss=0.218]\u001b[A\n",
            "Epoch 1:  57%|█████▋    | 32/56 [00:42<00:32,  1.37s/it, training_loss=0.218]\u001b[A\n",
            "Epoch 1:  57%|█████▋    | 32/56 [00:44<00:32,  1.37s/it, training_loss=0.208]\u001b[A\n",
            "Epoch 1:  59%|█████▉    | 33/56 [00:44<00:31,  1.38s/it, training_loss=0.208]\u001b[A\n",
            "Epoch 1:  59%|█████▉    | 33/56 [00:45<00:31,  1.38s/it, training_loss=0.206]\u001b[A\n",
            "Epoch 1:  61%|██████    | 34/56 [00:45<00:30,  1.38s/it, training_loss=0.206]\u001b[A\n",
            "Epoch 1:  61%|██████    | 34/56 [00:47<00:30,  1.38s/it, training_loss=0.222]\u001b[A\n",
            "Epoch 1:  62%|██████▎   | 35/56 [00:47<00:29,  1.38s/it, training_loss=0.222]\u001b[A\n",
            "Epoch 1:  62%|██████▎   | 35/56 [00:48<00:29,  1.38s/it, training_loss=0.211]\u001b[A\n",
            "Epoch 1:  64%|██████▍   | 36/56 [00:48<00:27,  1.39s/it, training_loss=0.211]\u001b[A\n",
            "Epoch 1:  64%|██████▍   | 36/56 [00:49<00:27,  1.39s/it, training_loss=0.189]\u001b[A\n",
            "Epoch 1:  66%|██████▌   | 37/56 [00:49<00:26,  1.39s/it, training_loss=0.189]\u001b[A\n",
            "Epoch 1:  66%|██████▌   | 37/56 [00:51<00:26,  1.39s/it, training_loss=0.203]\u001b[A\n",
            "Epoch 1:  68%|██████▊   | 38/56 [00:51<00:24,  1.39s/it, training_loss=0.203]\u001b[A\n",
            "Epoch 1:  68%|██████▊   | 38/56 [00:52<00:24,  1.39s/it, training_loss=0.231]\u001b[A\n",
            "Epoch 1:  70%|██████▉   | 39/56 [00:52<00:23,  1.38s/it, training_loss=0.231]\u001b[A\n",
            "Epoch 1:  70%|██████▉   | 39/56 [00:53<00:23,  1.38s/it, training_loss=0.213]\u001b[A\n",
            "Epoch 1:  71%|███████▏  | 40/56 [00:53<00:22,  1.38s/it, training_loss=0.213]\u001b[A\n",
            "Epoch 1:  71%|███████▏  | 40/56 [00:55<00:22,  1.38s/it, training_loss=0.201]\u001b[A\n",
            "Epoch 1:  73%|███████▎  | 41/56 [00:55<00:20,  1.38s/it, training_loss=0.201]\u001b[A\n",
            "Epoch 1:  73%|███████▎  | 41/56 [00:56<00:20,  1.38s/it, training_loss=0.219]\u001b[A\n",
            "Epoch 1:  75%|███████▌  | 42/56 [00:56<00:19,  1.37s/it, training_loss=0.219]\u001b[A\n",
            "Epoch 1:  75%|███████▌  | 42/56 [00:58<00:19,  1.37s/it, training_loss=0.223]\u001b[A\n",
            "Epoch 1:  77%|███████▋  | 43/56 [00:58<00:17,  1.37s/it, training_loss=0.223]\u001b[A\n",
            "Epoch 1:  77%|███████▋  | 43/56 [00:59<00:17,  1.37s/it, training_loss=0.220]\u001b[A\n",
            "Epoch 1:  79%|███████▊  | 44/56 [00:59<00:16,  1.37s/it, training_loss=0.220]\u001b[A\n",
            "Epoch 1:  79%|███████▊  | 44/56 [01:00<00:16,  1.37s/it, training_loss=0.227]\u001b[A\n",
            "Epoch 1:  80%|████████  | 45/56 [01:00<00:14,  1.36s/it, training_loss=0.227]\u001b[A\n",
            "Epoch 1:  80%|████████  | 45/56 [01:02<00:14,  1.36s/it, training_loss=0.192]\u001b[A\n",
            "Epoch 1:  82%|████████▏ | 46/56 [01:02<00:13,  1.36s/it, training_loss=0.192]\u001b[A\n",
            "Epoch 1:  82%|████████▏ | 46/56 [01:03<00:13,  1.36s/it, training_loss=0.216]\u001b[A\n",
            "Epoch 1:  84%|████████▍ | 47/56 [01:03<00:12,  1.35s/it, training_loss=0.216]\u001b[A\n",
            "Epoch 1:  84%|████████▍ | 47/56 [01:04<00:12,  1.35s/it, training_loss=0.227]\u001b[A\n",
            "Epoch 1:  86%|████████▌ | 48/56 [01:04<00:10,  1.35s/it, training_loss=0.227]\u001b[A\n",
            "Epoch 1:  86%|████████▌ | 48/56 [01:06<00:10,  1.35s/it, training_loss=0.191]\u001b[A\n",
            "Epoch 1:  88%|████████▊ | 49/56 [01:06<00:09,  1.35s/it, training_loss=0.191]\u001b[A\n",
            "Epoch 1:  88%|████████▊ | 49/56 [01:07<00:09,  1.35s/it, training_loss=0.208]\u001b[A\n",
            "Epoch 1:  89%|████████▉ | 50/56 [01:07<00:08,  1.34s/it, training_loss=0.208]\u001b[A\n",
            "Epoch 1:  89%|████████▉ | 50/56 [01:08<00:08,  1.34s/it, training_loss=0.207]\u001b[A\n",
            "Epoch 1:  91%|█████████ | 51/56 [01:08<00:06,  1.34s/it, training_loss=0.207]\u001b[A\n",
            "Epoch 1:  91%|█████████ | 51/56 [01:10<00:06,  1.34s/it, training_loss=0.214]\u001b[A\n",
            "Epoch 1:  93%|█████████▎| 52/56 [01:10<00:05,  1.34s/it, training_loss=0.214]\u001b[A\n",
            "Epoch 1:  93%|█████████▎| 52/56 [01:11<00:05,  1.34s/it, training_loss=0.204]\u001b[A\n",
            "Epoch 1:  95%|█████████▍| 53/56 [01:11<00:04,  1.34s/it, training_loss=0.204]\u001b[A\n",
            "Epoch 1:  95%|█████████▍| 53/56 [01:12<00:04,  1.34s/it, training_loss=0.189]\u001b[A\n",
            "Epoch 1:  96%|█████████▋| 54/56 [01:12<00:02,  1.33s/it, training_loss=0.189]\u001b[A\n",
            "Epoch 1:  96%|█████████▋| 54/56 [01:14<00:02,  1.33s/it, training_loss=0.209]\u001b[A\n",
            "Epoch 1:  98%|█████████▊| 55/56 [01:14<00:01,  1.33s/it, training_loss=0.209]\u001b[A\n",
            "Epoch 1:  98%|█████████▊| 55/56 [01:14<00:01,  1.33s/it, training_loss=0.154]\u001b[A\n",
            "Epoch 1: 100%|██████████| 56/56 [01:14<00:00,  1.02it/s, training_loss=0.154]\u001b[A\n",
            "  0%|          | 0/10 [01:15<?, ?it/s]"
          ]
        },
        {
          "name": "stdout",
          "output_type": "stream",
          "text": [
            "\n",
            " Epoch {epoch}\n",
            "Training loss: {loss_train_avg}\n"
          ]
        },
        {
          "name": "stderr",
          "output_type": "stream",
          "text": [
            "\n",
            "  0%|          | 0/14 [00:00<?, ?it/s]\u001b[A\n",
            "  7%|▋         | 1/14 [00:00<00:06,  2.15it/s]\u001b[A\n",
            " 14%|█▍        | 2/14 [00:00<00:06,  1.99it/s]\u001b[A\n",
            " 21%|██▏       | 3/14 [00:01<00:05,  2.03it/s]\u001b[A\n",
            " 29%|██▊       | 4/14 [00:01<00:04,  2.00it/s]\u001b[A\n",
            " 36%|███▌      | 5/14 [00:02<00:04,  2.02it/s]\u001b[A\n",
            " 43%|████▎     | 6/14 [00:02<00:03,  2.00it/s]\u001b[A\n",
            " 50%|█████     | 7/14 [00:03<00:03,  2.01it/s]\u001b[A\n",
            " 57%|█████▋    | 8/14 [00:03<00:02,  2.01it/s]\u001b[A\n",
            " 64%|██████▍   | 9/14 [00:04<00:02,  2.01it/s]\u001b[A\n",
            " 71%|███████▏  | 10/14 [00:04<00:01,  2.02it/s]\u001b[A\n",
            " 79%|███████▊  | 11/14 [00:05<00:01,  2.01it/s]\u001b[A\n",
            " 86%|████████▌ | 12/14 [00:05<00:00,  2.02it/s]\u001b[A\n",
            " 93%|█████████▎| 13/14 [00:06<00:00,  2.01it/s]\u001b[A\n",
            "100%|██████████| 14/14 [00:06<00:00,  2.05it/s]\n",
            "  0%|          | 0/10 [01:22<?, ?it/s]\n",
            "ERROR:root:Internal Python error in the inspect module.\n",
            "Below is the traceback from this internal error.\n",
            "\n",
            "ERROR:root:Internal Python error in the inspect module.\n",
            "Below is the traceback from this internal error.\n",
            "\n",
            "ERROR:root:Internal Python error in the inspect module.\n",
            "Below is the traceback from this internal error.\n",
            "\n"
          ]
        },
        {
          "name": "stdout",
          "output_type": "stream",
          "text": [
            "Traceback (most recent call last):\n",
            "  File \"/usr/local/lib/python3.10/dist-packages/IPython/core/interactiveshell.py\", line 3553, in run_code\n",
            "    exec(code_obj, self.user_global_ns, self.user_ns)\n",
            "  File \"<ipython-input-37-1eb569b72dab>\", line 43, in <cell line: 2>\n",
            "    val_f1 = f1_score_func(predictions, true_vals)\n",
            "  File \"<ipython-input-32-a1f9e8b770d9>\", line 7, in f1_score_func\n",
            "    return f1_score(labels_flat, preds, average = 'weighted')\n",
            "  File \"/usr/local/lib/python3.10/dist-packages/sklearn/metrics/_classification.py\", line 1146, in f1_score\n",
            "    return fbeta_score(\n",
            "  File \"/usr/local/lib/python3.10/dist-packages/sklearn/metrics/_classification.py\", line 1287, in fbeta_score\n",
            "    _, _, f, _ = precision_recall_fscore_support(\n",
            "  File \"/usr/local/lib/python3.10/dist-packages/sklearn/metrics/_classification.py\", line 1573, in precision_recall_fscore_support\n",
            "    labels = _check_set_wise_labels(y_true, y_pred, average, labels, pos_label)\n",
            "  File \"/usr/local/lib/python3.10/dist-packages/sklearn/metrics/_classification.py\", line 1374, in _check_set_wise_labels\n",
            "    y_type, y_true, y_pred = _check_targets(y_true, y_pred)\n",
            "  File \"/usr/local/lib/python3.10/dist-packages/sklearn/metrics/_classification.py\", line 95, in _check_targets\n",
            "    raise ValueError(\n",
            "ValueError: Classification metrics can't handle a mix of binary and continuous-multioutput targets\n",
            "\n",
            "During handling of the above exception, another exception occurred:\n",
            "\n",
            "Traceback (most recent call last):\n",
            "  File \"/usr/local/lib/python3.10/dist-packages/IPython/core/interactiveshell.py\", line 2099, in showtraceback\n",
            "    stb = value._render_traceback_()\n",
            "AttributeError: 'ValueError' object has no attribute '_render_traceback_'\n",
            "\n",
            "During handling of the above exception, another exception occurred:\n",
            "\n",
            "Traceback (most recent call last):\n",
            "  File \"/usr/local/lib/python3.10/dist-packages/IPython/core/ultratb.py\", line 1101, in get_records\n",
            "    return _fixed_getinnerframes(etb, number_of_lines_of_context, tb_offset)\n",
            "  File \"/usr/local/lib/python3.10/dist-packages/IPython/core/ultratb.py\", line 248, in wrapped\n",
            "    return f(*args, **kwargs)\n",
            "  File \"/usr/local/lib/python3.10/dist-packages/IPython/core/ultratb.py\", line 281, in _fixed_getinnerframes\n",
            "    records = fix_frame_records_filenames(inspect.getinnerframes(etb, context))\n",
            "  File \"/usr/lib/python3.10/inspect.py\", line 1662, in getinnerframes\n",
            "    frameinfo = (tb.tb_frame,) + getframeinfo(tb, context)\n",
            "  File \"/usr/lib/python3.10/inspect.py\", line 1620, in getframeinfo\n",
            "    filename = getsourcefile(frame) or getfile(frame)\n",
            "  File \"/usr/lib/python3.10/inspect.py\", line 829, in getsourcefile\n",
            "    module = getmodule(object, filename)\n",
            "  File \"/usr/lib/python3.10/inspect.py\", line 861, in getmodule\n",
            "    file = getabsfile(object, _filename)\n",
            "  File \"/usr/lib/python3.10/inspect.py\", line 845, in getabsfile\n",
            "    return os.path.normcase(os.path.abspath(_filename))\n",
            "  File \"/usr/lib/python3.10/posixpath.py\", line 384, in abspath\n",
            "    cwd = os.getcwd()\n",
            "OSError: [Errno 107] Transport endpoint is not connected\n",
            "Traceback (most recent call last):\n",
            "  File \"/usr/local/lib/python3.10/dist-packages/IPython/core/interactiveshell.py\", line 3553, in run_code\n",
            "    exec(code_obj, self.user_global_ns, self.user_ns)\n",
            "  File \"<ipython-input-37-1eb569b72dab>\", line 43, in <cell line: 2>\n",
            "    val_f1 = f1_score_func(predictions, true_vals)\n",
            "  File \"<ipython-input-32-a1f9e8b770d9>\", line 7, in f1_score_func\n",
            "    return f1_score(labels_flat, preds, average = 'weighted')\n",
            "  File \"/usr/local/lib/python3.10/dist-packages/sklearn/metrics/_classification.py\", line 1146, in f1_score\n",
            "    return fbeta_score(\n",
            "  File \"/usr/local/lib/python3.10/dist-packages/sklearn/metrics/_classification.py\", line 1287, in fbeta_score\n",
            "    _, _, f, _ = precision_recall_fscore_support(\n",
            "  File \"/usr/local/lib/python3.10/dist-packages/sklearn/metrics/_classification.py\", line 1573, in precision_recall_fscore_support\n",
            "    labels = _check_set_wise_labels(y_true, y_pred, average, labels, pos_label)\n",
            "  File \"/usr/local/lib/python3.10/dist-packages/sklearn/metrics/_classification.py\", line 1374, in _check_set_wise_labels\n",
            "    y_type, y_true, y_pred = _check_targets(y_true, y_pred)\n",
            "  File \"/usr/local/lib/python3.10/dist-packages/sklearn/metrics/_classification.py\", line 95, in _check_targets\n",
            "    raise ValueError(\n",
            "ValueError: Classification metrics can't handle a mix of binary and continuous-multioutput targets\n",
            "\n",
            "During handling of the above exception, another exception occurred:\n",
            "\n",
            "Traceback (most recent call last):\n",
            "  File \"/usr/local/lib/python3.10/dist-packages/IPython/core/interactiveshell.py\", line 2099, in showtraceback\n",
            "    stb = value._render_traceback_()\n",
            "AttributeError: 'ValueError' object has no attribute '_render_traceback_'\n",
            "\n",
            "During handling of the above exception, another exception occurred:\n",
            "\n",
            "Traceback (most recent call last):\n",
            "  File \"/usr/local/lib/python3.10/dist-packages/IPython/core/interactiveshell.py\", line 3473, in run_ast_nodes\n",
            "    if (await self.run_code(code, result,  async_=asy)):\n",
            "  File \"/usr/local/lib/python3.10/dist-packages/IPython/core/interactiveshell.py\", line 3575, in run_code\n",
            "    self.showtraceback(running_compiled_code=True)\n",
            "  File \"/usr/local/lib/python3.10/dist-packages/IPython/core/interactiveshell.py\", line 2101, in showtraceback\n",
            "    stb = self.InteractiveTB.structured_traceback(etype,\n",
            "  File \"/usr/local/lib/python3.10/dist-packages/IPython/core/ultratb.py\", line 1367, in structured_traceback\n",
            "    return FormattedTB.structured_traceback(\n",
            "  File \"/usr/local/lib/python3.10/dist-packages/IPython/core/ultratb.py\", line 1267, in structured_traceback\n",
            "    return VerboseTB.structured_traceback(\n",
            "  File \"/usr/local/lib/python3.10/dist-packages/IPython/core/ultratb.py\", line 1124, in structured_traceback\n",
            "    formatted_exception = self.format_exception_as_a_whole(etype, evalue, etb, number_of_lines_of_context,\n",
            "  File \"/usr/local/lib/python3.10/dist-packages/IPython/core/ultratb.py\", line 1082, in format_exception_as_a_whole\n",
            "    last_unique, recursion_repeat = find_recursion(orig_etype, evalue, records)\n",
            "  File \"/usr/local/lib/python3.10/dist-packages/IPython/core/ultratb.py\", line 382, in find_recursion\n",
            "    return len(records), 0\n",
            "TypeError: object of type 'NoneType' has no len()\n",
            "\n",
            "During handling of the above exception, another exception occurred:\n",
            "\n",
            "Traceback (most recent call last):\n",
            "  File \"/usr/local/lib/python3.10/dist-packages/IPython/core/interactiveshell.py\", line 2099, in showtraceback\n",
            "    stb = value._render_traceback_()\n",
            "AttributeError: 'TypeError' object has no attribute '_render_traceback_'\n",
            "\n",
            "During handling of the above exception, another exception occurred:\n",
            "\n",
            "Traceback (most recent call last):\n",
            "  File \"/usr/local/lib/python3.10/dist-packages/IPython/core/ultratb.py\", line 1101, in get_records\n",
            "    return _fixed_getinnerframes(etb, number_of_lines_of_context, tb_offset)\n",
            "  File \"/usr/local/lib/python3.10/dist-packages/IPython/core/ultratb.py\", line 248, in wrapped\n",
            "    return f(*args, **kwargs)\n",
            "  File \"/usr/local/lib/python3.10/dist-packages/IPython/core/ultratb.py\", line 281, in _fixed_getinnerframes\n",
            "    records = fix_frame_records_filenames(inspect.getinnerframes(etb, context))\n",
            "  File \"/usr/lib/python3.10/inspect.py\", line 1662, in getinnerframes\n",
            "    frameinfo = (tb.tb_frame,) + getframeinfo(tb, context)\n",
            "  File \"/usr/lib/python3.10/inspect.py\", line 1620, in getframeinfo\n",
            "    filename = getsourcefile(frame) or getfile(frame)\n",
            "  File \"/usr/lib/python3.10/inspect.py\", line 829, in getsourcefile\n",
            "    module = getmodule(object, filename)\n",
            "  File \"/usr/lib/python3.10/inspect.py\", line 861, in getmodule\n",
            "    file = getabsfile(object, _filename)\n",
            "  File \"/usr/lib/python3.10/inspect.py\", line 845, in getabsfile\n",
            "    return os.path.normcase(os.path.abspath(_filename))\n",
            "  File \"/usr/lib/python3.10/posixpath.py\", line 384, in abspath\n",
            "    cwd = os.getcwd()\n",
            "OSError: [Errno 107] Transport endpoint is not connected\n",
            "Traceback (most recent call last):\n",
            "  File \"/usr/local/lib/python3.10/dist-packages/IPython/core/interactiveshell.py\", line 3553, in run_code\n",
            "    exec(code_obj, self.user_global_ns, self.user_ns)\n",
            "  File \"<ipython-input-37-1eb569b72dab>\", line 43, in <cell line: 2>\n",
            "    val_f1 = f1_score_func(predictions, true_vals)\n",
            "  File \"<ipython-input-32-a1f9e8b770d9>\", line 7, in f1_score_func\n",
            "    return f1_score(labels_flat, preds, average = 'weighted')\n",
            "  File \"/usr/local/lib/python3.10/dist-packages/sklearn/metrics/_classification.py\", line 1146, in f1_score\n",
            "    return fbeta_score(\n",
            "  File \"/usr/local/lib/python3.10/dist-packages/sklearn/metrics/_classification.py\", line 1287, in fbeta_score\n",
            "    _, _, f, _ = precision_recall_fscore_support(\n",
            "  File \"/usr/local/lib/python3.10/dist-packages/sklearn/metrics/_classification.py\", line 1573, in precision_recall_fscore_support\n",
            "    labels = _check_set_wise_labels(y_true, y_pred, average, labels, pos_label)\n",
            "  File \"/usr/local/lib/python3.10/dist-packages/sklearn/metrics/_classification.py\", line 1374, in _check_set_wise_labels\n",
            "    y_type, y_true, y_pred = _check_targets(y_true, y_pred)\n",
            "  File \"/usr/local/lib/python3.10/dist-packages/sklearn/metrics/_classification.py\", line 95, in _check_targets\n",
            "    raise ValueError(\n",
            "ValueError: Classification metrics can't handle a mix of binary and continuous-multioutput targets\n",
            "\n",
            "During handling of the above exception, another exception occurred:\n",
            "\n",
            "Traceback (most recent call last):\n",
            "  File \"/usr/local/lib/python3.10/dist-packages/IPython/core/interactiveshell.py\", line 2099, in showtraceback\n",
            "    stb = value._render_traceback_()\n",
            "AttributeError: 'ValueError' object has no attribute '_render_traceback_'\n",
            "\n",
            "During handling of the above exception, another exception occurred:\n",
            "\n",
            "Traceback (most recent call last):\n",
            "  File \"/usr/local/lib/python3.10/dist-packages/IPython/core/interactiveshell.py\", line 3473, in run_ast_nodes\n",
            "    if (await self.run_code(code, result,  async_=asy)):\n",
            "  File \"/usr/local/lib/python3.10/dist-packages/IPython/core/interactiveshell.py\", line 3575, in run_code\n",
            "    self.showtraceback(running_compiled_code=True)\n",
            "  File \"/usr/local/lib/python3.10/dist-packages/IPython/core/interactiveshell.py\", line 2101, in showtraceback\n",
            "    stb = self.InteractiveTB.structured_traceback(etype,\n",
            "  File \"/usr/local/lib/python3.10/dist-packages/IPython/core/ultratb.py\", line 1367, in structured_traceback\n",
            "    return FormattedTB.structured_traceback(\n",
            "  File \"/usr/local/lib/python3.10/dist-packages/IPython/core/ultratb.py\", line 1267, in structured_traceback\n",
            "    return VerboseTB.structured_traceback(\n",
            "  File \"/usr/local/lib/python3.10/dist-packages/IPython/core/ultratb.py\", line 1124, in structured_traceback\n",
            "    formatted_exception = self.format_exception_as_a_whole(etype, evalue, etb, number_of_lines_of_context,\n",
            "  File \"/usr/local/lib/python3.10/dist-packages/IPython/core/ultratb.py\", line 1082, in format_exception_as_a_whole\n",
            "    last_unique, recursion_repeat = find_recursion(orig_etype, evalue, records)\n",
            "  File \"/usr/local/lib/python3.10/dist-packages/IPython/core/ultratb.py\", line 382, in find_recursion\n",
            "    return len(records), 0\n",
            "TypeError: object of type 'NoneType' has no len()\n",
            "\n",
            "During handling of the above exception, another exception occurred:\n",
            "\n",
            "Traceback (most recent call last):\n",
            "  File \"/usr/local/lib/python3.10/dist-packages/IPython/core/interactiveshell.py\", line 2099, in showtraceback\n",
            "    stb = value._render_traceback_()\n",
            "AttributeError: 'TypeError' object has no attribute '_render_traceback_'\n",
            "\n",
            "During handling of the above exception, another exception occurred:\n",
            "\n",
            "Traceback (most recent call last):\n",
            "  File \"/usr/local/lib/python3.10/dist-packages/IPython/core/interactiveshell.py\", line 3030, in _run_cell\n",
            "    return runner(coro)\n",
            "  File \"/usr/local/lib/python3.10/dist-packages/IPython/core/async_helpers.py\", line 78, in _pseudo_sync_runner\n",
            "    coro.send(None)\n",
            "  File \"/usr/local/lib/python3.10/dist-packages/IPython/core/interactiveshell.py\", line 3257, in run_cell_async\n",
            "    has_raised = await self.run_ast_nodes(code_ast.body, cell_name,\n",
            "  File \"/usr/local/lib/python3.10/dist-packages/IPython/core/interactiveshell.py\", line 3492, in run_ast_nodes\n",
            "    self.showtraceback()\n",
            "  File \"/usr/local/lib/python3.10/dist-packages/IPython/core/interactiveshell.py\", line 2101, in showtraceback\n",
            "    stb = self.InteractiveTB.structured_traceback(etype,\n",
            "  File \"/usr/local/lib/python3.10/dist-packages/IPython/core/ultratb.py\", line 1367, in structured_traceback\n",
            "    return FormattedTB.structured_traceback(\n",
            "  File \"/usr/local/lib/python3.10/dist-packages/IPython/core/ultratb.py\", line 1267, in structured_traceback\n",
            "    return VerboseTB.structured_traceback(\n",
            "  File \"/usr/local/lib/python3.10/dist-packages/IPython/core/ultratb.py\", line 1142, in structured_traceback\n",
            "    formatted_exceptions += self.format_exception_as_a_whole(etype, evalue, etb, lines_of_context,\n",
            "  File \"/usr/local/lib/python3.10/dist-packages/IPython/core/ultratb.py\", line 1082, in format_exception_as_a_whole\n",
            "    last_unique, recursion_repeat = find_recursion(orig_etype, evalue, records)\n",
            "  File \"/usr/local/lib/python3.10/dist-packages/IPython/core/ultratb.py\", line 382, in find_recursion\n",
            "    return len(records), 0\n",
            "TypeError: object of type 'NoneType' has no len()\n",
            "\n",
            "During handling of the above exception, another exception occurred:\n",
            "\n",
            "Traceback (most recent call last):\n",
            "  File \"/usr/local/lib/python3.10/dist-packages/IPython/core/interactiveshell.py\", line 2099, in showtraceback\n",
            "    stb = value._render_traceback_()\n",
            "AttributeError: 'TypeError' object has no attribute '_render_traceback_'\n",
            "\n",
            "During handling of the above exception, another exception occurred:\n",
            "\n",
            "Traceback (most recent call last):\n",
            "  File \"/usr/local/lib/python3.10/dist-packages/IPython/core/ultratb.py\", line 1101, in get_records\n",
            "    return _fixed_getinnerframes(etb, number_of_lines_of_context, tb_offset)\n",
            "  File \"/usr/local/lib/python3.10/dist-packages/IPython/core/ultratb.py\", line 248, in wrapped\n",
            "    return f(*args, **kwargs)\n",
            "  File \"/usr/local/lib/python3.10/dist-packages/IPython/core/ultratb.py\", line 281, in _fixed_getinnerframes\n",
            "    records = fix_frame_records_filenames(inspect.getinnerframes(etb, context))\n",
            "  File \"/usr/lib/python3.10/inspect.py\", line 1662, in getinnerframes\n",
            "    frameinfo = (tb.tb_frame,) + getframeinfo(tb, context)\n",
            "  File \"/usr/lib/python3.10/inspect.py\", line 1620, in getframeinfo\n",
            "    filename = getsourcefile(frame) or getfile(frame)\n",
            "  File \"/usr/lib/python3.10/inspect.py\", line 829, in getsourcefile\n",
            "    module = getmodule(object, filename)\n",
            "  File \"/usr/lib/python3.10/inspect.py\", line 861, in getmodule\n",
            "    file = getabsfile(object, _filename)\n",
            "  File \"/usr/lib/python3.10/inspect.py\", line 845, in getabsfile\n",
            "    return os.path.normcase(os.path.abspath(_filename))\n",
            "  File \"/usr/lib/python3.10/posixpath.py\", line 384, in abspath\n",
            "    cwd = os.getcwd()\n",
            "OSError: [Errno 107] Transport endpoint is not connected\n"
          ]
        }
      ],
      "source": [
        "\n",
        "device = \"cuda\"\n",
        "for epoch in tqdm(range(1, epochs+1)):\n",
        "\n",
        "    model.train()\n",
        "\n",
        "    loss_train_total = 0\n",
        "\n",
        "    progress_bar = tqdm(dataloader_train,\n",
        "                        desc = 'Epoch {:1d}'.format(epoch),\n",
        "                        leave = False,\n",
        "                        disable = False)\n",
        "\n",
        "    for batch in progress_bar:\n",
        "\n",
        "        model.zero_grad() #set gradient to 0\n",
        "\n",
        "        batch = tuple(b.to(\"cuda\") for b in batch)\n",
        "\n",
        "        inputs = {'input_ids': batch[0],\n",
        "                  'attention_mask': batch[1],\n",
        "                  'labels': batch[2]}\n",
        "\n",
        "        outputs = model(**inputs) #unpack the dict straight into inputs\n",
        "\n",
        "        loss = outputs[0]\n",
        "        loss_train_total += loss.item()\n",
        "        loss.backward()\n",
        "\n",
        "        torch.nn.utils.clip_grad_norm_(model.parameters(), 1.0)\n",
        "\n",
        "        optimizer.step()\n",
        "        scheduler.step()\n",
        "        progress_bar.set_postfix({'training_loss': '{:.3f}'.format(loss.item() / len(batch))})\n",
        "\n",
        "    torch.save(model.state_dict(), f'/content/Model/ BERT_ft_epoch{epoch}.model')\n",
        "\n",
        "    tqdm.write('\\n Epoch {epoch}')\n",
        "\n",
        "    loss_train_ave = loss_train_total / len(dataloader_train)\n",
        "    tqdm.write('Training loss: {loss_train_avg}')\n",
        "\n",
        "    val_loss, predictions, true_vals = evaluate(dataloader_val)\n",
        "    val_f1 = f1_score_func(predictions, true_vals)\n",
        "    tqdm.write(f'Validation loss: {val_loss}')\n",
        "    tqdm.write(f'F1 Score (weighted): {val_f1}')"
      ]
    },
    {
      "cell_type": "markdown",
      "metadata": {
        "id": "iAF2VzUJ9thw"
      },
      "source": [
        "#Testing"
      ]
    },
    {
      "cell_type": "code",
      "execution_count": null,
      "metadata": {
        "colab": {
          "base_uri": "https://localhost:8080/"
        },
        "id": "z_k_zHxRpGFx",
        "outputId": "3fd0d7b7-e054-4b73-f348-72d5817d6a6c"
      },
      "outputs": [
        {
          "name": "stdout",
          "output_type": "stream",
          "text": [
            "/content/drive/MyDrive/Political_Tweet/models\n"
          ]
        }
      ],
      "source": [
        "cd /content/drive/MyDrive/Political_Tweet/models"
      ]
    },
    {
      "cell_type": "code",
      "execution_count": null,
      "metadata": {
        "id": "NTfPL7dkqinc"
      },
      "outputs": [],
      "source": [
        "import pandas as pd\n",
        "import numpy as np\n",
        "from wordcloud import WordCloud\n",
        "import matplotlib.pyplot as plt\n",
        "import re\n",
        "import pickle\n",
        "import missingno as msno\n",
        "from sklearn.model_selection import train_test_split\n",
        "from keras.preprocessing.text import Tokenizer\n",
        "from keras_preprocessing.sequence import pad_sequences"
      ]
    },
    {
      "cell_type": "code",
      "execution_count": null,
      "metadata": {
        "id": "-my0S-2JrE_W"
      },
      "outputs": [],
      "source": [
        "pip install keras_preprocessing"
      ]
    },
    {
      "cell_type": "code",
      "execution_count": null,
      "metadata": {
        "colab": {
          "base_uri": "https://localhost:8080/"
        },
        "id": "yskqvIyFpykx",
        "outputId": "216c077e-4fbd-4c8a-a1b9-a7b8a961e3e8"
      },
      "outputs": [
        {
          "name": "stderr",
          "output_type": "stream",
          "text": [
            "[nltk_data] Downloading package stopwords to /root/nltk_data...\n",
            "[nltk_data]   Package stopwords is already up-to-date!\n"
          ]
        }
      ],
      "source": [
        "import os\n",
        "from keras.models import load_model\n",
        "import nltk\n",
        "nltk.download('stopwords') # download the stopwords list\n",
        "from nltk.corpus import stopwords\n",
        "import pandas as pd\n",
        "import re\n",
        "import pickle\n",
        "from keras.preprocessing.text import Tokenizer\n",
        "from keras_preprocessing.sequence import pad_sequences\n",
        "#os.mkdir(\"models\")\n",
        "\n",
        "# define a set of stopwords to remove\n",
        "stop_words = set(stopwords.words('english'))\n",
        "# Define regular expression pattern to match new line characters and other special characters\n",
        "pattern = r\"[\\n#.?,()!~$%./_-]|[^a-zA-Z0-9\\s]\"\n",
        "\n",
        "# regular expression pattern to match URLs\n",
        "url_pattern = re.compile(r'https?://\\S+|www\\.\\S+')"
      ]
    },
    {
      "cell_type": "code",
      "execution_count": null,
      "metadata": {
        "id": "KGhq8ndl6eOl"
      },
      "outputs": [],
      "source": [
        "# loading tokenizer\n",
        "with open('tokenizer.pickle', 'rb') as handle:\n",
        "    tokenizer = pickle.load(handle)"
      ]
    },
    {
      "cell_type": "code",
      "execution_count": null,
      "metadata": {
        "id": "YNCqGo56of28"
      },
      "outputs": [],
      "source": [
        "# load the model from disk\n",
        "svc_model = pickle.load(open(\"svc_model.sav\", 'rb'))\n",
        "mlp_model = pickle.load(open(\"mlp_model.sav\", 'rb'))\n",
        "xgb_model = pickle.load(open(\"xgb_model.sav\", 'rb'))\n",
        "rnn_model = load_model(\"RNN_model.h5\")"
      ]
    },
    {
      "cell_type": "code",
      "execution_count": null,
      "metadata": {
        "id": "6qG5X07dohad"
      },
      "outputs": [],
      "source": [
        "\n",
        "def tweet_preproc(tweet):\n",
        "    max_length = 46\n",
        "    features = tweet\n",
        "    features = pd.Series(features) # convert string to Series\n",
        "    features = features.apply(lambda x: url_pattern.sub('', x))\n",
        "    features = features.apply(lambda x: ' '.join([word for word in x.split() if word.lower() not in stop_words]))\n",
        "    features = features.apply(lambda x: re.sub(pattern, '', x))\n",
        "\n",
        "    # convert the documents to integer sequences\n",
        "    features_seq = tokenizer.texts_to_sequences(features)\n",
        "    # Pad the input data with zeros\n",
        "    padded_features = pad_sequences(features_seq, maxlen=max_length, padding='post', value=0)\n",
        "\n",
        "    return padded_features"
      ]
    },
    {
      "cell_type": "code",
      "execution_count": null,
      "metadata": {
        "id": "E7Ah_SoU96Pz"
      },
      "outputs": [],
      "source": [
        "\n",
        "def pred_tweet(text, model_name):\n",
        "  if model_name == \"rnn\":\n",
        "     model = rnn_model\n",
        "     tweet_tok = tweet_preproc(text)\n",
        "     pred = model.predict(tweet_tok)\n",
        "     if pred > 0.5:\n",
        "         tweet_sent = \"Tweet favours Bola Ahmed Tinubu\"\n",
        "         conf = (100*((pred[0]-0.5)/0.5))[0]\n",
        "     if pred < 0.5:\n",
        "         tweet_sent = \"Tweet favours Peter obi\"\n",
        "         conf = (100*((0.5-pred[0])/0.5))[0]\n",
        "  if model_name == \"svc\":\n",
        "     model = svc_model\n",
        "     tweet_tok = tweet_preproc(text)\n",
        "     pred = model.predict(tweet_tok)\n",
        "     probs = (model.predict_proba(tweet_tok))\n",
        "     if pred > 0.5:\n",
        "         tweet_sent = \"Tweet favours Bola Ahmed Tinubu\"\n",
        "         conf = probs[0][1]\n",
        "     if pred < 0.5:\n",
        "         tweet_sent = \"Tweet favours Peter obi\"\n",
        "         conf = probs[0][0]\n",
        "  if model_name == \"mlp\":\n",
        "     model = mlp_model\n",
        "     tweet_tok = tweet_preproc(text)\n",
        "     pred = model.predict(tweet_tok)\n",
        "     probs = (model.predict_proba(tweet_tok))\n",
        "     if pred > 0.5:\n",
        "         tweet_sent = \"Tweet favours Bola Ahmed Tinubu\"\n",
        "         conf = probs[0][1]\n",
        "     if pred < 0.5:\n",
        "         tweet_sent = \"Tweet favours Peter obi\"\n",
        "         conf = probs[0][0]\n",
        "  if model_name == \"xgb\":\n",
        "     model = xgb_model\n",
        "     tweet_tok = tweet_preproc(text)\n",
        "     pred = model.predict(tweet_tok)\n",
        "     probs = (model.predict_proba(tweet_tok))\n",
        "     if pred > 0.5:\n",
        "         tweet_sent = \"Tweet favours Bola Ahmed Tinubu\"\n",
        "         conf = probs[0][1]\n",
        "     if pred < 0.5:\n",
        "         tweet_sent = \"Tweet favours Peter obi\"\n",
        "         conf = probs[0][1]\n",
        "\n",
        "  return tweet_sent, conf"
      ]
    },
    {
      "cell_type": "code",
      "execution_count": null,
      "metadata": {
        "colab": {
          "base_uri": "https://localhost:8080/"
        },
        "id": "c2MlCqvctARE",
        "outputId": "f9e5b6fe-34f8-4ee4-8726-b95609f1654f"
      },
      "outputs": [
        {
          "data": {
            "text/plain": [
              "('Tweet favours Peter obi', 0.35206553)"
            ]
          },
          "execution_count": 68,
          "metadata": {},
          "output_type": "execute_result"
        }
      ],
      "source": [
        "pred_tweet(text=\"condemn attacks LP supporters Lagos today\", model_name=\"xgb\")"
      ]
    },
    {
      "cell_type": "code",
      "execution_count": null,
      "metadata": {
        "id": "a7escUbQ9yK6"
      },
      "outputs": [],
      "source": [
        "\n",
        "def pred_tweets(tweet_list, model):\n",
        "  tweets_sent_dic = []\n",
        "  avrg_tweet_sent = []\n",
        "  for tweet in tweet_list:\n",
        "    tweet_sent, prediction = pred_tweet(tweet)\n",
        "    dic = [tweet:'tweet_sent']\n",
        "    tweets_sent_dic.append(dic)\n",
        "    avrg_tweet_sent.append(prediction)\n",
        "  avrg_tweet_sent = avrg(avrg_tweet_sent)\n",
        "  return tweets_sent_dic, avrg_tweet_sent"
      ]
    },
    {
      "cell_type": "code",
      "execution_count": null,
      "metadata": {
        "id": "dBkOzFXpqUDx"
      },
      "outputs": [],
      "source": [
        "test = \"The Lamidi Apapa faction of Labour Party on Friday told the presidential candidate of the party, Peter Obi, to step down his case at the Presidential Election Petitions Tribunal over what they described as lack of seriousness According to the faction, the advice became\""
      ]
    },
    {
      "cell_type": "code",
      "execution_count": null,
      "metadata": {
        "id": "ODZ0Yx7oqxTw"
      },
      "outputs": [],
      "source": [
        "test = \"The Presidential Election Petition Court, PEPC, sitting in Abuja, on Saturday, struck out an application the candidate of the Labour Party, LP, Mr Peter Obi, filed for permission to interrogate the Independent National Electoral Commission, INEC, on the technology it deployed for\""
      ]
    },
    {
      "cell_type": "code",
      "execution_count": null,
      "metadata": {
        "id": "Fb6bXCEWrB50"
      },
      "outputs": [],
      "source": [
        "test = \"Abuja Residents who took Tinubu to court on 25% FCT votes went home disappointed.   To God be the glory\""
      ]
    },
    {
      "cell_type": "code",
      "execution_count": null,
      "metadata": {
        "id": "VzNfNKWsrVX8"
      },
      "outputs": [],
      "source": [
        "test = \"PART 3/ TINUBU’S TEAM IN WASHINGTON   (13)   The reports of some irregularities and violence in some polling units could not have affected the overall outcome of the elections too. There are 176,974 polling units in Nigeria and infractions and violence were recorded in less than…\""
      ]
    },
    {
      "cell_type": "code",
      "execution_count": null,
      "metadata": {
        "id": "Z1O0vG9nrllh"
      },
      "outputs": [],
      "source": [
        "test = \"Tinubu seeks better, patriotic citizens in Sallah message to Nigerians – lagostoday\""
      ]
    },
    {
      "cell_type": "code",
      "execution_count": null,
      "metadata": {
        "id": "m1c3_a5Qr6tc"
      },
      "outputs": [],
      "source": [
        "test = \"Wahala, wahala, wahala! PDP is finished!! We welcome this diversion of some PDP votes to Labour Party. Both parties will sink!\""
      ]
    },
    {
      "cell_type": "code",
      "execution_count": null,
      "metadata": {
        "id": "s0xJ3X53zZAU"
      },
      "outputs": [],
      "source": [
        "test = \"Jungle has over matured in Jigawa. As we get to the deep end of the campaigns, brace yourself for the separation of the boys from the men!   Labour Party Governorship Candidate In Jigawa Defects To APC – Channels Television\""
      ]
    },
    {
      "cell_type": "code",
      "execution_count": null,
      "metadata": {
        "colab": {
          "base_uri": "https://localhost:8080/"
        },
        "id": "FTKOT625_s5-",
        "outputId": "90bc6f12-bdc4-471b-cc1b-4a494dda833d"
      },
      "outputs": [
        {
          "data": {
            "text/plain": [
              "('Tweet favours Bola Ahmed Tinubu',\n",
              " array([[3.6621094e-04, 9.9963379e-01]], dtype=float32))"
            ]
          },
          "execution_count": 236,
          "metadata": {},
          "output_type": "execute_result"
        }
      ],
      "source": [
        "pred_tweet(test, \"svc\")"
      ]
    },
    {
      "cell_type": "code",
      "execution_count": null,
      "metadata": {
        "colab": {
          "base_uri": "https://localhost:8080/"
        },
        "id": "ivrbsmJS_x9p",
        "outputId": "cdf654b2-9658-4985-b629-99a3fae2c45d"
      },
      "outputs": [
        {
          "name": "stdout",
          "output_type": "stream",
          "text": [
            "1/1 [==============================] - 0s 44ms/step\n",
            "Class of text is '1' \n"
          ]
        }
      ],
      "source": [
        "\n",
        "tweet = tweet_preproc(\"peter obi is my president\")\n",
        "prediction = rnn_model.predict(tweet)\n",
        "if prediction > 0.5:\n",
        "   print(\"Class of text is '1' \")\n",
        "else:\n",
        "   print(\"Class of text is '0' \")"
      ]
    },
    {
      "cell_type": "code",
      "execution_count": null,
      "metadata": {
        "colab": {
          "base_uri": "https://localhost:8080/"
        },
        "id": "-7Iev_NwAF_3",
        "outputId": "dd6b4e83-955d-44b5-82d3-86392b8eedab"
      },
      "outputs": [
        {
          "name": "stdout",
          "output_type": "stream",
          "text": [
            "[[0.99955475]]\n"
          ]
        }
      ],
      "source": [
        "print(prediction)"
      ]
    },
    {
      "cell_type": "code",
      "execution_count": null,
      "metadata": {
        "colab": {
          "base_uri": "https://localhost:8080/"
        },
        "id": "A_R9o4SOHiYe",
        "outputId": "a333863b-7c71-4968-ac82-98cf7659af38"
      },
      "outputs": [
        {
          "ename": "AttributeError",
          "evalue": "ignored",
          "output_type": "error",
          "traceback": [
            "\u001b[0;31m---------------------------------------------------------------------------\u001b[0m",
            "\u001b[0;31mAttributeError\u001b[0m                            Traceback (most recent call last)",
            "\u001b[0;32m<ipython-input-22-890d206285bc>\u001b[0m in \u001b[0;36m<cell line: 1>\u001b[0;34m()\u001b[0m\n\u001b[0;32m----> 1\u001b[0;31m \u001b[0mpredi\u001b[0m \u001b[0;34m=\u001b[0m \u001b[0mrnn_model\u001b[0m\u001b[0;34m.\u001b[0m\u001b[0mpredict_proba\u001b[0m\u001b[0;34m(\u001b[0m\u001b[0mtweet\u001b[0m\u001b[0;34m)\u001b[0m\u001b[0;34m\u001b[0m\u001b[0;34m\u001b[0m\u001b[0m\n\u001b[0m",
            "\u001b[0;31mAttributeError\u001b[0m: 'Sequential' object has no attribute 'predict_proba'"
          ]
        }
      ],
      "source": [
        "predi = rnn_model.predict_proba(tweet)"
      ]
    },
    {
      "cell_type": "code",
      "execution_count": null,
      "metadata": {
        "id": "37CR-Ov-HYLL"
      },
      "outputs": [],
      "source": [
        "print(classes)"
      ]
    }
  ],
  "metadata": {
    "accelerator": "GPU",
    "colab": {
      "collapsed_sections": [
        "iAF2VzUJ9thw"
      ],
      "provenance": [],
      "gpuType": "T4",
      "mount_file_id": "1fMTvg61iU4JYiWfXJ1oLmFceey82Kf8b",
      "authorship_tag": "ABX9TyMA8zS6eLp06f/wzFE06mKH",
      "include_colab_link": true
    },
    "kernelspec": {
      "display_name": "Python 3",
      "name": "python3"
    },
    "language_info": {
      "name": "python"
    }
  },
  "nbformat": 4,
  "nbformat_minor": 0
}